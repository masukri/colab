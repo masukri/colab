{
  "nbformat": 4,
  "nbformat_minor": 0,
  "metadata": {
    "colab": {
      "name": "Tool python Youtube - by soiqualang.ipynb",
      "version": "0.3.2",
      "provenance": [],
      "toc_visible": true,
      "include_colab_link": true
    },
    "kernelspec": {
      "name": "python3",
      "display_name": "Python 3"
    }
  },
  "cells": [
    {
      "cell_type": "markdown",
      "metadata": {
        "id": "view-in-github",
        "colab_type": "text"
      },
      "source": [
        "<a href=\"https://colab.research.google.com/github/soiqualang/colab/blob/master/Tool_python_Youtube_by_soiqualang.ipynb\" target=\"_parent\"><img src=\"https://colab.research.google.com/assets/colab-badge.svg\" alt=\"Open In Colab\"/></a>"
      ]
    },
    {
      "cell_type": "code",
      "metadata": {
        "id": "kuOhiSamc5kO",
        "colab_type": "code",
        "colab": {}
      },
      "source": [
        "#autosub\n",
        "!sudo add-apt-repository ppa:mc3man/trusty-media\n",
        "!sudo apt-get update\n",
        "!sudo apt-get install ffmpeg -y\n",
        "!sudo pip install autosub\n",
        "\n",
        "#Download youtube\n",
        "!pip install pytube\n",
        "\n",
        "#youtube 2 mp3\n",
        "!pip install youtube_dl"
      ],
      "execution_count": 0,
      "outputs": []
    },
    {
      "cell_type": "code",
      "metadata": {
        "id": "UNzeybNAcSfN",
        "colab_type": "code",
        "colab": {}
      },
      "source": [
        "import requests"
      ],
      "execution_count": 0,
      "outputs": []
    },
    {
      "cell_type": "markdown",
      "metadata": {
        "id": "ZTBu48GNcDEI",
        "colab_type": "text"
      },
      "source": [
        "#Download video"
      ]
    },
    {
      "cell_type": "code",
      "metadata": {
        "id": "Ebe1ZjRqcB5p",
        "colab_type": "code",
        "colab": {}
      },
      "source": [
        ""
      ],
      "execution_count": 0,
      "outputs": []
    }
  ]
}