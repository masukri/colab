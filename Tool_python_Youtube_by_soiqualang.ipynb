{
  "nbformat": 4,
  "nbformat_minor": 0,
  "metadata": {
    "colab": {
      "name": "Tool python Youtube - by soiqualang.ipynb",
      "version": "0.3.2",
      "provenance": [],
      "collapsed_sections": [],
      "toc_visible": true,
      "include_colab_link": true
    },
    "kernelspec": {
      "name": "python3",
      "display_name": "Python 3"
    }
  },
  "cells": [
    {
      "cell_type": "markdown",
      "metadata": {
        "id": "view-in-github",
        "colab_type": "text"
      },
      "source": [
        "<a href=\"https://colab.research.google.com/github/soiqualang/colab/blob/master/Tool_python_Youtube_by_soiqualang.ipynb\" target=\"_parent\"><img src=\"https://colab.research.google.com/assets/colab-badge.svg\" alt=\"Open In Colab\"/></a>"
      ]
    },
    {
      "cell_type": "code",
      "metadata": {
        "id": "kuOhiSamc5kO",
        "colab_type": "code",
        "colab": {}
      },
      "source": [
        "#autosub\n",
        "!sudo add-apt-repository ppa:mc3man/trusty-media\n",
        "!sudo apt-get update\n",
        "!sudo apt-get install ffmpeg -y\n",
        "!sudo pip install autosub\n",
        "\n",
        "#Download youtube\n",
        "!pip install pytube\n",
        "\n",
        "#youtube 2 mp3\n",
        "!pip install youtube_dl"
      ],
      "execution_count": 0,
      "outputs": []
    },
    {
      "cell_type": "code",
      "metadata": {
        "id": "UNzeybNAcSfN",
        "colab_type": "code",
        "colab": {}
      },
      "source": [
        "import requests\n",
        "from __future__ import unicode_literals\n",
        "import youtube_dl"
      ],
      "execution_count": 0,
      "outputs": []
    },
    {
      "cell_type": "markdown",
      "metadata": {
        "id": "ZTBu48GNcDEI",
        "colab_type": "text"
      },
      "source": [
        "#Download video\n",
        "\n",
        "https://github.com/soiqualang/youtube-dl#format-selection"
      ]
    },
    {
      "cell_type": "code",
      "metadata": {
        "id": "J8ierHgeyTJn",
        "colab_type": "code",
        "colab": {}
      },
      "source": [
        "def youtube2video(download_path,youtube_url):\n",
        "    Location = '%s soiqualang_%(extractor)s-%(id)s-%(title)s.%(ext)s'.replace(\"%s \", download_path)\n",
        "    ytdl_format_options = {\n",
        "        'outtmpl': Location\n",
        "    }\n",
        "    with youtube_dl.YoutubeDL(ytdl_format_options) as ydl:\n",
        "         ydl.download([youtube_url])"
      ],
      "execution_count": 0,
      "outputs": []
    },
    {
      "cell_type": "code",
      "metadata": {
        "id": "HxQS23GeyltJ",
        "colab_type": "code",
        "colab": {}
      },
      "source": [
        "youtube2video('concoc/','http://www.youtube.com/watch?v=BaW_jenozKc')"
      ],
      "execution_count": 0,
      "outputs": []
    },
    {
      "cell_type": "markdown",
      "metadata": {
        "id": "n0u-uUJUwCg3",
        "colab_type": "text"
      },
      "source": [
        "#Download mp3"
      ]
    },
    {
      "cell_type": "code",
      "metadata": {
        "id": "rMPKwW1cy7ul",
        "colab_type": "code",
        "colab": {}
      },
      "source": [
        "def youtube2mp3(download_path,youtube_url):\n",
        "    Location = '%s soiqualang_%(extractor)s-%(id)s-%(title)s.%(ext)s'.replace(\"%s \", download_path)\n",
        "    ydl_opts = {\n",
        "        'outtmpl': Location,\n",
        "        'format': 'bestaudio/best',\n",
        "        'postprocessors': [{\n",
        "            'key': 'FFmpegExtractAudio',\n",
        "            'preferredcodec': 'mp3',\n",
        "            'preferredquality': '192',\n",
        "        }],\n",
        "    }\n",
        "    with youtube_dl.YoutubeDL(ydl_opts) as ydl:\n",
        "        ydl.download([youtube_url])"
      ],
      "execution_count": 0,
      "outputs": []
    },
    {
      "cell_type": "code",
      "metadata": {
        "id": "IgQLu69dzXHQ",
        "colab_type": "code",
        "colab": {}
      },
      "source": [
        "youtube2mp3('concoc/','http://www.youtube.com/watch?v=BaW_jenozKc')"
      ],
      "execution_count": 0,
      "outputs": []
    },
    {
      "cell_type": "markdown",
      "metadata": {
        "id": "4M2X594tz5TI",
        "colab_type": "text"
      },
      "source": [
        "#Get all video in youtube list"
      ]
    },
    {
      "cell_type": "code",
      "metadata": {
        "id": "SCmIpIm0vhXl",
        "colab_type": "code",
        "colab": {}
      },
      "source": [
        "def get_listvideo(url):\n",
        "    #url=\"https://www.youtube.com/channel/UCIKTHNRRnVP5d8FpDI5YhXQ/videos\"\n",
        "    page = requests.get(url).content\n",
        "    data = str(page).split(' ')\n",
        "    item = 'href=\"/watch?'\n",
        "    vids = [line.replace('href=\"', 'youtube.com') for line in data if item in line] # list of all videos listed twice\n",
        "    #print(vids[0]) # index the latest video\n",
        "    return vids"
      ],
      "execution_count": 0,
      "outputs": []
    },
    {
      "cell_type": "code",
      "metadata": {
        "id": "RSvkNvfw0RN3",
        "colab_type": "code",
        "colab": {}
      },
      "source": [
        "lvideo=get_listvideo('https://www.youtube.com/channel/UCIKTHNRRnVP5d8FpDI5YhXQ/videos')"
      ],
      "execution_count": 0,
      "outputs": []
    },
    {
      "cell_type": "markdown",
      "metadata": {
        "id": "5CC0Qko11_tT",
        "colab_type": "text"
      },
      "source": [
        "## Convert youtube to text"
      ]
    },
    {
      "cell_type": "code",
      "metadata": {
        "id": "l_PG2Adm1HxR",
        "colab_type": "code",
        "colab": {
          "base_uri": "https://localhost:8080/",
          "height": 34
        },
        "outputId": "32e3b613-6d8a-4cf9-9b96-f99752260b4a"
      },
      "source": [
        "cd /content/concoc/"
      ],
      "execution_count": 34,
      "outputs": [
        {
          "output_type": "stream",
          "text": [
            "/content/concoc\n"
          ],
          "name": "stdout"
        }
      ]
    },
    {
      "cell_type": "code",
      "metadata": {
        "id": "SUVktkLQ1Hql",
        "colab_type": "code",
        "colab": {}
      },
      "source": [
        "!mv soiqualang_youtube-BaW_jenozKc-youtube-dl\\ test\\ video\\ \\'\\'_ä↭𝕐.mp4 t3.mp4"
      ],
      "execution_count": 0,
      "outputs": []
    },
    {
      "cell_type": "code",
      "metadata": {
        "id": "LcsK-OOR1N6I",
        "colab_type": "code",
        "colab": {}
      },
      "source": [
        "!autosub \"/content/concoc/t3.mp4\" -S vi -D vi -F raw"
      ],
      "execution_count": 0,
      "outputs": []
    },
    {
      "cell_type": "code",
      "metadata": {
        "id": "RcR4Y1uM1Wrq",
        "colab_type": "code",
        "colab": {}
      },
      "source": [
        "!autosub \"/content/concoc/t3.mp4\" -S vi -D vi"
      ],
      "execution_count": 0,
      "outputs": []
    },
    {
      "cell_type": "code",
      "metadata": {
        "id": "gZ9XzfLw1iHl",
        "colab_type": "code",
        "colab": {}
      },
      "source": [
        "!autosub \"/content/concoc/t3.mp4\""
      ],
      "execution_count": 0,
      "outputs": []
    },
    {
      "cell_type": "code",
      "metadata": {
        "id": "VO_irMh31sM4",
        "colab_type": "code",
        "colab": {}
      },
      "source": [
        ""
      ],
      "execution_count": 0,
      "outputs": []
    }
  ]
}