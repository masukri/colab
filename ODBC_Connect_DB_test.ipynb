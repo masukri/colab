{
  "nbformat": 4,
  "nbformat_minor": 0,
  "metadata": {
    "colab": {
      "name": "ODBC_Connect_DB_test.ipynb",
      "version": "0.3.2",
      "provenance": [],
      "collapsed_sections": [],
      "toc_visible": true,
      "include_colab_link": true
    },
    "kernelspec": {
      "name": "python3",
      "display_name": "Python 3"
    }
  },
  "cells": [
    {
      "cell_type": "markdown",
      "metadata": {
        "id": "view-in-github",
        "colab_type": "text"
      },
      "source": [
        "<a href=\"https://colab.research.google.com/github/soiqualang/colab/blob/master/ODBC_Connect_DB_test.ipynb\" target=\"_parent\"><img src=\"https://colab.research.google.com/assets/colab-badge.svg\" alt=\"Open In Colab\"/></a>"
      ]
    },
    {
      "cell_type": "code",
      "metadata": {
        "id": "IxeXFPzfLIJI",
        "colab_type": "code",
        "outputId": "d2d25eb5-3f21-496b-eb5a-1a936aacd2e3",
        "colab": {
          "base_uri": "https://localhost:8080/",
          "height": 207
        }
      },
      "source": [
        "!pip install pyodbc"
      ],
      "execution_count": 0,
      "outputs": [
        {
          "output_type": "stream",
          "text": [
            "Collecting pyodbc\n",
            "  Using cached https://files.pythonhosted.org/packages/b4/41/f3eb5e56af207a8fcc02f1f84cc3fed9fcf315565e65f418ae815e399929/pyodbc-4.0.26.tar.gz\n",
            "Building wheels for collected packages: pyodbc\n",
            "  Building wheel for pyodbc (setup.py) ... \u001b[?25lerror\n",
            "\u001b[31m  ERROR: Failed building wheel for pyodbc\u001b[0m\n",
            "\u001b[?25h  Running setup.py clean for pyodbc\n",
            "Failed to build pyodbc\n",
            "Installing collected packages: pyodbc\n",
            "  Running setup.py install for pyodbc ... \u001b[?25l\u001b[?25herror\n",
            "\u001b[31mERROR: Command \"/usr/bin/python3 -u -c 'import setuptools, tokenize;__file__='\"'\"'/tmp/pip-install-xp15g6x6/pyodbc/setup.py'\"'\"';f=getattr(tokenize, '\"'\"'open'\"'\"', open)(__file__);code=f.read().replace('\"'\"'\\r\\n'\"'\"', '\"'\"'\\n'\"'\"');f.close();exec(compile(code, __file__, '\"'\"'exec'\"'\"'))' install --record /tmp/pip-record-07ckfd69/install-record.txt --single-version-externally-managed --compile\" failed with error code 1 in /tmp/pip-install-xp15g6x6/pyodbc/\u001b[0m\n"
          ],
          "name": "stdout"
        }
      ]
    },
    {
      "cell_type": "code",
      "metadata": {
        "id": "rKSQ4R8fJ-Jt",
        "colab_type": "code",
        "outputId": "6efc40ec-cd8c-456c-bdd8-6983edcafff6",
        "colab": {
          "base_uri": "https://localhost:8080/",
          "height": 34
        }
      },
      "source": [
        "!python --version"
      ],
      "execution_count": 0,
      "outputs": [
        {
          "output_type": "stream",
          "text": [
            "Python 3.6.7\n"
          ],
          "name": "stdout"
        }
      ]
    },
    {
      "cell_type": "code",
      "metadata": {
        "id": "HFTHXjAkKIC_",
        "colab_type": "code",
        "outputId": "63b241f1-5e92-4d1c-f208-491020db86a8",
        "colab": {
          "base_uri": "https://localhost:8080/",
          "height": 224
        }
      },
      "source": [
        "!wget https://files.pythonhosted.org/packages/d1/28/23557abead9eaf74ceab8ff080bc41dc2ac7b25022b25687fba1e06535cb/pyodbc-4.0.26-cp36-cp36m-win32.whl"
      ],
      "execution_count": 0,
      "outputs": [
        {
          "output_type": "stream",
          "text": [
            "--2019-06-03 16:35:29--  https://files.pythonhosted.org/packages/d1/28/23557abead9eaf74ceab8ff080bc41dc2ac7b25022b25687fba1e06535cb/pyodbc-4.0.26-cp36-cp36m-win32.whl\n",
            "Resolving files.pythonhosted.org (files.pythonhosted.org)... 151.101.1.63, 151.101.65.63, 151.101.129.63, ...\n",
            "Connecting to files.pythonhosted.org (files.pythonhosted.org)|151.101.1.63|:443... connected.\n",
            "HTTP request sent, awaiting response... 200 OK\n",
            "Length: 55039 (54K) [binary/octet-stream]\n",
            "Saving to: ‘pyodbc-4.0.26-cp36-cp36m-win32.whl’\n",
            "\n",
            "\r          pyodbc-4.   0%[                    ]       0  --.-KB/s               \rpyodbc-4.0.26-cp36- 100%[===================>]  53.75K  --.-KB/s    in 0.02s   \n",
            "\n",
            "2019-06-03 16:35:30 (3.03 MB/s) - ‘pyodbc-4.0.26-cp36-cp36m-win32.whl’ saved [55039/55039]\n",
            "\n"
          ],
          "name": "stdout"
        }
      ]
    },
    {
      "cell_type": "code",
      "metadata": {
        "id": "xdH7EtD1MOWN",
        "colab_type": "code",
        "outputId": "93aebeea-2c1b-4c4e-8873-8c863062ff17",
        "colab": {
          "base_uri": "https://localhost:8080/",
          "height": 34
        }
      },
      "source": [
        "!pip install pyodbc-4.0.26-cp36-cp36m-win32.whl"
      ],
      "execution_count": 0,
      "outputs": [
        {
          "output_type": "stream",
          "text": [
            "\u001b[31mERROR: pyodbc-4.0.26-cp36-cp36m-win32.whl is not a supported wheel on this platform.\u001b[0m\n"
          ],
          "name": "stdout"
        }
      ]
    },
    {
      "cell_type": "code",
      "metadata": {
        "id": "Gbq-HdN3MadS",
        "colab_type": "code",
        "outputId": "fb7405b6-0d56-4309-f8b2-b4ad460d1df9",
        "colab": {
          "base_uri": "https://localhost:8080/",
          "height": 224
        }
      },
      "source": [
        "!wget https://files.pythonhosted.org/packages/b4/41/f3eb5e56af207a8fcc02f1f84cc3fed9fcf315565e65f418ae815e399929/pyodbc-4.0.26.tar.gz"
      ],
      "execution_count": 0,
      "outputs": [
        {
          "output_type": "stream",
          "text": [
            "--2019-06-03 16:36:45--  https://files.pythonhosted.org/packages/b4/41/f3eb5e56af207a8fcc02f1f84cc3fed9fcf315565e65f418ae815e399929/pyodbc-4.0.26.tar.gz\n",
            "Resolving files.pythonhosted.org (files.pythonhosted.org)... 151.101.1.63, 151.101.65.63, 151.101.129.63, ...\n",
            "Connecting to files.pythonhosted.org (files.pythonhosted.org)|151.101.1.63|:443... connected.\n",
            "HTTP request sent, awaiting response... 200 OK\n",
            "Length: 219802 (215K) [binary/octet-stream]\n",
            "Saving to: ‘pyodbc-4.0.26.tar.gz’\n",
            "\n",
            "\rpyodbc-4.0.26.tar.g   0%[                    ]       0  --.-KB/s               \rpyodbc-4.0.26.tar.g 100%[===================>] 214.65K  --.-KB/s    in 0.03s   \n",
            "\n",
            "2019-06-03 16:36:45 (7.32 MB/s) - ‘pyodbc-4.0.26.tar.gz’ saved [219802/219802]\n",
            "\n"
          ],
          "name": "stdout"
        }
      ]
    },
    {
      "cell_type": "code",
      "metadata": {
        "id": "-BOMkMw_M0JO",
        "colab_type": "code",
        "colab": {}
      },
      "source": [
        "!tar -xzf pyodbc-4.0.26.tar.gz"
      ],
      "execution_count": 0,
      "outputs": []
    },
    {
      "cell_type": "code",
      "metadata": {
        "id": "7ZNMrSjKNEhh",
        "colab_type": "code",
        "outputId": "b8536ea0-28f4-4c0a-e02a-a9e1f895c2f6",
        "colab": {
          "base_uri": "https://localhost:8080/",
          "height": 34
        }
      },
      "source": [
        "cd pyodbc-4.0.26/"
      ],
      "execution_count": 0,
      "outputs": [
        {
          "output_type": "stream",
          "text": [
            "/content/pyodbc-4.0.26\n"
          ],
          "name": "stdout"
        }
      ]
    },
    {
      "cell_type": "code",
      "metadata": {
        "id": "faCQYFmVNH-w",
        "colab_type": "code",
        "outputId": "fc7bdd3e-0eb4-48ad-8715-68af8ba55864",
        "colab": {
          "base_uri": "https://localhost:8080/",
          "height": 428
        }
      },
      "source": [
        "!python setup.py install --user"
      ],
      "execution_count": 0,
      "outputs": [
        {
          "output_type": "stream",
          "text": [
            "running install\n",
            "running bdist_egg\n",
            "running egg_info\n",
            "writing pyodbc.egg-info/PKG-INFO\n",
            "writing dependency_links to pyodbc.egg-info/dependency_links.txt\n",
            "writing top-level names to pyodbc.egg-info/top_level.txt\n",
            "reading manifest file 'pyodbc.egg-info/SOURCES.txt'\n",
            "reading manifest template 'MANIFEST.in'\n",
            "writing manifest file 'pyodbc.egg-info/SOURCES.txt'\n",
            "installing library code to build/bdist.linux-x86_64/egg\n",
            "running install_lib\n",
            "running build_ext\n",
            "building 'pyodbc' extension\n",
            "creating build\n",
            "creating build/temp.linux-x86_64-3.6\n",
            "creating build/temp.linux-x86_64-3.6/src\n",
            "x86_64-linux-gnu-gcc -pthread -DNDEBUG -g -fwrapv -O2 -Wall -g -fstack-protector-strong -Wformat -Werror=format-security -Wdate-time -D_FORTIFY_SOURCE=2 -fPIC -DPYODBC_VERSION=4.0.26 -I/usr/include/python3.6m -c src/buffer.cpp -o build/temp.linux-x86_64-3.6/src/buffer.o -Wno-write-strings\n",
            "In file included from \u001b[01m\u001b[Ksrc/buffer.cpp:12:0\u001b[m\u001b[K:\n",
            "\u001b[01m\u001b[Ksrc/pyodbc.h:56:10:\u001b[m\u001b[K \u001b[01;31m\u001b[Kfatal error: \u001b[m\u001b[Ksql.h: No such file or directory\n",
            " #include \u001b[01;31m\u001b[K<sql.h>\u001b[m\u001b[K\n",
            "          \u001b[01;31m\u001b[K^~~~~~~\u001b[m\u001b[K\n",
            "compilation terminated.\n",
            "error: command 'x86_64-linux-gnu-gcc' failed with exit status 1\n"
          ],
          "name": "stdout"
        }
      ]
    },
    {
      "cell_type": "code",
      "metadata": {
        "id": "f3b7IDJLRJHX",
        "colab_type": "code",
        "outputId": "5bffd9b7-17c6-40df-b78e-15b43f95f177",
        "colab": {
          "base_uri": "https://localhost:8080/",
          "height": 119
        }
      },
      "source": [
        "!git clone https://github.com/mkleehammer/pyodbc.git"
      ],
      "execution_count": 0,
      "outputs": [
        {
          "output_type": "stream",
          "text": [
            "Cloning into 'pyodbc'...\n",
            "remote: Enumerating objects: 1, done.\u001b[K\n",
            "remote: Counting objects: 100% (1/1)   \u001b[K\rremote: Counting objects: 100% (1/1), done.\u001b[K\n",
            "Receiving objects:   0% (1/1816)   \rReceiving objects:   1% (19/1816)   \rReceiving objects:   2% (37/1816)   \rReceiving objects:   3% (55/1816)   \rReceiving objects:   4% (73/1816)   \rReceiving objects:   5% (91/1816)   \rReceiving objects:   6% (109/1816)   \rReceiving objects:   7% (128/1816)   \rReceiving objects:   8% (146/1816)   \rReceiving objects:   9% (164/1816)   \rReceiving objects:  10% (182/1816)   \rReceiving objects:  11% (200/1816)   \rReceiving objects:  12% (218/1816)   \rReceiving objects:  13% (237/1816)   \rReceiving objects:  14% (255/1816)   \rReceiving objects:  15% (273/1816)   \rReceiving objects:  16% (291/1816)   \rReceiving objects:  17% (309/1816)   \rReceiving objects:  18% (327/1816)   \rReceiving objects:  19% (346/1816)   \rReceiving objects:  20% (364/1816)   \rReceiving objects:  21% (382/1816)   \rReceiving objects:  22% (400/1816)   \rReceiving objects:  23% (418/1816)   \rReceiving objects:  24% (436/1816)   \rReceiving objects:  25% (454/1816)   \rReceiving objects:  26% (473/1816)   \rReceiving objects:  27% (491/1816)   \rReceiving objects:  28% (509/1816)   \rReceiving objects:  29% (527/1816)   \rReceiving objects:  30% (545/1816)   \rReceiving objects:  31% (563/1816)   \rReceiving objects:  32% (582/1816)   \rReceiving objects:  33% (600/1816)   \rReceiving objects:  34% (618/1816)   \rReceiving objects:  35% (636/1816)   \rReceiving objects:  36% (654/1816)   \rReceiving objects:  37% (672/1816)   \rReceiving objects:  38% (691/1816)   \rReceiving objects:  39% (709/1816)   \rReceiving objects:  40% (727/1816)   \rReceiving objects:  41% (745/1816)   \rReceiving objects:  42% (763/1816)   \rReceiving objects:  43% (781/1816)   \rReceiving objects:  44% (800/1816)   \rReceiving objects:  45% (818/1816)   \rReceiving objects:  46% (836/1816)   \rReceiving objects:  47% (854/1816)   \rReceiving objects:  48% (872/1816)   \rReceiving objects:  49% (890/1816)   \rReceiving objects:  50% (908/1816)   \rReceiving objects:  51% (927/1816)   \rReceiving objects:  52% (945/1816)   \rReceiving objects:  53% (963/1816)   \rReceiving objects:  54% (981/1816)   \rReceiving objects:  55% (999/1816)   \rReceiving objects:  56% (1017/1816)   \rReceiving objects:  57% (1036/1816)   \rReceiving objects:  58% (1054/1816)   \rReceiving objects:  59% (1072/1816)   \rReceiving objects:  60% (1090/1816)   \rReceiving objects:  61% (1108/1816)   \rReceiving objects:  62% (1126/1816)   \rReceiving objects:  63% (1145/1816)   \rReceiving objects:  64% (1163/1816)   \rReceiving objects:  65% (1181/1816)   \rReceiving objects:  66% (1199/1816)   \rReceiving objects:  67% (1217/1816)   \rReceiving objects:  68% (1235/1816)   \rReceiving objects:  69% (1254/1816)   \rReceiving objects:  70% (1272/1816)   \rReceiving objects:  71% (1290/1816)   \rReceiving objects:  72% (1308/1816)   \rReceiving objects:  73% (1326/1816)   \rReceiving objects:  74% (1344/1816)   \rReceiving objects:  75% (1362/1816)   \rReceiving objects:  76% (1381/1816)   \rReceiving objects:  77% (1399/1816)   \rReceiving objects:  78% (1417/1816)   \rReceiving objects:  79% (1435/1816)   \rReceiving objects:  80% (1453/1816)   \rReceiving objects:  81% (1471/1816)   \rReceiving objects:  82% (1490/1816)   \rremote: Total 1816 (delta 0), reused 1 (delta 0), pack-reused 1815\u001b[K\n",
            "Receiving objects:  83% (1508/1816)   \rReceiving objects:  84% (1526/1816)   \rReceiving objects:  85% (1544/1816)   \rReceiving objects:  86% (1562/1816)   \rReceiving objects:  87% (1580/1816)   \rReceiving objects:  88% (1599/1816)   \rReceiving objects:  89% (1617/1816)   \rReceiving objects:  90% (1635/1816)   \rReceiving objects:  91% (1653/1816)   \rReceiving objects:  92% (1671/1816)   \rReceiving objects:  93% (1689/1816)   \rReceiving objects:  94% (1708/1816)   \rReceiving objects:  95% (1726/1816)   \rReceiving objects:  96% (1744/1816)   \rReceiving objects:  97% (1762/1816)   \rReceiving objects:  98% (1780/1816)   \rReceiving objects:  99% (1798/1816)   \rReceiving objects: 100% (1816/1816)   \rReceiving objects: 100% (1816/1816), 1.04 MiB | 19.81 MiB/s, done.\n",
            "Resolving deltas:   0% (0/1309)   \rResolving deltas:   3% (47/1309)   \rResolving deltas:   7% (96/1309)   \rResolving deltas:  11% (154/1309)   \rResolving deltas:  14% (186/1309)   \rResolving deltas:  15% (204/1309)   \rResolving deltas:  16% (210/1309)   \rResolving deltas:  17% (223/1309)   \rResolving deltas:  18% (248/1309)   \rResolving deltas:  19% (249/1309)   \rResolving deltas:  22% (298/1309)   \rResolving deltas:  23% (302/1309)   \rResolving deltas:  25% (328/1309)   \rResolving deltas:  26% (348/1309)   \rResolving deltas:  31% (415/1309)   \rResolving deltas:  32% (420/1309)   \rResolving deltas:  33% (434/1309)   \rResolving deltas:  34% (446/1309)   \rResolving deltas:  35% (459/1309)   \rResolving deltas:  36% (479/1309)   \rResolving deltas:  38% (506/1309)   \rResolving deltas:  40% (527/1309)   \rResolving deltas:  43% (570/1309)   \rResolving deltas:  44% (579/1309)   \rResolving deltas:  45% (590/1309)   \rResolving deltas:  46% (610/1309)   \rResolving deltas:  47% (625/1309)   \rResolving deltas:  50% (662/1309)   \rResolving deltas:  51% (669/1309)   \rResolving deltas:  52% (689/1309)   \rResolving deltas:  58% (762/1309)   \rResolving deltas:  59% (773/1309)   \rResolving deltas:  60% (794/1309)   \rResolving deltas:  62% (820/1309)   \rResolving deltas:  63% (829/1309)   \rResolving deltas:  64% (844/1309)   \rResolving deltas:  65% (851/1309)   \rResolving deltas:  68% (891/1309)   \rResolving deltas:  70% (921/1309)   \rResolving deltas:  71% (931/1309)   \rResolving deltas:  72% (951/1309)   \rResolving deltas:  75% (993/1309)   \rResolving deltas:  76% (1001/1309)   \rResolving deltas:  78% (1027/1309)   \rResolving deltas:  79% (1036/1309)   \rResolving deltas:  80% (1059/1309)   \rResolving deltas:  82% (1075/1309)   \rResolving deltas:  84% (1112/1309)   \rResolving deltas:  85% (1116/1309)   \rResolving deltas:  86% (1134/1309)   \rResolving deltas:  87% (1145/1309)   \rResolving deltas:  89% (1172/1309)   \rResolving deltas:  90% (1180/1309)   \rResolving deltas:  91% (1198/1309)   \rResolving deltas:  92% (1207/1309)   \rResolving deltas:  93% (1227/1309)   \rResolving deltas:  94% (1240/1309)   \rResolving deltas:  96% (1259/1309)   \rResolving deltas:  97% (1277/1309)   \rResolving deltas:  98% (1284/1309)   \rResolving deltas:  99% (1296/1309)   \rResolving deltas: 100% (1309/1309)   \rResolving deltas: 100% (1309/1309), done.\n"
          ],
          "name": "stdout"
        }
      ]
    },
    {
      "cell_type": "code",
      "metadata": {
        "id": "xIDlE6k4RLKO",
        "colab_type": "code",
        "outputId": "43b8e206-830c-4440-85ac-823abec818e1",
        "colab": {
          "base_uri": "https://localhost:8080/",
          "height": 34
        }
      },
      "source": [
        "cd pyodbc/"
      ],
      "execution_count": 0,
      "outputs": [
        {
          "output_type": "stream",
          "text": [
            "/content/pyodbc\n"
          ],
          "name": "stdout"
        }
      ]
    },
    {
      "cell_type": "code",
      "metadata": {
        "id": "Uw7AoqeTRR5H",
        "colab_type": "code",
        "outputId": "7c8871b8-3050-475b-fe73-412ae43c2ed6",
        "colab": {
          "base_uri": "https://localhost:8080/",
          "height": 360
        }
      },
      "source": [
        "!python setup.py install --user"
      ],
      "execution_count": 0,
      "outputs": [
        {
          "output_type": "stream",
          "text": [
            "running install\n",
            "running bdist_egg\n",
            "running egg_info\n",
            "writing pyodbc.egg-info/PKG-INFO\n",
            "writing dependency_links to pyodbc.egg-info/dependency_links.txt\n",
            "writing top-level names to pyodbc.egg-info/top_level.txt\n",
            "reading manifest template 'MANIFEST.in'\n",
            "writing manifest file 'pyodbc.egg-info/SOURCES.txt'\n",
            "installing library code to build/bdist.linux-x86_64/egg\n",
            "running install_lib\n",
            "running build_ext\n",
            "building 'pyodbc' extension\n",
            "x86_64-linux-gnu-gcc -pthread -DNDEBUG -g -fwrapv -O2 -Wall -g -fstack-protector-strong -Wformat -Werror=format-security -Wdate-time -D_FORTIFY_SOURCE=2 -fPIC -DPYODBC_VERSION=4.0.27b1 -I/usr/include/python3.6m -c src/buffer.cpp -o build/temp.linux-x86_64-3.6/src/buffer.o -Wno-write-strings\n",
            "In file included from \u001b[01m\u001b[Ksrc/buffer.cpp:12:0\u001b[m\u001b[K:\n",
            "\u001b[01m\u001b[Ksrc/pyodbc.h:56:10:\u001b[m\u001b[K \u001b[01;31m\u001b[Kfatal error: \u001b[m\u001b[Ksql.h: No such file or directory\n",
            " #include \u001b[01;31m\u001b[K<sql.h>\u001b[m\u001b[K\n",
            "          \u001b[01;31m\u001b[K^~~~~~~\u001b[m\u001b[K\n",
            "compilation terminated.\n",
            "error: command 'x86_64-linux-gnu-gcc' failed with exit status 1\n"
          ],
          "name": "stdout"
        }
      ]
    },
    {
      "cell_type": "markdown",
      "metadata": {
        "id": "29f8agK6gphA",
        "colab_type": "text"
      },
      "source": [
        "# =>>>> Install Ok"
      ]
    },
    {
      "cell_type": "code",
      "metadata": {
        "id": "x7fdCdoWE1GQ",
        "colab_type": "code",
        "outputId": "10b853c5-0f54-4f25-8f64-e1978ae905c5",
        "colab": {
          "base_uri": "https://localhost:8080/",
          "height": 170
        }
      },
      "source": [
        " !sudo apt-get install python3.6-dev"
      ],
      "execution_count": 0,
      "outputs": [
        {
          "output_type": "stream",
          "text": [
            "Reading package lists... Done\n",
            "Building dependency tree       \n",
            "Reading state information... Done\n",
            "python3.6-dev is already the newest version (3.6.7-1~18.04).\n",
            "python3.6-dev set to manually installed.\n",
            "The following package was automatically installed and is no longer required:\n",
            "  libnvidia-common-410\n",
            "Use 'sudo apt autoremove' to remove it.\n",
            "0 upgraded, 0 newly installed, 0 to remove and 8 not upgraded.\n"
          ],
          "name": "stdout"
        }
      ]
    },
    {
      "cell_type": "code",
      "metadata": {
        "id": "iYG7AhISZe0W",
        "colab_type": "code",
        "outputId": "894a8f93-9438-45f2-bb94-ee178e136c63",
        "colab": {
          "base_uri": "https://localhost:8080/",
          "height": 462
        }
      },
      "source": [
        "!sudo apt-get install unixodbc-dev"
      ],
      "execution_count": 0,
      "outputs": [
        {
          "output_type": "stream",
          "text": [
            "Reading package lists... Done\n",
            "Building dependency tree       \n",
            "Reading state information... Done\n",
            "The following package was automatically installed and is no longer required:\n",
            "  libnvidia-common-410\n",
            "Use 'sudo apt autoremove' to remove it.\n",
            "The following NEW packages will be installed:\n",
            "  unixodbc-dev\n",
            "0 upgraded, 1 newly installed, 0 to remove and 8 not upgraded.\n",
            "Need to get 217 kB of archives.\n",
            "After this operation, 1,779 kB of additional disk space will be used.\n",
            "Get:1 http://archive.ubuntu.com/ubuntu bionic/main amd64 unixodbc-dev amd64 2.3.4-1.1ubuntu3 [217 kB]\n",
            "Fetched 217 kB in 1s (216 kB/s)\n",
            "debconf: unable to initialize frontend: Dialog\n",
            "debconf: (No usable dialog-like program is installed, so the dialog based frontend cannot be used. at /usr/share/perl5/Debconf/FrontEnd/Dialog.pm line 76, <> line 1.)\n",
            "debconf: falling back to frontend: Readline\n",
            "debconf: unable to initialize frontend: Readline\n",
            "debconf: (This frontend requires a controlling tty.)\n",
            "debconf: falling back to frontend: Teletype\n",
            "dpkg-preconfigure: unable to re-open stdin: \n",
            "Selecting previously unselected package unixodbc-dev:amd64.\n",
            "(Reading database ... 130947 files and directories currently installed.)\n",
            "Preparing to unpack .../unixodbc-dev_2.3.4-1.1ubuntu3_amd64.deb ...\n",
            "Unpacking unixodbc-dev:amd64 (2.3.4-1.1ubuntu3) ...\n",
            "Setting up unixodbc-dev:amd64 (2.3.4-1.1ubuntu3) ...\n"
          ],
          "name": "stdout"
        }
      ]
    },
    {
      "cell_type": "code",
      "metadata": {
        "id": "UNQBV9I3Zgp_",
        "colab_type": "code",
        "outputId": "c4d125e2-88fc-4730-de7c-119e07b350dd",
        "colab": {
          "base_uri": "https://localhost:8080/",
          "height": 173
        }
      },
      "source": [
        "!python3.6 -m pip install pyodbc"
      ],
      "execution_count": 0,
      "outputs": [
        {
          "output_type": "stream",
          "text": [
            "Collecting pyodbc\n",
            "  Using cached https://files.pythonhosted.org/packages/b4/41/f3eb5e56af207a8fcc02f1f84cc3fed9fcf315565e65f418ae815e399929/pyodbc-4.0.26.tar.gz\n",
            "Building wheels for collected packages: pyodbc\n",
            "  Building wheel for pyodbc (setup.py) ... \u001b[?25l\u001b[?25hdone\n",
            "  Stored in directory: /root/.cache/pip/wheels/50/c4/84/44a5d75e4ae22b720b6cf5e84c3f8ffa60fcc3cdc64999672a\n",
            "Successfully built pyodbc\n",
            "Installing collected packages: pyodbc\n",
            "Successfully installed pyodbc-4.0.26\n"
          ],
          "name": "stdout"
        }
      ]
    },
    {
      "cell_type": "code",
      "metadata": {
        "id": "efKSqDcjZiuG",
        "colab_type": "code",
        "outputId": "b11550fd-aa78-43f4-c187-79b0a43b1504",
        "colab": {
          "base_uri": "https://localhost:8080/",
          "height": 34
        }
      },
      "source": [
        "!python -m pip install pyodbc"
      ],
      "execution_count": 0,
      "outputs": [
        {
          "output_type": "stream",
          "text": [
            "Requirement already satisfied: pyodbc in /usr/local/lib/python3.6/dist-packages (4.0.26)\n"
          ],
          "name": "stdout"
        }
      ]
    },
    {
      "cell_type": "code",
      "metadata": {
        "id": "8_3IgYZHZnWm",
        "colab_type": "code",
        "colab": {}
      },
      "source": [
        "import pyodbc"
      ],
      "execution_count": 0,
      "outputs": []
    },
    {
      "cell_type": "markdown",
      "metadata": {
        "id": "kbRmDoGuh-Zg",
        "colab_type": "text"
      },
      "source": [
        "#Docs\n",
        "\n",
        "https://github.com/mkleehammer/pyodbc/wiki\n",
        "\n",
        "https://github.com/mkleehammer/pyodbc/wiki/Drivers-and-Driver-Managers\n",
        "\n",
        "http://media.datadirect.com/download/docs/odbc/allodbc/#page/odbc%2Fsample-default-odbc.ini-file.html%23\n",
        "\n",
        "http://media.datadirect.com/download/docs/odbc/allodbc/#page/odbc%2Fenvironment-configuration.html%23\n",
        "\n",
        "```\n",
        "from the Korn or Borne shell, you would enter:\n",
        "ODBCINI=/opt/odbc/odbc.ini export ODBCINI\n",
        "From the C shell, you would enter:\n",
        "setenv ODBCINI /opt/odbc/odbc.ini\n",
        "```"
      ]
    },
    {
      "cell_type": "markdown",
      "metadata": {
        "id": "xv3rzwSIiKdv",
        "colab_type": "text"
      },
      "source": [
        "## SQlite\n",
        "\n",
        "### install the driver.\n",
        "> sudo apt install libsqliteodbc\n",
        "\n",
        "> cnxn = pyodbc.connect(\"Driver=SQLite3 ODBC Driver;Database=sqlite.db\")\n"
      ]
    },
    {
      "cell_type": "code",
      "metadata": {
        "id": "0q9qughsZqNP",
        "colab_type": "code",
        "outputId": "fe28e707-3ac5-4439-8b0d-dd9e0fecac13",
        "colab": {
          "base_uri": "https://localhost:8080/",
          "height": 564
        }
      },
      "source": [
        "!sudo apt install libsqliteodbc"
      ],
      "execution_count": 0,
      "outputs": [
        {
          "output_type": "stream",
          "text": [
            "Reading package lists... Done\n",
            "Building dependency tree       \n",
            "Reading state information... Done\n",
            "The following package was automatically installed and is no longer required:\n",
            "  libnvidia-common-410\n",
            "Use 'sudo apt autoremove' to remove it.\n",
            "Suggested packages:\n",
            "  unixodbc-bin\n",
            "The following NEW packages will be installed:\n",
            "  libsqliteodbc\n",
            "0 upgraded, 1 newly installed, 0 to remove and 8 not upgraded.\n",
            "Need to get 72.9 kB of archives.\n",
            "After this operation, 213 kB of additional disk space will be used.\n",
            "Get:1 http://archive.ubuntu.com/ubuntu bionic/universe amd64 libsqliteodbc amd64 0.9995-1 [72.9 kB]\n",
            "Fetched 72.9 kB in 1s (92.2 kB/s)\n",
            "debconf: unable to initialize frontend: Dialog\n",
            "debconf: (No usable dialog-like program is installed, so the dialog based frontend cannot be used. at /usr/share/perl5/Debconf/FrontEnd/Dialog.pm line 76, <> line 1.)\n",
            "debconf: falling back to frontend: Readline\n",
            "debconf: unable to initialize frontend: Readline\n",
            "debconf: (This frontend requires a controlling tty.)\n",
            "debconf: falling back to frontend: Teletype\n",
            "dpkg-preconfigure: unable to re-open stdin: \n",
            "Selecting previously unselected package libsqliteodbc:amd64.\n",
            "(Reading database ... 130968 files and directories currently installed.)\n",
            "Preparing to unpack .../libsqliteodbc_0.9995-1_amd64.deb ...\n",
            "Unpacking libsqliteodbc:amd64 (0.9995-1) ...\n",
            "Setting up libsqliteodbc:amd64 (0.9995-1) ...\n",
            "odbcinst: Driver installed. Usage count increased to 1. \n",
            "    Target directory is /etc\n",
            "odbcinst: Driver installed. Usage count increased to 1. \n",
            "    Target directory is /etc\n"
          ],
          "name": "stdout"
        }
      ]
    },
    {
      "cell_type": "code",
      "metadata": {
        "id": "7fxIyn-yiNMT",
        "colab_type": "code",
        "outputId": "0d4dce1c-60dd-4235-9975-556dd015f5b3",
        "colab": {
          "base_uri": "https://localhost:8080/",
          "height": 204
        }
      },
      "source": [
        "!wget 'http://dev.dothanhlong.org/download/db1.db'"
      ],
      "execution_count": 0,
      "outputs": [
        {
          "output_type": "stream",
          "text": [
            "--2019-06-04 03:30:47--  http://dev.dothanhlong.org/download/db1.db\n",
            "Resolving dev.dothanhlong.org (dev.dothanhlong.org)... 139.99.46.176\n",
            "Connecting to dev.dothanhlong.org (dev.dothanhlong.org)|139.99.46.176|:80... connected.\n",
            "HTTP request sent, awaiting response... 200 OK\n",
            "Length: 3072 (3.0K)\n",
            "Saving to: ‘db1.db’\n",
            "\n",
            "db1.db              100%[===================>]   3.00K  --.-KB/s    in 0s      \n",
            "\n",
            "2019-06-04 03:30:49 (420 MB/s) - ‘db1.db’ saved [3072/3072]\n",
            "\n"
          ],
          "name": "stdout"
        }
      ]
    },
    {
      "cell_type": "code",
      "metadata": {
        "id": "rf57Uzuwigyu",
        "colab_type": "code",
        "colab": {}
      },
      "source": [
        "conn = pyodbc.connect(\"Driver=SQLite3 ODBC Driver;Database=db1.db\")"
      ],
      "execution_count": 0,
      "outputs": []
    },
    {
      "cell_type": "markdown",
      "metadata": {
        "id": "nH8u51y-jUA5",
        "colab_type": "text"
      },
      "source": [
        "## PostgreSQL\n",
        "\n",
        "https://github.com/mkleehammer/pyodbc/wiki/Connecting-to-PostgreSQL\n",
        "\n",
        "> cnxn.setdecoding(pyodbc.SQL_WCHAR, encoding='utf-8')\n",
        "\n",
        "> cnxn.setencoding(encoding='utf-8')\n",
        "\n",
        "\n",
        "https://www.postgresql.org/ftp/odbc/versions/dll/\n",
        "\n",
        "\n"
      ]
    },
    {
      "cell_type": "code",
      "metadata": {
        "id": "oZiPRMpoj1GV",
        "colab_type": "code",
        "outputId": "4fbad4cd-a051-4538-f507-8d3ecc048733",
        "colab": {
          "base_uri": "https://localhost:8080/",
          "height": 153
        }
      },
      "source": [
        "!odbcinst -j"
      ],
      "execution_count": 0,
      "outputs": [
        {
          "output_type": "stream",
          "text": [
            "unixODBC 2.3.4\n",
            "DRIVERS............: /etc/odbcinst.ini\n",
            "SYSTEM DATA SOURCES: /etc/odbc.ini\n",
            "FILE DATA SOURCES..: /etc/ODBCDataSources\n",
            "USER DATA SOURCES..: /root/.odbc.ini\n",
            "SQLULEN Size.......: 8\n",
            "SQLLEN Size........: 8\n",
            "SQLSETPOSIROW Size.: 8\n"
          ],
          "name": "stdout"
        }
      ]
    },
    {
      "cell_type": "code",
      "metadata": {
        "id": "jD2UXWEWkFpG",
        "colab_type": "code",
        "outputId": "dbb23165-ea01-416c-c2fc-eeb302001c97",
        "colab": {
          "base_uri": "https://localhost:8080/",
          "height": 221
        }
      },
      "source": [
        "!cat /etc/odbcinst.ini"
      ],
      "execution_count": 0,
      "outputs": [
        {
          "output_type": "stream",
          "text": [
            "[SQLite]\n",
            "Description=SQLite ODBC Driver\n",
            "Driver=libsqliteodbc.so\n",
            "Setup=libsqliteodbc.so\n",
            "UsageCount=1\n",
            "\n",
            "[SQLite3]\n",
            "Description=SQLite3 ODBC Driver\n",
            "Driver=libsqlite3odbc.so\n",
            "Setup=libsqlite3odbc.so\n",
            "UsageCount=1\n",
            "\n"
          ],
          "name": "stdout"
        }
      ]
    },
    {
      "cell_type": "code",
      "metadata": {
        "id": "m9X1HRN_ioOW",
        "colab_type": "code",
        "outputId": "068b47f0-c667-44fa-e0e2-5b8c73985bc1",
        "colab": {
          "base_uri": "https://localhost:8080/",
          "height": 85
        }
      },
      "source": [
        "!cnxn.setdecoding(pyodbc.SQL_WCHAR, encoding='utf-8')\n",
        "!cnxn.setencoding(encoding='utf-8')"
      ],
      "execution_count": 0,
      "outputs": [
        {
          "output_type": "stream",
          "text": [
            "/bin/bash: -c: line 0: syntax error near unexpected token `pyodbc.SQL_WCHAR,'\n",
            "/bin/bash: -c: line 0: `cnxn.setdecoding(pyodbc.SQL_WCHAR, encoding='utf-8')'\n",
            "/bin/bash: -c: line 0: syntax error near unexpected token `encoding='utf-8''\n",
            "/bin/bash: -c: line 0: `cnxn.setencoding(encoding='utf-8')'\n"
          ],
          "name": "stdout"
        }
      ]
    },
    {
      "cell_type": "code",
      "metadata": {
        "id": "-kfotrZzj46d",
        "colab_type": "code",
        "outputId": "96d5ef6d-2ee9-410b-8e3f-f266073a954e",
        "colab": {
          "base_uri": "https://localhost:8080/",
          "height": 34
        }
      },
      "source": [
        "pwd"
      ],
      "execution_count": 0,
      "outputs": [
        {
          "output_type": "execute_result",
          "data": {
            "text/plain": [
              "'/content'"
            ]
          },
          "metadata": {
            "tags": []
          },
          "execution_count": 19
        }
      ]
    },
    {
      "cell_type": "code",
      "metadata": {
        "id": "hN-67GU3odRY",
        "colab_type": "code",
        "outputId": "35b5c1bb-f0a6-4dce-e1fc-43e462fc0b91",
        "colab": {
          "base_uri": "https://localhost:8080/",
          "height": 187
        }
      },
      "source": [
        "ls -la"
      ],
      "execution_count": 0,
      "outputs": [
        {
          "output_type": "stream",
          "text": [
            "total 52\n",
            "drwxr-xr-x 1 root root  4096 Jun  4 03:56 \u001b[0m\u001b[01;34m.\u001b[0m/\n",
            "drwxr-xr-x 1 root root  4096 Jun  4 01:20 \u001b[01;34m..\u001b[0m/\n",
            "drwxr-xr-x 1 root root  4096 May 31 16:17 \u001b[01;34m.config\u001b[0m/\n",
            "-rw-r--r-- 1 root root  3072 Jun  3 11:51 db1.db\n",
            "-rw-r--r-- 1 root root   465 Jun  4 03:56 obdc.ini\n",
            "-rw-r--r-- 1 root root   636 Jun  4 03:56 odbcinst.ini\n",
            "drwxr-xr-x 5 root root  4096 Jun  4 03:13 \u001b[01;34mPDO-1.3.2\u001b[0m/\n",
            "-rw-r--r-- 1 root root 16921 Jun  4 03:12 PDO-1.3.2.zip\n",
            "drwxr-xr-x 1 root root  4096 May 31 16:17 \u001b[01;34msample_data\u001b[0m/\n"
          ],
          "name": "stdout"
        }
      ]
    },
    {
      "cell_type": "code",
      "metadata": {
        "id": "jDynYJxfofGt",
        "colab_type": "code",
        "colab": {}
      },
      "source": [
        "cp odbcinst.ini /etc/odbcinst.ini"
      ],
      "execution_count": 0,
      "outputs": []
    },
    {
      "cell_type": "code",
      "metadata": {
        "id": "eUh1_kzjok8F",
        "colab_type": "code",
        "colab": {}
      },
      "source": [
        "cp obdc.ini /etc/odbc.ini"
      ],
      "execution_count": 0,
      "outputs": []
    },
    {
      "cell_type": "code",
      "metadata": {
        "id": "ze3qv4dSouc9",
        "colab_type": "code",
        "outputId": "9e7c2248-290b-48d0-a345-853a2c2f8384",
        "colab": {
          "base_uri": "https://localhost:8080/",
          "height": 476
        }
      },
      "source": [
        "cat /etc/odbcinst.ini"
      ],
      "execution_count": 0,
      "outputs": [
        {
          "output_type": "stream",
          "text": [
            "[PostgreSQL ANSI]\r\n",
            "Description     = PostgreSQL ODBC driver (ANSI version)\r\n",
            "Driver          = psqlodbca.so\r\n",
            "Setup           = libodbcpsqlS.so\r\n",
            "Debug           = 0\r\n",
            "CommLog         = 1\r\n",
            "UsageCount      = 1\r\n",
            "\r\n",
            "[PostgreSQL Unicode]\r\n",
            "Description     = PostgreSQL ODBC driver (Unicode version)\r\n",
            "Driver          = psqlodbcw.so\r\n",
            "Setup           = libodbcpsqlS.so\r\n",
            "Debug           = 0\r\n",
            "CommLog         = 1\r\n",
            "UsageCount      = 1\r\n",
            "\r\n",
            "[SQLite]\r\n",
            "Description=SQLite ODBC Driver\r\n",
            "Driver=libsqliteodbc.so\r\n",
            "Setup=libsqliteodbc.so\r\n",
            "UsageCount=1\r\n",
            "\r\n",
            "[SQLite3]\r\n",
            "Description=SQLite3 ODBC Driver\r\n",
            "Driver=libsqlite3odbc.so\r\n",
            "Setup=libsqlite3odbc.so\r\n",
            "UsageCount=1"
          ],
          "name": "stdout"
        }
      ]
    },
    {
      "cell_type": "code",
      "metadata": {
        "id": "Q_uPdbCxoxWd",
        "colab_type": "code",
        "outputId": "f81a7300-39d8-43e2-cebf-3bcde455b410",
        "colab": {
          "base_uri": "https://localhost:8080/",
          "height": 272
        }
      },
      "source": [
        "cat /etc/odbc.ini"
      ],
      "execution_count": 0,
      "outputs": [
        {
          "output_type": "stream",
          "text": [
            "[my-connector]\r\n",
            "Description         = PostgreSQL connection to '<dbname>' database\r\n",
            "Driver              = PostgreSQL Unicode\r\n",
            "Database            = <dbname>\r\n",
            "Servername          = localhost\r\n",
            "UserName            = <username>\r\n",
            "Password            = <password>\r\n",
            "Port                = 5432\r\n",
            "Protocol            = 9.3\r\n",
            "ReadOnly            = No\r\n",
            "RowVersioning       = No\r\n",
            "ShowSystemTables    = No\r\n",
            "ShowOidColumn       = No\r\n",
            "FakeOidIndex        = No\r\n",
            "ConnSettings        ="
          ],
          "name": "stdout"
        }
      ]
    },
    {
      "cell_type": "code",
      "metadata": {
        "id": "EUoQOMTMo2N9",
        "colab_type": "code",
        "outputId": "c9e8d1a1-9ce9-4e31-d3fd-16f982c40d0f",
        "colab": {
          "base_uri": "https://localhost:8080/",
          "height": 251
        }
      },
      "source": [
        "import pyodbc\n",
        "conn_str = (\n",
        "    \"DRIVER={PostgreSQL Unicode};\"\n",
        "    \"DATABASE=tmp;\"\n",
        "    \"UID=postgres;\"\n",
        "    \"PWD=*****;\"\n",
        "    \"SERVER=0.0.0.0.;\"\n",
        "    \"PORT=5433;\"\n",
        "    )\n",
        "conn = pyodbc.connect(conn_str)\n",
        "crsr = conn.execute(\"SELECT 123 AS n\")\n",
        "row = crsr.fetchone()\n",
        "print(row)\n",
        "crsr.close()\n",
        "conn.close()"
      ],
      "execution_count": 0,
      "outputs": [
        {
          "output_type": "error",
          "ename": "Error",
          "evalue": "ignored",
          "traceback": [
            "\u001b[0;31m---------------------------------------------------------------------------\u001b[0m",
            "\u001b[0;31mError\u001b[0m                                     Traceback (most recent call last)",
            "\u001b[0;32m<ipython-input-27-6d7393aca93c>\u001b[0m in \u001b[0;36m<module>\u001b[0;34m()\u001b[0m\n\u001b[1;32m      8\u001b[0m     \u001b[0;34m\"PORT=5433;\"\u001b[0m\u001b[0;34m\u001b[0m\u001b[0;34m\u001b[0m\u001b[0m\n\u001b[1;32m      9\u001b[0m     )\n\u001b[0;32m---> 10\u001b[0;31m \u001b[0mconn\u001b[0m \u001b[0;34m=\u001b[0m \u001b[0mpyodbc\u001b[0m\u001b[0;34m.\u001b[0m\u001b[0mconnect\u001b[0m\u001b[0;34m(\u001b[0m\u001b[0mconn_str\u001b[0m\u001b[0;34m)\u001b[0m\u001b[0;34m\u001b[0m\u001b[0;34m\u001b[0m\u001b[0m\n\u001b[0m\u001b[1;32m     11\u001b[0m \u001b[0mcrsr\u001b[0m \u001b[0;34m=\u001b[0m \u001b[0mconn\u001b[0m\u001b[0;34m.\u001b[0m\u001b[0mexecute\u001b[0m\u001b[0;34m(\u001b[0m\u001b[0;34m\"SELECT 123 AS n\"\u001b[0m\u001b[0;34m)\u001b[0m\u001b[0;34m\u001b[0m\u001b[0;34m\u001b[0m\u001b[0m\n\u001b[1;32m     12\u001b[0m \u001b[0mrow\u001b[0m \u001b[0;34m=\u001b[0m \u001b[0mcrsr\u001b[0m\u001b[0;34m.\u001b[0m\u001b[0mfetchone\u001b[0m\u001b[0;34m(\u001b[0m\u001b[0;34m)\u001b[0m\u001b[0;34m\u001b[0m\u001b[0;34m\u001b[0m\u001b[0m\n",
            "\u001b[0;31mError\u001b[0m: ('01000', \"[01000] [unixODBC][Driver Manager]Can't open lib 'psqlodbcw.so' : file not found (0) (SQLDriverConnect)\")"
          ]
        }
      ]
    },
    {
      "cell_type": "code",
      "metadata": {
        "id": "rikcZp6ypRz9",
        "colab_type": "code",
        "outputId": "0086b5ee-9257-421e-f488-f9cb43b76a98",
        "colab": {
          "base_uri": "https://localhost:8080/",
          "height": 34
        }
      },
      "source": [
        "cd /etc/ODBCDataSources"
      ],
      "execution_count": 0,
      "outputs": [
        {
          "output_type": "stream",
          "text": [
            "/etc/ODBCDataSources\n"
          ],
          "name": "stdout"
        }
      ]
    },
    {
      "cell_type": "markdown",
      "metadata": {
        "id": "kNARDF1hqfkm",
        "colab_type": "text"
      },
      "source": [
        "## odbcinst.ini\n",
        "\n",
        "```\n",
        "[PostgreSQL ANSI]\n",
        "Description     = PostgreSQL ODBC driver (ANSI version)\n",
        "Driver          = psqlodbca.so\n",
        "Setup           = libodbcpsqlS.so\n",
        "Debug           = 0\n",
        "CommLog         = 1\n",
        "UsageCount      = 1\n",
        "\n",
        "[PostgreSQL Unicode]\n",
        "Description     = PostgreSQL ODBC driver (Unicode version)\n",
        "Driver          = psqlodbcw.so\n",
        "Setup           = libodbcpsqlS.so\n",
        "Debug           = 0\n",
        "CommLog         = 1\n",
        "UsageCount      = 1\n",
        "\n",
        "[SQLite]\n",
        "Description=SQLite ODBC Driver\n",
        "Driver=libsqliteodbc.so\n",
        "Setup=libsqliteodbc.so\n",
        "UsageCount=1\n",
        "\n",
        "[SQLite3]\n",
        "Description=SQLite3 ODBC Driver\n",
        "Driver=libsqlite3odbc.so\n",
        "Setup=libsqlite3odbc.so\n",
        "UsageCount=1\n",
        "```\n",
        "\n",
        "## obdc.ini\n",
        "\n",
        "```\n",
        "[my-connector]\n",
        "Description         = PostgreSQL connection to '<dbname>' database\n",
        "Driver              = PostgreSQL Unicode\n",
        "Database            = <dbname>\n",
        "Servername          = localhost\n",
        "UserName            = <username>\n",
        "Password            = <password>\n",
        "Port                = 5432\n",
        "Protocol            = 9.3\n",
        "ReadOnly            = No\n",
        "RowVersioning       = No\n",
        "ShowSystemTables    = No\n",
        "ShowOidColumn       = No\n",
        "FakeOidIndex        = No\n",
        "ConnSettings        =\n",
        "```"
      ]
    },
    {
      "cell_type": "code",
      "metadata": {
        "id": "HoQb2pzLqsaO",
        "colab_type": "code",
        "colab": {}
      },
      "source": [
        ""
      ],
      "execution_count": 0,
      "outputs": []
    }
  ]
}