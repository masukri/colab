{
  "nbformat": 4,
  "nbformat_minor": 0,
  "metadata": {
    "colab": {
      "name": "Colab_Server_Info.ipynb",
      "version": "0.3.2",
      "provenance": [],
      "include_colab_link": true
    },
    "kernelspec": {
      "name": "python3",
      "display_name": "Python 3"
    }
  },
  "cells": [
    {
      "cell_type": "markdown",
      "metadata": {
        "id": "view-in-github",
        "colab_type": "text"
      },
      "source": [
        "<a href=\"https://colab.research.google.com/github/soiqualang/colab/blob/master/Colab_Server_Info.ipynb\" target=\"_parent\"><img src=\"https://colab.research.google.com/assets/colab-badge.svg\" alt=\"Open In Colab\"/></a>"
      ]
    },
    {
      "cell_type": "code",
      "metadata": {
        "id": "doQSa0VGzLot",
        "colab_type": "code",
        "outputId": "dad2065f-dae2-4c41-9f66-cc002e164f0b",
        "colab": {
          "base_uri": "https://localhost:8080/",
          "height": 1326
        }
      },
      "source": [
        "!curl -Lso- tocdo.net | bash"
      ],
      "execution_count": 0,
      "outputs": [
        {
          "output_type": "stream",
          "text": [
            "Please wait...\n",
            "\u001b[H\u001b[2JSystem Info\n",
            "----------------------------------------------------------------------\n",
            "CPU model            : Intel(R) Xeon(R) CPU @ 2.30GHz\n",
            "Number of cores      : 2\n",
            "CPU frequency        : 2300.000 MHz\n",
            "Total size of Disk   : 110.0 GB (47.0 GB Used)\n",
            "Total amount of Mem  : 13022 MB (558 MB Used)\n",
            "Total amount of Swap : 0 MB (0 MB Used)\n",
            "System uptime        : 0 days, 0 hour 21 min\n",
            "Load average         : 0.55, 0.13, 0.06\n",
            "OS                   : Ubuntu 18.04.2 LTS\n",
            "Arch                 : x86_64 (64 Bit)\n",
            "Kernel               : 4.14.79+\n",
            "Virt                 : kvm\n",
            "Date                 : Tue May 28 14:17:21 UTC 2019\n",
            "\n",
            "Disk Speed\n",
            "----------------------------------------------------------------------\n",
            "dd Test\n",
            "I/O (1st run)        : 87.6 MB/s\n",
            "I/O (2nd run)        : 45.3 MB/s\n",
            "I/O (3rd run)        : 30.3 MB/s\n",
            "Average              : 54.4 MB/s\n",
            "-----------------------------------\n",
            "Fio Test\n",
            "Usage: fio [OPTIONS] COMMAND [ARGS]...\n",
            "Try \"fio --help\" for help.\n",
            "\n",
            "Error: no such option: --randrepeat\n",
            "Usage: fio [OPTIONS] COMMAND [ARGS]...\n",
            "Try \"fio --help\" for help.\n",
            "\n",
            "Error: Missing command.\n",
            "main: line 102: [: ==: unary operator expected\n",
            "Usage: fio [OPTIONS] COMMAND [ARGS]...\n",
            "Try \"fio --help\" for help.\n",
            "\n",
            "Error: Missing command.\n",
            "main: line 108: [: ==: unary operator expected\n",
            "Read performance     : \n",
            "Read IOPS            : \n",
            "Write performance    : \n",
            "Write IOPS           : \n",
            "\n",
            "Speedtest\n",
            "----------------------------------------------------------------------\n",
            "Node Name                               IPv4 address    Download Speed\n",
            "main: line 44: ping: command not found\n",
            "\u001b[0;33mCacheFly                                \u001b[0;32m                \u001b[0;31m139MB/s       \u001b[0m\n",
            "main: line 44: ping: command not found\n",
            "\u001b[0;33mVultr, Los Angeles, CA                  \u001b[0;32m                \u001b[0;31m38.8MB/s      \u001b[0m\n",
            "main: line 44: ping: command not found\n",
            "\u001b[0;33mVultr, Seattle, WA                      \u001b[0;32m                \u001b[0;31m35.9MB/s      \u001b[0m\n",
            "main: line 44: ping: command not found\n",
            "\u001b[0;33mLinode, Tokyo, JP                       \u001b[0;32m                \u001b[0;31m14.2MB/s      \u001b[0m\n",
            "main: line 44: ping: command not found\n",
            "\u001b[0;33mLinode, Singapore, SG                   \u001b[0;32m                \u001b[0;31m8.05MB/s      \u001b[0m\n",
            "main: line 44: ping: command not found\n",
            "\u001b[0;33mSoftlayer, HongKong, CN                 \u001b[0;32m                \u001b[0;31m5.28MB/s      \u001b[0m\n",
            "main: line 44: ping: command not found\n",
            "\u001b[0;33mVNPT, Ha Noi, VN                        \u001b[0;32m                \u001b[0;31m1.28MB/s      \u001b[0m\n",
            "main: line 44: ping: command not found\n",
            "\u001b[0;33mVNPT, Da Nang, VN                       \u001b[0;32m                \u001b[0;31m914KB/s       \u001b[0m\n",
            "main: line 44: ping: command not found\n",
            "\u001b[0;33mVNPT, Ho Chi Minh, VN                   \u001b[0;32m                \u001b[0;31m1.49MB/s      \u001b[0m\n",
            "main: line 44: ping: command not found\n",
            "\u001b[0;33mViettel Network, Ha Noi, VN             \u001b[0;32m                \u001b[0;31m8.18MB/s      \u001b[0m\n",
            "main: line 44: ping: command not found\n",
            "\u001b[0;33mViettel Network, Da Nang, VN            \u001b[0;32m                \u001b[0;31m3.04MB/s      \u001b[0m\n",
            "main: line 44: ping: command not found\n",
            "\u001b[0;33mViettel Network, Ho Chi Minh, VN        \u001b[0;32m                \u001b[0;31m7.43MB/s      \u001b[0m\n",
            "main: line 44: ping: command not found\n",
            "\u001b[0;33mFPT Telecom, Ha Noi, VN                 \u001b[0;32m                \u001b[0;31m7.37MB/s      \u001b[0m\n",
            "main: line 44: ping: command not found\n",
            "\u001b[0;33mFPT Telecom, Ho Chi Minh, VN            \u001b[0;32m                \u001b[0;31m2.61MB/s      \u001b[0m\n",
            "----------------------------------------------------------------------\n"
          ],
          "name": "stdout"
        }
      ]
    },
    {
      "cell_type": "code",
      "metadata": {
        "id": "uFi4ly98zOiT",
        "colab_type": "code",
        "colab": {}
      },
      "source": [
        ""
      ],
      "execution_count": 0,
      "outputs": []
    }
  ]
}