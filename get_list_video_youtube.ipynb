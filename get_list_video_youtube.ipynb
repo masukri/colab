{
  "nbformat": 4,
  "nbformat_minor": 0,
  "metadata": {
    "colab": {
      "name": "get_list_video_youtube.ipynb",
      "version": "0.3.2",
      "provenance": [],
      "collapsed_sections": [],
      "include_colab_link": true
    },
    "kernelspec": {
      "name": "python2",
      "display_name": "Python 2"
    }
  },
  "cells": [
    {
      "cell_type": "markdown",
      "metadata": {
        "id": "view-in-github",
        "colab_type": "text"
      },
      "source": [
        "<a href=\"https://colab.research.google.com/github/soiqualang/colab/blob/master/get_list_video_youtube.ipynb\" target=\"_parent\"><img src=\"https://colab.research.google.com/assets/colab-badge.svg\" alt=\"Open In Colab\"/></a>"
      ]
    },
    {
      "metadata": {
        "id": "Fmwo9Y7SwnWM",
        "colab_type": "text"
      },
      "cell_type": "markdown",
      "source": [
        "https://stackoverflow.com/questions/15512239/python-get-all-youtube-video-urls-of-a-channel"
      ]
    },
    {
      "metadata": {
        "id": "xhFglkEKwZBa",
        "colab_type": "code",
        "colab": {
          "base_uri": "https://localhost:8080/",
          "height": 901
        },
        "outputId": "3fdeeb87-e066-4e4d-f95c-4c4c45e6ba8b"
      },
      "cell_type": "code",
      "source": [
        "import requests\n",
        "username = \"marquesbrownlee\"\n",
        "#url = \"https://www.youtube.com/user/username/videos\"\n",
        "url=\"https://www.youtube.com/channel/UCIKTHNRRnVP5d8FpDI5YhXQ/videos\"\n",
        "page = requests.get(url).content\n",
        "data = str(page).split(' ')\n",
        "item = 'href=\"/watch?'\n",
        "vids = [line.replace('href=\"', 'youtube.com') for line in data if item in line] # list of all videos listed twice\n",
        "#print(vids[0]) # index the latest video\n",
        "for vid in vids:\n",
        "  print(vid)"
      ],
      "execution_count": 5,
      "outputs": [
        {
          "output_type": "stream",
          "text": [
            "youtube.com/watch?v=-Qa6Ue5ERnA\"\n",
            "youtube.com/watch?v=-Qa6Ue5ERnA\"\n",
            "youtube.com/watch?v=GE1RolMyoBw\"\n",
            "youtube.com/watch?v=GE1RolMyoBw\"\n",
            "youtube.com/watch?v=WcZSW31zVFI\"\n",
            "youtube.com/watch?v=WcZSW31zVFI\"\n",
            "youtube.com/watch?v=GRmdDJbTJZk\"\n",
            "youtube.com/watch?v=GRmdDJbTJZk\"\n",
            "youtube.com/watch?v=XIXxdx9jlqk\"\n",
            "youtube.com/watch?v=XIXxdx9jlqk\"\n",
            "youtube.com/watch?v=CADUjlhpou0\"\n",
            "youtube.com/watch?v=CADUjlhpou0\"\n",
            "youtube.com/watch?v=44b68udjZQI\"\n",
            "youtube.com/watch?v=44b68udjZQI\"\n",
            "youtube.com/watch?v=Exn-zRhXPYg\"\n",
            "youtube.com/watch?v=Exn-zRhXPYg\"\n",
            "youtube.com/watch?v=ymZMYYvET4k\"\n",
            "youtube.com/watch?v=ymZMYYvET4k\"\n",
            "youtube.com/watch?v=m12ir4Iv5k0\"\n",
            "youtube.com/watch?v=m12ir4Iv5k0\"\n",
            "youtube.com/watch?v=sZBHzp2nOtY\"\n",
            "youtube.com/watch?v=sZBHzp2nOtY\"\n",
            "youtube.com/watch?v=Fww2S9K-Nl4\"\n",
            "youtube.com/watch?v=Fww2S9K-Nl4\"\n",
            "youtube.com/watch?v=VKcgstP7EHM\"\n",
            "youtube.com/watch?v=VKcgstP7EHM\"\n",
            "youtube.com/watch?v=wsIgGcn9Nlo\"\n",
            "youtube.com/watch?v=wsIgGcn9Nlo\"\n",
            "youtube.com/watch?v=nxUjxSfFrJ0\"\n",
            "youtube.com/watch?v=nxUjxSfFrJ0\"\n",
            "youtube.com/watch?v=5gaMwBoya4g\"\n",
            "youtube.com/watch?v=5gaMwBoya4g\"\n",
            "youtube.com/watch?v=KNw33M0Tbfc\"\n",
            "youtube.com/watch?v=KNw33M0Tbfc\"\n",
            "youtube.com/watch?v=4vnbONyiLCU\"\n",
            "youtube.com/watch?v=4vnbONyiLCU\"\n",
            "youtube.com/watch?v=jCH-1s7CmYE\"\n",
            "youtube.com/watch?v=jCH-1s7CmYE\"\n",
            "youtube.com/watch?v=7pN_gR8Cgw0\"\n",
            "youtube.com/watch?v=7pN_gR8Cgw0\"\n",
            "youtube.com/watch?v=kzUZc0cNGgw\"\n",
            "youtube.com/watch?v=kzUZc0cNGgw\"\n",
            "youtube.com/watch?v=_B6lPDn-nwk\"\n",
            "youtube.com/watch?v=_B6lPDn-nwk\"\n",
            "youtube.com/watch?v=xXsj6271RX0\"\n",
            "youtube.com/watch?v=xXsj6271RX0\"\n",
            "youtube.com/watch?v=bWadEjL5EUc\"\n",
            "youtube.com/watch?v=bWadEjL5EUc\"\n",
            "youtube.com/watch?v=P6uQ7ffdUqg\"\n",
            "youtube.com/watch?v=P6uQ7ffdUqg\"\n",
            "youtube.com/watch?v=joNyoY2HUdU\"\n",
            "youtube.com/watch?v=joNyoY2HUdU\"\n"
          ],
          "name": "stdout"
        }
      ]
    },
    {
      "metadata": {
        "id": "CvePElubxs5F",
        "colab_type": "code",
        "colab": {
          "base_uri": "https://localhost:8080/",
          "height": 4066
        },
        "outputId": "73c0fb21-92dc-4eca-a3c5-5c949634069a"
      },
      "cell_type": "code",
      "source": [
        "from __future__ import unicode_literals\n",
        "import youtube_dl\n",
        "\n",
        "\n",
        "ydl_opts = {\n",
        "    'format': 'bestaudio/best',\n",
        "    'postprocessors': [{\n",
        "        'key': 'FFmpegExtractAudio',\n",
        "        'preferredcodec': 'mp3',\n",
        "        'preferredquality': '192',\n",
        "    }],\n",
        "}\n",
        "with youtube_dl.YoutubeDL(ydl_opts) as ydl:\n",
        "    i=0\n",
        "    for vid in vids:\n",
        "      if i==0:\n",
        "        print(vid)\n",
        "        print('---')\n",
        "        i+=1\n",
        "        #ydl.download(['https://www.youtube.com/watch?v=c-WcinNB-nk'])\n",
        "        ydl.download([vid])\n",
        "      else:\n",
        "        i=0\n",
        "        continue"
      ],
      "execution_count": 11,
      "outputs": [
        {
          "output_type": "stream",
          "text": [
            "WARNING: The url doesn't specify the protocol, trying with http\n"
          ],
          "name": "stderr"
        },
        {
          "output_type": "stream",
          "text": [
            "youtube.com/watch?v=-Qa6Ue5ERnA\"\n",
            "---\n",
            "[youtube] -Qa6Ue5ERnA: Downloading webpage\n",
            "[youtube] -Qa6Ue5ERnA: Downloading video info webpage\n",
            "[download] Destination: Khả năng siêu việt của các loài động vật - Phần 2--Qa6Ue5ERnA.m4a\n",
            "[download] 100% of 23.14MiB in 00:00\n",
            "[ffmpeg] Correcting container in \"Khả năng siêu việt của các loài động vật - Phần 2--Qa6Ue5ERnA.m4a\"\n",
            "[ffmpeg] Destination: Khả năng siêu việt của các loài động vật - Phần 2--Qa6Ue5ERnA.mp3\n",
            "Deleting original file Khả năng siêu việt của các loài động vật - Phần 2--Qa6Ue5ERnA.m4a (pass -k to keep)\n"
          ],
          "name": "stdout"
        },
        {
          "output_type": "stream",
          "text": [
            "WARNING: The url doesn't specify the protocol, trying with http\n"
          ],
          "name": "stderr"
        },
        {
          "output_type": "stream",
          "text": [
            "youtube.com/watch?v=GE1RolMyoBw\"\n",
            "---\n",
            "[youtube] GE1RolMyoBw: Downloading webpage\n",
            "[youtube] GE1RolMyoBw: Downloading video info webpage\n",
            "[download] Destination: Khả năng siêu việt của các loài động vật - Phần 1-GE1RolMyoBw.webm\n",
            "[download] 100% of 22.10MiB in 00:02\n",
            "[ffmpeg] Destination: Khả năng siêu việt của các loài động vật - Phần 1-GE1RolMyoBw.mp3\n",
            "Deleting original file Khả năng siêu việt của các loài động vật - Phần 1-GE1RolMyoBw.webm (pass -k to keep)\n"
          ],
          "name": "stdout"
        },
        {
          "output_type": "stream",
          "text": [
            "WARNING: The url doesn't specify the protocol, trying with http\n"
          ],
          "name": "stderr"
        },
        {
          "output_type": "stream",
          "text": [
            "youtube.com/watch?v=WcZSW31zVFI\"\n",
            "---\n",
            "[youtube] WcZSW31zVFI: Downloading webpage\n",
            "[youtube] WcZSW31zVFI: Downloading video info webpage\n",
            "[download] Destination: Siêu giác quan động vật  - TRÊN TRỜI _ Khám phá thế giới (Thuyết Minh)-WcZSW31zVFI.webm\n",
            "[download] 100% of 16.97MiB in 00:04\n",
            "[ffmpeg] Destination: Siêu giác quan động vật  - TRÊN TRỜI _ Khám phá thế giới (Thuyết Minh)-WcZSW31zVFI.mp3\n",
            "Deleting original file Siêu giác quan động vật  - TRÊN TRỜI _ Khám phá thế giới (Thuyết Minh)-WcZSW31zVFI.webm (pass -k to keep)\n"
          ],
          "name": "stdout"
        },
        {
          "output_type": "stream",
          "text": [
            "WARNING: The url doesn't specify the protocol, trying with http\n"
          ],
          "name": "stderr"
        },
        {
          "output_type": "stream",
          "text": [
            "youtube.com/watch?v=GRmdDJbTJZk\"\n",
            "---\n",
            "[youtube] GRmdDJbTJZk: Downloading webpage\n",
            "[youtube] GRmdDJbTJZk: Downloading video info webpage\n",
            "[download] Destination: Câu chuyện tiến hóa  - BỘ HÀM _ Phim khoa học (Thuyết Minh)-GRmdDJbTJZk.webm\n",
            "[download] 100% of 29.67MiB in 00:05\n",
            "[ffmpeg] Destination: Câu chuyện tiến hóa  - BỘ HÀM _ Phim khoa học (Thuyết Minh)-GRmdDJbTJZk.mp3\n",
            "Deleting original file Câu chuyện tiến hóa  - BỘ HÀM _ Phim khoa học (Thuyết Minh)-GRmdDJbTJZk.webm (pass -k to keep)\n"
          ],
          "name": "stdout"
        },
        {
          "output_type": "stream",
          "text": [
            "WARNING: The url doesn't specify the protocol, trying with http\n"
          ],
          "name": "stderr"
        },
        {
          "output_type": "stream",
          "text": [
            "youtube.com/watch?v=XIXxdx9jlqk\"\n",
            "---\n",
            "[youtube] XIXxdx9jlqk: Downloading webpage\n",
            "[youtube] XIXxdx9jlqk: Downloading video info webpage\n",
            "[download] Destination: Sức mạnh của vàng - Phần 5+6 _ Khám phá thế giới (Thuyết Minh)-XIXxdx9jlqk.webm\n",
            "[download] 100% of 32.36MiB in 00:02\n",
            "[ffmpeg] Destination: Sức mạnh của vàng - Phần 5+6 _ Khám phá thế giới (Thuyết Minh)-XIXxdx9jlqk.mp3\n",
            "Deleting original file Sức mạnh của vàng - Phần 5+6 _ Khám phá thế giới (Thuyết Minh)-XIXxdx9jlqk.webm (pass -k to keep)\n"
          ],
          "name": "stdout"
        },
        {
          "output_type": "stream",
          "text": [
            "WARNING: The url doesn't specify the protocol, trying with http\n"
          ],
          "name": "stderr"
        },
        {
          "output_type": "stream",
          "text": [
            "youtube.com/watch?v=CADUjlhpou0\"\n",
            "---\n",
            "[youtube] CADUjlhpou0: Downloading webpage\n",
            "[youtube] CADUjlhpou0: Downloading video info webpage\n",
            "[download] Destination: Sức mạnh của vàng - Phần 3+4 _ Khám phá thế giới (Thuyết Minh)-CADUjlhpou0.webm\n",
            "[download] 100% of 33.40MiB in 00:01\n",
            "[ffmpeg] Destination: Sức mạnh của vàng - Phần 3+4 _ Khám phá thế giới (Thuyết Minh)-CADUjlhpou0.mp3\n",
            "Deleting original file Sức mạnh của vàng - Phần 3+4 _ Khám phá thế giới (Thuyết Minh)-CADUjlhpou0.webm (pass -k to keep)\n"
          ],
          "name": "stdout"
        },
        {
          "output_type": "stream",
          "text": [
            "WARNING: The url doesn't specify the protocol, trying with http\n"
          ],
          "name": "stderr"
        },
        {
          "output_type": "stream",
          "text": [
            "youtube.com/watch?v=44b68udjZQI\"\n",
            "---\n",
            "[youtube] 44b68udjZQI: Downloading webpage\n",
            "[youtube] 44b68udjZQI: Downloading video info webpage\n",
            "[download] Destination: Câu chuyện tiến hóa  - BỘ DA _ Phim tài liệu khoa học (Thuyết Minh)-44b68udjZQI.webm\n",
            "[download] 100% of 29.44MiB in 00:04\n",
            "[ffmpeg] Destination: Câu chuyện tiến hóa  - BỘ DA _ Phim tài liệu khoa học (Thuyết Minh)-44b68udjZQI.mp3\n",
            "Deleting original file Câu chuyện tiến hóa  - BỘ DA _ Phim tài liệu khoa học (Thuyết Minh)-44b68udjZQI.webm (pass -k to keep)\n"
          ],
          "name": "stdout"
        },
        {
          "output_type": "stream",
          "text": [
            "WARNING: The url doesn't specify the protocol, trying with http\n"
          ],
          "name": "stderr"
        },
        {
          "output_type": "stream",
          "text": [
            "youtube.com/watch?v=Exn-zRhXPYg\"\n",
            "---\n",
            "[youtube] Exn-zRhXPYg: Downloading webpage\n",
            "[youtube] Exn-zRhXPYg: Downloading video info webpage\n",
            "[download] Destination: Nước mới của Singapore _ Khám phá thế giới (Thuyết Minh)-Exn-zRhXPYg.webm\n",
            "[download] 100% of 17.17MiB in 00:00\n",
            "[ffmpeg] Destination: Nước mới của Singapore _ Khám phá thế giới (Thuyết Minh)-Exn-zRhXPYg.mp3\n",
            "Deleting original file Nước mới của Singapore _ Khám phá thế giới (Thuyết Minh)-Exn-zRhXPYg.webm (pass -k to keep)\n"
          ],
          "name": "stdout"
        },
        {
          "output_type": "stream",
          "text": [
            "WARNING: The url doesn't specify the protocol, trying with http\n"
          ],
          "name": "stderr"
        },
        {
          "output_type": "stream",
          "text": [
            "youtube.com/watch?v=ymZMYYvET4k\"\n",
            "---\n",
            "[youtube] ymZMYYvET4k: Downloading webpage\n",
            "[youtube] ymZMYYvET4k: Downloading video info webpage\n",
            "[download] Destination: Chinh phục Mặt Trời - Phần 2 _ Khám phá vũ trụ (Thuyết Minh)-ymZMYYvET4k.webm\n",
            "[download] 100% of 23.26MiB in 00:02\n",
            "[ffmpeg] Destination: Chinh phục Mặt Trời - Phần 2 _ Khám phá vũ trụ (Thuyết Minh)-ymZMYYvET4k.mp3\n",
            "Deleting original file Chinh phục Mặt Trời - Phần 2 _ Khám phá vũ trụ (Thuyết Minh)-ymZMYYvET4k.webm (pass -k to keep)\n"
          ],
          "name": "stdout"
        },
        {
          "output_type": "stream",
          "text": [
            "WARNING: The url doesn't specify the protocol, trying with http\n"
          ],
          "name": "stderr"
        },
        {
          "output_type": "stream",
          "text": [
            "youtube.com/watch?v=m12ir4Iv5k0\"\n",
            "---\n",
            "[youtube] m12ir4Iv5k0: Downloading webpage\n",
            "[youtube] m12ir4Iv5k0: Downloading video info webpage\n",
            "[download] Destination: Sức mạnh của vàng - Phần 2 _ Khám phá thế giới (Thuyết Minh)-m12ir4Iv5k0.webm\n",
            "[download] 100% of 16.50MiB in 00:01\n",
            "[ffmpeg] Destination: Sức mạnh của vàng - Phần 2 _ Khám phá thế giới (Thuyết Minh)-m12ir4Iv5k0.mp3\n",
            "Deleting original file Sức mạnh của vàng - Phần 2 _ Khám phá thế giới (Thuyết Minh)-m12ir4Iv5k0.webm (pass -k to keep)\n"
          ],
          "name": "stdout"
        },
        {
          "output_type": "stream",
          "text": [
            "WARNING: The url doesn't specify the protocol, trying with http\n"
          ],
          "name": "stderr"
        },
        {
          "output_type": "stream",
          "text": [
            "youtube.com/watch?v=sZBHzp2nOtY\"\n",
            "---\n",
            "[youtube] sZBHzp2nOtY: Downloading webpage\n",
            "[youtube] sZBHzp2nOtY: Downloading video info webpage\n",
            "[download] Destination: Chinh phục Mặt Trời - Phần 1 _ Khám phá vũ trụ (Thuyết Minh)-sZBHzp2nOtY.webm\n",
            "[download] 100% of 22.06MiB in 00:02\n",
            "[ffmpeg] Destination: Chinh phục Mặt Trời - Phần 1 _ Khám phá vũ trụ (Thuyết Minh)-sZBHzp2nOtY.mp3\n",
            "Deleting original file Chinh phục Mặt Trời - Phần 1 _ Khám phá vũ trụ (Thuyết Minh)-sZBHzp2nOtY.webm (pass -k to keep)\n"
          ],
          "name": "stdout"
        },
        {
          "output_type": "stream",
          "text": [
            "WARNING: The url doesn't specify the protocol, trying with http\n"
          ],
          "name": "stderr"
        },
        {
          "output_type": "stream",
          "text": [
            "youtube.com/watch?v=Fww2S9K-Nl4\"\n",
            "---\n",
            "[youtube] Fww2S9K-Nl4: Downloading webpage\n",
            "[youtube] Fww2S9K-Nl4: Downloading video info webpage\n",
            "[download] Destination: Sức mạnh của vàng - Phần 1 _ Khám phá thế giới (Thuyết Minh)-Fww2S9K-Nl4.webm\n",
            "[download] 100% of 16.64MiB in 00:01\n",
            "[ffmpeg] Destination: Sức mạnh của vàng - Phần 1 _ Khám phá thế giới (Thuyết Minh)-Fww2S9K-Nl4.mp3\n",
            "Deleting original file Sức mạnh của vàng - Phần 1 _ Khám phá thế giới (Thuyết Minh)-Fww2S9K-Nl4.webm (pass -k to keep)\n"
          ],
          "name": "stdout"
        },
        {
          "output_type": "stream",
          "text": [
            "WARNING: The url doesn't specify the protocol, trying with http\n"
          ],
          "name": "stderr"
        },
        {
          "output_type": "stream",
          "text": [
            "youtube.com/watch?v=VKcgstP7EHM\"\n",
            "---\n",
            "[youtube] VKcgstP7EHM: Downloading webpage\n",
            "[youtube] VKcgstP7EHM: Downloading video info webpage\n",
            "[download] Destination: Câu chuyện tiến hóa  - CON MẮT _ Phim khoa học (Thuyết Minh)-VKcgstP7EHM.webm\n",
            "[download] 100% of 34.57MiB in 00:01\n",
            "[ffmpeg] Destination: Câu chuyện tiến hóa  - CON MẮT _ Phim khoa học (Thuyết Minh)-VKcgstP7EHM.mp3\n",
            "Deleting original file Câu chuyện tiến hóa  - CON MẮT _ Phim khoa học (Thuyết Minh)-VKcgstP7EHM.webm (pass -k to keep)\n"
          ],
          "name": "stdout"
        },
        {
          "output_type": "stream",
          "text": [
            "WARNING: The url doesn't specify the protocol, trying with http\n"
          ],
          "name": "stderr"
        },
        {
          "output_type": "stream",
          "text": [
            "youtube.com/watch?v=wsIgGcn9Nlo\"\n",
            "---\n",
            "[youtube] wsIgGcn9Nlo: Downloading webpage\n",
            "[youtube] wsIgGcn9Nlo: Downloading video info webpage\n",
            "[download] Destination: Sao Kim và Mặt Trời lúc nửa đêm - Phần 2 _ Khám phá vũ trụ (Thuyết Minh)-wsIgGcn9Nlo.webm\n",
            "[download] 100% of 19.45MiB in 00:05\n",
            "[ffmpeg] Destination: Sao Kim và Mặt Trời lúc nửa đêm - Phần 2 _ Khám phá vũ trụ (Thuyết Minh)-wsIgGcn9Nlo.mp3\n",
            "Deleting original file Sao Kim và Mặt Trời lúc nửa đêm - Phần 2 _ Khám phá vũ trụ (Thuyết Minh)-wsIgGcn9Nlo.webm (pass -k to keep)\n"
          ],
          "name": "stdout"
        },
        {
          "output_type": "stream",
          "text": [
            "WARNING: The url doesn't specify the protocol, trying with http\n"
          ],
          "name": "stderr"
        },
        {
          "output_type": "stream",
          "text": [
            "youtube.com/watch?v=nxUjxSfFrJ0\"\n",
            "---\n",
            "[youtube] nxUjxSfFrJ0: Downloading webpage\n",
            "[youtube] nxUjxSfFrJ0: Downloading video info webpage\n",
            "[download] Destination: Sao Kim và Mặt Trời lúc nửa đêm - Phần 1 _ Khám phá vũ trụ (Thuyết Minh)-nxUjxSfFrJ0.webm\n",
            "[download] 100% of 18.95MiB in 00:04\n",
            "[ffmpeg] Destination: Sao Kim và Mặt Trời lúc nửa đêm - Phần 1 _ Khám phá vũ trụ (Thuyết Minh)-nxUjxSfFrJ0.mp3\n",
            "Deleting original file Sao Kim và Mặt Trời lúc nửa đêm - Phần 1 _ Khám phá vũ trụ (Thuyết Minh)-nxUjxSfFrJ0.webm (pass -k to keep)\n"
          ],
          "name": "stdout"
        },
        {
          "output_type": "stream",
          "text": [
            "WARNING: The url doesn't specify the protocol, trying with http\n"
          ],
          "name": "stderr"
        },
        {
          "output_type": "stream",
          "text": [
            "youtube.com/watch?v=5gaMwBoya4g\"\n",
            "---\n",
            "[youtube] 5gaMwBoya4g: Downloading webpage\n",
            "[youtube] 5gaMwBoya4g: Downloading video info webpage\n",
            "[download] Destination: Trái đất được hình thành như thế nào  Khe vực Mariana - Phần 2 (Thuyết Minh)-5gaMwBoya4g.m4a\n",
            "[download] 100% of 17.28MiB in 00:00\n",
            "[ffmpeg] Correcting container in \"Trái đất được hình thành như thế nào  Khe vực Mariana - Phần 2 (Thuyết Minh)-5gaMwBoya4g.m4a\"\n",
            "[ffmpeg] Destination: Trái đất được hình thành như thế nào  Khe vực Mariana - Phần 2 (Thuyết Minh)-5gaMwBoya4g.mp3\n",
            "Deleting original file Trái đất được hình thành như thế nào  Khe vực Mariana - Phần 2 (Thuyết Minh)-5gaMwBoya4g.m4a (pass -k to keep)\n"
          ],
          "name": "stdout"
        },
        {
          "output_type": "stream",
          "text": [
            "WARNING: The url doesn't specify the protocol, trying with http\n"
          ],
          "name": "stderr"
        },
        {
          "output_type": "stream",
          "text": [
            "youtube.com/watch?v=KNw33M0Tbfc\"\n",
            "---\n",
            "[youtube] KNw33M0Tbfc: Downloading webpage\n",
            "[youtube] KNw33M0Tbfc: Downloading video info webpage\n",
            "[download] Destination: Trái đất được hình thành như thế nào  Khe vực Mariana - Phần 1 (Thuyết Minh)-KNw33M0Tbfc.webm\n",
            "[download] 100% of 14.53MiB in 00:04\n",
            "[ffmpeg] Destination: Trái đất được hình thành như thế nào  Khe vực Mariana - Phần 1 (Thuyết Minh)-KNw33M0Tbfc.mp3\n",
            "Deleting original file Trái đất được hình thành như thế nào  Khe vực Mariana - Phần 1 (Thuyết Minh)-KNw33M0Tbfc.webm (pass -k to keep)\n"
          ],
          "name": "stdout"
        },
        {
          "output_type": "stream",
          "text": [
            "WARNING: The url doesn't specify the protocol, trying with http\n"
          ],
          "name": "stderr"
        },
        {
          "output_type": "stream",
          "text": [
            "youtube.com/watch?v=4vnbONyiLCU\"\n",
            "---\n",
            "[youtube] 4vnbONyiLCU: Downloading webpage\n",
            "[youtube] 4vnbONyiLCU: Downloading video info webpage\n",
            "[download] Destination: Tòa tháp chống lốc xoáy Chicago - Phần 2 _ Khám phá thế giới (Thuyết Minh)-4vnbONyiLCU.webm\n",
            "[download] 100% of 23.10MiB in 00:03\n",
            "[ffmpeg] Destination: Tòa tháp chống lốc xoáy Chicago - Phần 2 _ Khám phá thế giới (Thuyết Minh)-4vnbONyiLCU.mp3\n",
            "Deleting original file Tòa tháp chống lốc xoáy Chicago - Phần 2 _ Khám phá thế giới (Thuyết Minh)-4vnbONyiLCU.webm (pass -k to keep)\n"
          ],
          "name": "stdout"
        },
        {
          "output_type": "stream",
          "text": [
            "WARNING: The url doesn't specify the protocol, trying with http\n"
          ],
          "name": "stderr"
        },
        {
          "output_type": "stream",
          "text": [
            "youtube.com/watch?v=jCH-1s7CmYE\"\n",
            "---\n",
            "[youtube] jCH-1s7CmYE: Downloading webpage\n",
            "[youtube] jCH-1s7CmYE: Downloading video info webpage\n",
            "[download] Destination: Tòa tháp chống lốc xoáy Chicago - Phần 1 _ Khám phá thế giới (Thuyết Minh)-jCH-1s7CmYE.webm\n",
            "[download] 100% of 22.44MiB in 00:06\n",
            "[ffmpeg] Destination: Tòa tháp chống lốc xoáy Chicago - Phần 1 _ Khám phá thế giới (Thuyết Minh)-jCH-1s7CmYE.mp3\n",
            "Deleting original file Tòa tháp chống lốc xoáy Chicago - Phần 1 _ Khám phá thế giới (Thuyết Minh)-jCH-1s7CmYE.webm (pass -k to keep)\n"
          ],
          "name": "stdout"
        },
        {
          "output_type": "stream",
          "text": [
            "WARNING: The url doesn't specify the protocol, trying with http\n"
          ],
          "name": "stderr"
        },
        {
          "output_type": "stream",
          "text": [
            "youtube.com/watch?v=7pN_gR8Cgw0\"\n",
            "---\n",
            "[youtube] 7pN_gR8Cgw0: Downloading webpage\n",
            "[youtube] 7pN_gR8Cgw0: Downloading video info webpage\n",
            "[download] Destination: Bầu trời đêm kỳ bí  - Vũ Trụ Vô Hình _ Khám phá vũ trụ (Thuyết Minh)-7pN_gR8Cgw0.webm\n",
            "[download] 100% of 15.91MiB in 00:02\n",
            "[ffmpeg] Destination: Bầu trời đêm kỳ bí  - Vũ Trụ Vô Hình _ Khám phá vũ trụ (Thuyết Minh)-7pN_gR8Cgw0.mp3\n",
            "Deleting original file Bầu trời đêm kỳ bí  - Vũ Trụ Vô Hình _ Khám phá vũ trụ (Thuyết Minh)-7pN_gR8Cgw0.webm (pass -k to keep)\n"
          ],
          "name": "stdout"
        },
        {
          "output_type": "stream",
          "text": [
            "WARNING: The url doesn't specify the protocol, trying with http\n"
          ],
          "name": "stderr"
        },
        {
          "output_type": "stream",
          "text": [
            "youtube.com/watch?v=kzUZc0cNGgw\"\n",
            "---\n",
            "[youtube] kzUZc0cNGgw: Downloading webpage\n",
            "[youtube] kzUZc0cNGgw: Downloading video info webpage\n",
            "[download] Destination: Câu chuyện tiến hóa  - Bay Lượn _ Phim tài liệu khoa học (Thuyết Minh)-kzUZc0cNGgw.webm\n",
            "[download] 100% of 29.09MiB in 00:04\n",
            "[ffmpeg] Destination: Câu chuyện tiến hóa  - Bay Lượn _ Phim tài liệu khoa học (Thuyết Minh)-kzUZc0cNGgw.mp3\n",
            "Deleting original file Câu chuyện tiến hóa  - Bay Lượn _ Phim tài liệu khoa học (Thuyết Minh)-kzUZc0cNGgw.webm (pass -k to keep)\n"
          ],
          "name": "stdout"
        },
        {
          "output_type": "stream",
          "text": [
            "WARNING: The url doesn't specify the protocol, trying with http\n"
          ],
          "name": "stderr"
        },
        {
          "output_type": "stream",
          "text": [
            "youtube.com/watch?v=_B6lPDn-nwk\"\n",
            "---\n",
            "[youtube] _B6lPDn-nwk: Downloading webpage\n",
            "[youtube] _B6lPDn-nwk: Downloading video info webpage\n",
            "[download] Destination: Siêu không gian  - Chúng ta đến từ đâu _ Khám phá vũ trụ (Thuyết Minh)-_B6lPDn-nwk.webm\n",
            "[download] 100% of 26.42MiB in 00:01\n",
            "[ffmpeg] Destination: Siêu không gian  - Chúng ta đến từ đâu _ Khám phá vũ trụ (Thuyết Minh)-_B6lPDn-nwk.mp3\n",
            "Deleting original file Siêu không gian  - Chúng ta đến từ đâu _ Khám phá vũ trụ (Thuyết Minh)-_B6lPDn-nwk.webm (pass -k to keep)\n"
          ],
          "name": "stdout"
        },
        {
          "output_type": "stream",
          "text": [
            "WARNING: The url doesn't specify the protocol, trying with http\n"
          ],
          "name": "stderr"
        },
        {
          "output_type": "stream",
          "text": [
            "youtube.com/watch?v=xXsj6271RX0\"\n",
            "---\n",
            "[youtube] xXsj6271RX0: Downloading webpage\n",
            "[youtube] xXsj6271RX0: Downloading video info webpage\n",
            "[download] Destination: Nhà chọc trời hình tròn ở Abu Dhabi _ Khám phá thế giới (Thuyết Minh)-xXsj6271RX0.webm\n",
            "[download] 100% of 32.10MiB in 00:05\n",
            "[ffmpeg] Destination: Nhà chọc trời hình tròn ở Abu Dhabi _ Khám phá thế giới (Thuyết Minh)-xXsj6271RX0.mp3\n",
            "Deleting original file Nhà chọc trời hình tròn ở Abu Dhabi _ Khám phá thế giới (Thuyết Minh)-xXsj6271RX0.webm (pass -k to keep)\n"
          ],
          "name": "stdout"
        },
        {
          "output_type": "stream",
          "text": [
            "WARNING: The url doesn't specify the protocol, trying with http\n"
          ],
          "name": "stderr"
        },
        {
          "output_type": "stream",
          "text": [
            "youtube.com/watch?v=bWadEjL5EUc\"\n",
            "---\n",
            "[youtube] bWadEjL5EUc: Downloading webpage\n",
            "[youtube] bWadEjL5EUc: Downloading video info webpage\n",
            "[download] Destination: Câu chuyện tiến hóa  - Tốc Độ _ Phim tài liệu khoa học (Thuyết Minh)-bWadEjL5EUc.webm\n",
            "[download] 100% of 34.84MiB in 00:01\n",
            "[ffmpeg] Destination: Câu chuyện tiến hóa  - Tốc Độ _ Phim tài liệu khoa học (Thuyết Minh)-bWadEjL5EUc.mp3\n",
            "Deleting original file Câu chuyện tiến hóa  - Tốc Độ _ Phim tài liệu khoa học (Thuyết Minh)-bWadEjL5EUc.webm (pass -k to keep)\n"
          ],
          "name": "stdout"
        },
        {
          "output_type": "stream",
          "text": [
            "WARNING: The url doesn't specify the protocol, trying with http\n"
          ],
          "name": "stderr"
        },
        {
          "output_type": "stream",
          "text": [
            "youtube.com/watch?v=P6uQ7ffdUqg\"\n",
            "---\n",
            "[youtube] P6uQ7ffdUqg: Downloading webpage\n",
            "[youtube] P6uQ7ffdUqg: Downloading video info webpage\n",
            "[download] Destination: Thành phố trong một khu vườn _ Phần 2 _ Khám phá thế giới (Thuyết Minh)-P6uQ7ffdUqg.webm\n",
            "[download] 100% of 16.77MiB in 00:06\n",
            "[ffmpeg] Destination: Thành phố trong một khu vườn _ Phần 2 _ Khám phá thế giới (Thuyết Minh)-P6uQ7ffdUqg.mp3\n",
            "Deleting original file Thành phố trong một khu vườn _ Phần 2 _ Khám phá thế giới (Thuyết Minh)-P6uQ7ffdUqg.webm (pass -k to keep)\n"
          ],
          "name": "stdout"
        },
        {
          "output_type": "stream",
          "text": [
            "WARNING: The url doesn't specify the protocol, trying with http\n"
          ],
          "name": "stderr"
        },
        {
          "output_type": "stream",
          "text": [
            "youtube.com/watch?v=joNyoY2HUdU\"\n",
            "---\n",
            "[youtube] joNyoY2HUdU: Downloading webpage\n",
            "[youtube] joNyoY2HUdU: Downloading video info webpage\n",
            "[download] Destination: Thành phố trong một khu vườn _ Phần 1 _ Khám phá thế giới (Thuyết Minh)-joNyoY2HUdU.m4a\n",
            "[download] 100% of 21.21MiB in 00:00\n",
            "[ffmpeg] Correcting container in \"Thành phố trong một khu vườn _ Phần 1 _ Khám phá thế giới (Thuyết Minh)-joNyoY2HUdU.m4a\"\n",
            "[ffmpeg] Destination: Thành phố trong một khu vườn _ Phần 1 _ Khám phá thế giới (Thuyết Minh)-joNyoY2HUdU.mp3\n",
            "Deleting original file Thành phố trong một khu vườn _ Phần 1 _ Khám phá thế giới (Thuyết Minh)-joNyoY2HUdU.m4a (pass -k to keep)\n"
          ],
          "name": "stdout"
        }
      ]
    },
    {
      "metadata": {
        "id": "aYvK_lTt0_ze",
        "colab_type": "code",
        "colab": {}
      },
      "cell_type": "code",
      "source": [
        "# Install the PyDrive wrapper & import libraries.\n",
        "# This only needs to be done once in a notebook.\n",
        "!pip install -U -q PyDrive\n",
        "from pydrive.auth import GoogleAuth\n",
        "from pydrive.drive import GoogleDrive\n",
        "from google.colab import auth\n",
        "from oauth2client.client import GoogleCredentials"
      ],
      "execution_count": 0,
      "outputs": []
    },
    {
      "metadata": {
        "id": "3Py1Mkuw-_HG",
        "colab_type": "code",
        "colab": {}
      },
      "cell_type": "code",
      "source": [
        "# Authenticate and create the PyDrive client.\n",
        "# This only needs to be done once in a notebook.\n",
        "auth.authenticate_user()\n",
        "gauth = GoogleAuth()\n",
        "gauth.credentials = GoogleCredentials.get_application_default()\n",
        "drive = GoogleDrive(gauth)"
      ],
      "execution_count": 0,
      "outputs": []
    },
    {
      "metadata": {
        "id": "TFS5fvgaAQYU",
        "colab_type": "code",
        "colab": {
          "base_uri": "https://localhost:8080/",
          "height": 527
        },
        "outputId": "f5e79400-589d-40d2-d0c4-cc5b4c18dadc"
      },
      "cell_type": "code",
      "source": [
        "ls"
      ],
      "execution_count": 14,
      "outputs": [
        {
          "output_type": "stream",
          "text": [
            " adc.json\n",
            "'Bầu trời đêm kỳ bí  - Vũ Trụ Vô Hình _ Khám phá vũ trụ (Thuyết Minh)-7pN_gR8Cgw0.mp3'\n",
            "'Câu chuyện tiến hóa  - Bay Lượn _ Phim tài liệu khoa học (Thuyết Minh)-kzUZc0cNGgw.mp3'\n",
            "'Câu chuyện tiến hóa  - BỘ DA _ Phim tài liệu khoa học (Thuyết Minh)-44b68udjZQI.mp3'\n",
            "'Câu chuyện tiến hóa  - BỘ HÀM _ Phim khoa học (Thuyết Minh)-GRmdDJbTJZk.mp3'\n",
            "'Câu chuyện tiến hóa  - CON MẮT _ Phim khoa học (Thuyết Minh)-VKcgstP7EHM.mp3'\n",
            "'Câu chuyện tiến hóa  - Tốc Độ _ Phim tài liệu khoa học (Thuyết Minh)-bWadEjL5EUc.mp3'\n",
            "'Chinh phục Mặt Trời - Phần 1 _ Khám phá vũ trụ (Thuyết Minh)-sZBHzp2nOtY.mp3'\n",
            "'Chinh phục Mặt Trời - Phần 2 _ Khám phá vũ trụ (Thuyết Minh)-ymZMYYvET4k.mp3'\n",
            " \u001b[0m\u001b[01;34mconcoc\u001b[0m/\n",
            "'Khả năng siêu việt của các loài động vật - Phần 1-GE1RolMyoBw.mp3'\n",
            "'Khả năng siêu việt của các loài động vật - Phần 2--Qa6Ue5ERnA.mp3'\n",
            "'Nhà chọc trời hình tròn ở Abu Dhabi _ Khám phá thế giới (Thuyết Minh)-xXsj6271RX0.mp3'\n",
            "'Nước mới của Singapore _ Khám phá thế giới (Thuyết Minh)-Exn-zRhXPYg.mp3'\n",
            " \u001b[01;34msample_data\u001b[0m/\n",
            "'Sao Kim và Mặt Trời lúc nửa đêm - Phần 1 _ Khám phá vũ trụ (Thuyết Minh)-nxUjxSfFrJ0.mp3'\n",
            "'Sao Kim và Mặt Trời lúc nửa đêm - Phần 2 _ Khám phá vũ trụ (Thuyết Minh)-wsIgGcn9Nlo.mp3'\n",
            "'Siêu giác quan động vật  - TRÊN TRỜI _ Khám phá thế giới (Thuyết Minh)-WcZSW31zVFI.mp3'\n",
            "'Siêu không gian  - Chúng ta đến từ đâu _ Khám phá vũ trụ (Thuyết Minh)-_B6lPDn-nwk.mp3'\n",
            "'Sức mạnh của vàng - Phần 1 _ Khám phá thế giới (Thuyết Minh)-Fww2S9K-Nl4.mp3'\n",
            "'Sức mạnh của vàng - Phần 2 _ Khám phá thế giới (Thuyết Minh)-m12ir4Iv5k0.mp3'\n",
            "'Sức mạnh của vàng - Phần 3+4 _ Khám phá thế giới (Thuyết Minh)-CADUjlhpou0.mp3'\n",
            "'Sức mạnh của vàng - Phần 5+6 _ Khám phá thế giới (Thuyết Minh)-XIXxdx9jlqk.mp3'\n",
            "'Thành phố trong một khu vườn _ Phần 1 _ Khám phá thế giới (Thuyết Minh)-joNyoY2HUdU.mp3'\n",
            "'Thành phố trong một khu vườn _ Phần 2 _ Khám phá thế giới (Thuyết Minh)-P6uQ7ffdUqg.mp3'\n",
            "'Tòa tháp chống lốc xoáy Chicago - Phần 1 _ Khám phá thế giới (Thuyết Minh)-jCH-1s7CmYE.mp3'\n",
            "'Tòa tháp chống lốc xoáy Chicago - Phần 2 _ Khám phá thế giới (Thuyết Minh)-4vnbONyiLCU.mp3'\n",
            "'Trái đất được hình thành như thế nào  Khe vực Mariana - Phần 1 (Thuyết Minh)-KNw33M0Tbfc.mp3'\n",
            "'Trái đất được hình thành như thế nào  Khe vực Mariana - Phần 2 (Thuyết Minh)-5gaMwBoya4g.mp3'\n",
            " \u001b[01;34mvideos\u001b[0m/\n"
          ],
          "name": "stdout"
        }
      ]
    },
    {
      "metadata": {
        "id": "-SeE1QUB_Dop",
        "colab_type": "code",
        "colab": {
          "base_uri": "https://localhost:8080/",
          "height": 34
        },
        "outputId": "f8151c89-a31f-40c0-cebd-b1ce32e83929"
      },
      "cell_type": "code",
      "source": [
        "# Create & upload a file.\n",
        "#uploaded = drive.CreateFile({'title': 'filename.csv'})\n",
        "uploaded = drive.CreateFile({'title': 'Trái đất được hình thành như thế nào  Khe vực Mariana - Phần 2 (Thuyết Minh)-5gaMwBoya4g.mp3'})\n",
        "#uploaded.SetContentFile('filename.csv')\n",
        "uploaded.SetContentFile('Trái đất được hình thành như thế nào  Khe vực Mariana - Phần 2 (Thuyết Minh)-5gaMwBoya4g.mp3')\n",
        "uploaded.Upload()\n",
        "print('Uploaded file with ID {}'.format(uploaded.get('id')))"
      ],
      "execution_count": 15,
      "outputs": [
        {
          "output_type": "stream",
          "text": [
            "Uploaded file with ID 1OaWHW24j3noMR8F1rRW9vpgFOMTf-bdV\n"
          ],
          "name": "stdout"
        }
      ]
    },
    {
      "metadata": {
        "id": "xcPjQf7tAol-",
        "colab_type": "code",
        "colab": {}
      },
      "cell_type": "code",
      "source": [
        "listvids=['Bầu trời đêm kỳ bí  - Vũ Trụ Vô Hình _ Khám phá vũ trụ (Thuyết Minh)-7pN_gR8Cgw0.mp3','Câu chuyện tiến hóa  - Bay Lượn _ Phim tài liệu khoa học (Thuyết Minh)-kzUZc0cNGgw.mp3','Câu chuyện tiến hóa  - BỘ DA _ Phim tài liệu khoa học (Thuyết Minh)-44b68udjZQI.mp3','Câu chuyện tiến hóa  - BỘ HÀM _ Phim khoa học (Thuyết Minh)-GRmdDJbTJZk.mp3','Câu chuyện tiến hóa  - CON MẮT _ Phim khoa học (Thuyết Minh)-VKcgstP7EHM.mp3','Câu chuyện tiến hóa  - Tốc Độ _ Phim tài liệu khoa học (Thuyết Minh)-bWadEjL5EUc.mp3','Chinh phục Mặt Trời - Phần 1 _ Khám phá vũ trụ (Thuyết Minh)-sZBHzp2nOtY.mp3','Chinh phục Mặt Trời - Phần 2 _ Khám phá vũ trụ (Thuyết Minh)-ymZMYYvET4k.mp3','Khả năng siêu việt của các loài động vật - Phần 1-GE1RolMyoBw.mp3','Khả năng siêu việt của các loài động vật - Phần 2--Qa6Ue5ERnA.mp3','Nhà chọc trời hình tròn ở Abu Dhabi _ Khám phá thế giới (Thuyết Minh)-xXsj6271RX0.mp3','Nước mới của Singapore _ Khám phá thế giới (Thuyết Minh)-Exn-zRhXPYg.mp3','Sao Kim và Mặt Trời lúc nửa đêm - Phần 1 _ Khám phá vũ trụ (Thuyết Minh)-nxUjxSfFrJ0.mp3','Sao Kim và Mặt Trời lúc nửa đêm - Phần 2 _ Khám phá vũ trụ (Thuyết Minh)-wsIgGcn9Nlo.mp3','Siêu giác quan động vật  - TRÊN TRỜI _ Khám phá thế giới (Thuyết Minh)-WcZSW31zVFI.mp3','Siêu không gian  - Chúng ta đến từ đâu _ Khám phá vũ trụ (Thuyết Minh)-_B6lPDn-nwk.mp3','Sức mạnh của vàng - Phần 1 _ Khám phá thế giới (Thuyết Minh)-Fww2S9K-Nl4.mp3','Sức mạnh của vàng - Phần 2 _ Khám phá thế giới (Thuyết Minh)-m12ir4Iv5k0.mp3','Sức mạnh của vàng - Phần 3+4 _ Khám phá thế giới (Thuyết Minh)-CADUjlhpou0.mp3','Sức mạnh của vàng - Phần 5+6 _ Khám phá thế giới (Thuyết Minh)-XIXxdx9jlqk.mp3','Thành phố trong một khu vườn _ Phần 1 _ Khám phá thế giới (Thuyết Minh)-joNyoY2HUdU.mp3','Thành phố trong một khu vườn _ Phần 2 _ Khám phá thế giới (Thuyết Minh)-P6uQ7ffdUqg.mp3','Tòa tháp chống lốc xoáy Chicago - Phần 1 _ Khám phá thế giới (Thuyết Minh)-jCH-1s7CmYE.mp3','Tòa tháp chống lốc xoáy Chicago - Phần 2 _ Khám phá thế giới (Thuyết Minh)-4vnbONyiLCU.mp3','Trái đất được hình thành như thế nào  Khe vực Mariana - Phần 1 (Thuyết Minh)-KNw33M0Tbfc.mp3']"
      ],
      "execution_count": 0,
      "outputs": []
    },
    {
      "metadata": {
        "id": "UP2ki2NjClwL",
        "colab_type": "code",
        "colab": {}
      },
      "cell_type": "code",
      "source": [
        "def file2grive(fname):\n",
        "  uploaded = drive.CreateFile({'title': fname})\n",
        "  uploaded.SetContentFile(fname)\n",
        "  uploaded.Upload()\n",
        "  print('Uploaded file with ID {}'.format(uploaded.get('id')))"
      ],
      "execution_count": 0,
      "outputs": []
    },
    {
      "metadata": {
        "id": "TQJzaKoYCYPZ",
        "colab_type": "code",
        "colab": {
          "base_uri": "https://localhost:8080/",
          "height": 867
        },
        "outputId": "ddbcff4c-84fb-4b22-f88e-0d6c3f995344"
      },
      "cell_type": "code",
      "source": [
        "for vi in listvids:\n",
        "  print(vi)\n",
        "  file2grive(vi)"
      ],
      "execution_count": 20,
      "outputs": [
        {
          "output_type": "stream",
          "text": [
            "Bầu trời đêm kỳ bí  - Vũ Trụ Vô Hình _ Khám phá vũ trụ (Thuyết Minh)-7pN_gR8Cgw0.mp3\n",
            "Uploaded file with ID 1LZ3vXqjGNoNDqHYApTogzJywHtsEjQ5l\n",
            "Câu chuyện tiến hóa  - Bay Lượn _ Phim tài liệu khoa học (Thuyết Minh)-kzUZc0cNGgw.mp3\n",
            "Uploaded file with ID 1I6bzevZJWTmbD_we6H7nVC51l50ev342\n",
            "Câu chuyện tiến hóa  - BỘ DA _ Phim tài liệu khoa học (Thuyết Minh)-44b68udjZQI.mp3\n",
            "Uploaded file with ID 1CUbNThQl9Fn9k5rcNVnD_OdAfwpegzUH\n",
            "Câu chuyện tiến hóa  - BỘ HÀM _ Phim khoa học (Thuyết Minh)-GRmdDJbTJZk.mp3\n",
            "Uploaded file with ID 16Wf8CHPBfiTqrWLvZqPjsfYj2kUeqG50\n",
            "Câu chuyện tiến hóa  - CON MẮT _ Phim khoa học (Thuyết Minh)-VKcgstP7EHM.mp3\n",
            "Uploaded file with ID 1LlsL73MOP5ptlm1CTs2fN1Hi7JtiyTGa\n",
            "Câu chuyện tiến hóa  - Tốc Độ _ Phim tài liệu khoa học (Thuyết Minh)-bWadEjL5EUc.mp3\n",
            "Uploaded file with ID 1AaEweSBMMxTpEr0dFNfPVfgnA9YZtcnh\n",
            "Chinh phục Mặt Trời - Phần 1 _ Khám phá vũ trụ (Thuyết Minh)-sZBHzp2nOtY.mp3\n",
            "Uploaded file with ID 1WzZiew6uE5_C0FNcMrmnXZGTy5rlVgjs\n",
            "Chinh phục Mặt Trời - Phần 2 _ Khám phá vũ trụ (Thuyết Minh)-ymZMYYvET4k.mp3\n",
            "Uploaded file with ID 17dJ2nIlMey3bB193MRx7wSCR_0_dbBr2\n",
            "Khả năng siêu việt của các loài động vật - Phần 1-GE1RolMyoBw.mp3\n",
            "Uploaded file with ID 13Qqi2WHYlLhDlR0GfcRk_9n0nJjFa_K5\n",
            "Khả năng siêu việt của các loài động vật - Phần 2--Qa6Ue5ERnA.mp3\n",
            "Uploaded file with ID 1XsfEuY2Y5zbomyn-661rl4GMfMv80Ven\n",
            "Nhà chọc trời hình tròn ở Abu Dhabi _ Khám phá thế giới (Thuyết Minh)-xXsj6271RX0.mp3\n",
            "Uploaded file with ID 1CnttB035CEDe-aT9EcKpRN0-xTxdkVZU\n",
            "Nước mới của Singapore _ Khám phá thế giới (Thuyết Minh)-Exn-zRhXPYg.mp3\n",
            "Uploaded file with ID 1mftblWQZ_dyGVT-xed7qO_cu5OFq35FH\n",
            "Sao Kim và Mặt Trời lúc nửa đêm - Phần 1 _ Khám phá vũ trụ (Thuyết Minh)-nxUjxSfFrJ0.mp3\n",
            "Uploaded file with ID 1XLmOO8b5UsONsRUzG8uWaTeWv0xyDXrD\n",
            "Sao Kim và Mặt Trời lúc nửa đêm - Phần 2 _ Khám phá vũ trụ (Thuyết Minh)-wsIgGcn9Nlo.mp3\n",
            "Uploaded file with ID 12ubZoG_Ovh4_KqZn5l0yihl_GNTxh_JO\n",
            "Siêu giác quan động vật  - TRÊN TRỜI _ Khám phá thế giới (Thuyết Minh)-WcZSW31zVFI.mp3\n",
            "Uploaded file with ID 1GvedtMBZqh47o1zDyoQDa_cY3QAk2SWT\n",
            "Siêu không gian  - Chúng ta đến từ đâu _ Khám phá vũ trụ (Thuyết Minh)-_B6lPDn-nwk.mp3\n",
            "Uploaded file with ID 1lRr3aL3UhUerlWU3oZ7EaROFQNWaNoj2\n",
            "Sức mạnh của vàng - Phần 1 _ Khám phá thế giới (Thuyết Minh)-Fww2S9K-Nl4.mp3\n",
            "Uploaded file with ID 1EZaXiU4df2MCsFr1ePi9q3VC0eWXPTGh\n",
            "Sức mạnh của vàng - Phần 2 _ Khám phá thế giới (Thuyết Minh)-m12ir4Iv5k0.mp3\n",
            "Uploaded file with ID 13P8BFqgj-6cb46TtPWFjvYkqJ9RlSEez\n",
            "Sức mạnh của vàng - Phần 3+4 _ Khám phá thế giới (Thuyết Minh)-CADUjlhpou0.mp3\n",
            "Uploaded file with ID 1nOsHyXzrgJq4XrmrkZfJ4h0HnRYvq-9K\n",
            "Sức mạnh của vàng - Phần 5+6 _ Khám phá thế giới (Thuyết Minh)-XIXxdx9jlqk.mp3\n",
            "Uploaded file with ID 13hQZrssgoINBkvs8GL3-2qZpBRRjMsip\n",
            "Thành phố trong một khu vườn _ Phần 1 _ Khám phá thế giới (Thuyết Minh)-joNyoY2HUdU.mp3\n",
            "Uploaded file with ID 1ITnW0jNAdIS72wYCZUuVN0-o5CPup3PP\n",
            "Thành phố trong một khu vườn _ Phần 2 _ Khám phá thế giới (Thuyết Minh)-P6uQ7ffdUqg.mp3\n",
            "Uploaded file with ID 1ZTZnfSflJA09SAzvlfkmmD62MSQTpWks\n",
            "Tòa tháp chống lốc xoáy Chicago - Phần 1 _ Khám phá thế giới (Thuyết Minh)-jCH-1s7CmYE.mp3\n",
            "Uploaded file with ID 1wzTtBEmrdKlk_4LogI1Fm-85cCO2g7qX\n",
            "Tòa tháp chống lốc xoáy Chicago - Phần 2 _ Khám phá thế giới (Thuyết Minh)-4vnbONyiLCU.mp3\n",
            "Uploaded file with ID 1CI1zOWgtgKlA07oY1faTL0DTSPWNZOvF\n",
            "Trái đất được hình thành như thế nào  Khe vực Mariana - Phần 1 (Thuyết Minh)-KNw33M0Tbfc.mp3\n",
            "Uploaded file with ID 1wBY7ZOSSymy21zNn4PCSTi8_oArCTpqg\n"
          ],
          "name": "stdout"
        }
      ]
    },
    {
      "metadata": {
        "id": "CccIhAmjCc3e",
        "colab_type": "code",
        "colab": {}
      },
      "cell_type": "code",
      "source": [
        ""
      ],
      "execution_count": 0,
      "outputs": []
    }
  ]
}