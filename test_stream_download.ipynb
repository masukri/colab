{
  "nbformat": 4,
  "nbformat_minor": 0,
  "metadata": {
    "colab": {
      "name": "test_stream_download.ipynb",
      "version": "0.3.2",
      "provenance": [],
      "collapsed_sections": [],
      "include_colab_link": true
    },
    "kernelspec": {
      "name": "python3",
      "display_name": "Python 3"
    }
  },
  "cells": [
    {
      "cell_type": "markdown",
      "metadata": {
        "id": "view-in-github",
        "colab_type": "text"
      },
      "source": [
        "<a href=\"https://colab.research.google.com/github/soiqualang/colab/blob/master/test_stream_download.ipynb\" target=\"_parent\"><img src=\"https://colab.research.google.com/assets/colab-badge.svg\" alt=\"Open In Colab\"/></a>"
      ]
    },
    {
      "cell_type": "code",
      "metadata": {
        "id": "YewfAbrT1Fyi",
        "colab_type": "code",
        "colab": {}
      },
      "source": [
        "import requests\n",
        "\n",
        "def download_file(url):\n",
        "    #local_filename = url.split('/')[-1]\n",
        "    local_filename='Forest_owner_type_2017'\n",
        "    # NOTE the stream=True parameter below\n",
        "    with requests.get(url, stream=True) as r:\n",
        "        r.raise_for_status()\n",
        "        with open(local_filename, 'wb') as f:\n",
        "            for chunk in r.iter_content(chunk_size=8192): \n",
        "                if chunk: # filter out keep-alive new chunks\n",
        "                    f.write(chunk)\n",
        "                    # f.flush()\n",
        "    return local_filename"
      ],
      "execution_count": 0,
      "outputs": []
    },
    {
      "cell_type": "code",
      "metadata": {
        "id": "6ZQ9--QG1xmW",
        "colab_type": "code",
        "outputId": "cc705550-8fb5-441e-c422-8c89481ad4df",
        "colab": {
          "base_uri": "https://localhost:8080/",
          "height": 88
        }
      },
      "source": [
        "wfs1='http://maps.vnforest.gov.vn:802/geoserver/FRMS/ows?service=WFS&version=1.0.0&request=GetFeature&outputFormat=csv&maxFeatures=50&typeName=Forest_owner_type_2017'\n",
        "wfs_shp='http://maps.vnforest.gov.vn:802/geoserver/FRMS/ows?service=WFS&version=1.0.0&request=GetFeature&outputFormat=SHAPE-ZIP&maxFeatures=50&typeName=Forest_owner_type_2017'\n",
        "download_file(wfs_shp)"
      ],
      "execution_count": 0,
      "outputs": [
        {
          "output_type": "stream",
          "text": [
            "Downloading: http://maps.vnforest.gov.vn:802/geoserver/FRMS/ows?service=WFS&version=1.0.0&request=GetFeature&outputFormat=SHAPE-ZIP&maxFeatures=50&typeName=Forest_owner_type_2017 Bytes: None\n",
            "           19722\n"
          ],
          "name": "stdout"
        },
        {
          "output_type": "execute_result",
          "data": {
            "text/plain": [
              "'ows'"
            ]
          },
          "metadata": {
            "tags": []
          },
          "execution_count": 10
        }
      ]
    },
    {
      "cell_type": "markdown",
      "metadata": {
        "id": "jGnj90zk2uCl",
        "colab_type": "text"
      },
      "source": [
        "# Cách khác"
      ]
    },
    {
      "cell_type": "code",
      "metadata": {
        "id": "YzDVav_e2NPI",
        "colab_type": "code",
        "outputId": "fdeb865a-c29d-43b6-f50d-823c33a197dd",
        "colab": {
          "base_uri": "https://localhost:8080/",
          "height": 88
        }
      },
      "source": [
        "#!/usr/bin/env python\n",
        "# -*- coding: utf-8 -*-\n",
        "from __future__ import ( division, absolute_import, print_function, unicode_literals )\n",
        "\n",
        "import sys, os, tempfile, logging\n",
        "\n",
        "if sys.version_info >= (3,):\n",
        "    import urllib.request as urllib2\n",
        "    import urllib.parse as urlparse\n",
        "else:\n",
        "    import urllib2\n",
        "    import urlparse\n",
        "\n",
        "def download_file(url, dest=None):\n",
        "    \"\"\" \n",
        "    Download and save a file specified by url to dest directory,\n",
        "    \"\"\"\n",
        "    u = urllib2.urlopen(url)\n",
        "\n",
        "    scheme, netloc, path, query, fragment = urlparse.urlsplit(url)\n",
        "    filename = os.path.basename(path)\n",
        "    if not filename:\n",
        "        filename = 'downloaded.file'\n",
        "    if dest:\n",
        "        filename = os.path.join(dest, filename)\n",
        "\n",
        "    with open(filename, 'wb') as f:\n",
        "        meta = u.info()\n",
        "        meta_func = meta.getheaders if hasattr(meta, 'getheaders') else meta.get_all\n",
        "        meta_length = meta_func(\"Content-Length\")\n",
        "        file_size = None\n",
        "        if meta_length:\n",
        "            file_size = int(meta_length[0])\n",
        "        print(\"Downloading: {0} Bytes: {1}\".format(url, file_size))\n",
        "\n",
        "        file_size_dl = 0\n",
        "        block_sz = 8192\n",
        "        while True:\n",
        "            buffer = u.read(block_sz)\n",
        "            if not buffer:\n",
        "                break\n",
        "\n",
        "            file_size_dl += len(buffer)\n",
        "            f.write(buffer)\n",
        "\n",
        "            status = \"{0:16}\".format(file_size_dl)\n",
        "            if file_size:\n",
        "                status += \"   [{0:6.2f}%]\".format(file_size_dl * 100 / file_size)\n",
        "            status += chr(13)\n",
        "            print(status, end=\"\")\n",
        "        print()\n",
        "\n",
        "    return filename\n",
        "\n",
        "if __name__ == \"__main__\":  # Only run if this file is called directly\n",
        "    filename = download_file(wfs1)\n",
        "    print(filename)"
      ],
      "execution_count": 0,
      "outputs": [
        {
          "output_type": "stream",
          "text": [
            "Downloading: http://maps.vnforest.gov.vn:802/geoserver/FRMS/ows?service=WFS&version=1.0.0&request=GetFeature&outputFormat=csv&maxFeatures=50&typeName=Forest_owner_type_2017 Bytes: None\n",
            "          229540\n",
            "ows\n"
          ],
          "name": "stdout"
        }
      ]
    },
    {
      "cell_type": "markdown",
      "metadata": {
        "id": "RgVnT-9n3OxW",
        "colab_type": "text"
      },
      "source": [
        "# Lại cách khác"
      ]
    },
    {
      "cell_type": "code",
      "metadata": {
        "id": "Yf0d8zWi2yA5",
        "colab_type": "code",
        "outputId": "e2be05c9-984c-47d6-cfa0-7b1f6b85b0f3",
        "colab": {
          "base_uri": "https://localhost:8080/",
          "height": 34
        }
      },
      "source": [
        "#https://stackoverflow.com/questions/22676/how-do-i-download-a-file-over-http-using-python\n",
        "import urllib.request\n",
        "urllib.request.urlretrieve(wfs1,\"rung2017.json\")"
      ],
      "execution_count": 0,
      "outputs": [
        {
          "output_type": "execute_result",
          "data": {
            "text/plain": [
              "('rung2017.json', <http.client.HTTPMessage at 0x7f496c42c0b8>)"
            ]
          },
          "metadata": {
            "tags": []
          },
          "execution_count": 6
        }
      ]
    },
    {
      "cell_type": "markdown",
      "metadata": {
        "id": "evoqfQZ_7E-6",
        "colab_type": "text"
      },
      "source": [
        "# Tải shapefile"
      ]
    },
    {
      "cell_type": "code",
      "metadata": {
        "id": "B970e93T3Sv0",
        "colab_type": "code",
        "outputId": "bbce00a8-2178-4071-d86f-5b22e7b5d8bc",
        "colab": {
          "base_uri": "https://localhost:8080/",
          "height": 224
        }
      },
      "source": [
        "!wget \"http://maps.vnforest.gov.vn:802/geoserver/FRMS/ows?service=WFS&version=1.0.0&request=GetFeature&outputFormat=SHAPE-ZIP&maxFeatures=50&typeName=Forest_owner_type_2017\" -O t1.zip"
      ],
      "execution_count": 0,
      "outputs": [
        {
          "output_type": "stream",
          "text": [
            "--2019-05-29 04:38:35--  http://maps.vnforest.gov.vn:802/geoserver/FRMS/ows?service=WFS&version=1.0.0&request=GetFeature&outputFormat=SHAPE-ZIP&maxFeatures=50&typeName=Forest_owner_type_2017\n",
            "Resolving maps.vnforest.gov.vn (maps.vnforest.gov.vn)... 103.7.172.206\n",
            "Connecting to maps.vnforest.gov.vn (maps.vnforest.gov.vn)|103.7.172.206|:802... connected.\n",
            "HTTP request sent, awaiting response... 200 OK\n",
            "Length: unspecified [application/zip]\n",
            "Saving to: ‘t1.zip’\n",
            "\n",
            "t1.zip                  [      <=>           ] 102.89K  72.7KB/s    in 1.4s    \n",
            "\n",
            "2019-05-29 04:38:37 (72.7 KB/s) - ‘t1.zip’ saved [105362]\n",
            "\n"
          ],
          "name": "stdout"
        }
      ]
    }
  ]
}