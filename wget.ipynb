{
  "nbformat": 4,
  "nbformat_minor": 0,
  "metadata": {
    "colab": {
      "name": "wget.ipynb",
      "version": "0.3.2",
      "provenance": [],
      "collapsed_sections": [],
      "include_colab_link": true
    },
    "kernelspec": {
      "name": "python3",
      "display_name": "Python 3"
    }
  },
  "cells": [
    {
      "cell_type": "markdown",
      "metadata": {
        "id": "view-in-github",
        "colab_type": "text"
      },
      "source": [
        "<a href=\"https://colab.research.google.com/github/soiqualang/colab/blob/master/wget.ipynb\" target=\"_parent\"><img src=\"https://colab.research.google.com/assets/colab-badge.svg\" alt=\"Open In Colab\"/></a>"
      ]
    },
    {
      "cell_type": "markdown",
      "metadata": {
        "id": "l4KLo4k9ttHR",
        "colab_type": "text"
      },
      "source": [
        "https://www.hostinger.vn/huong-dan/lam-nao-de-su-dung-wget-command/\n",
        "\n",
        "https://tailieu.vn/readpdf/tailieu/2018/20181113/tiantian2811/bo_de_thi_hoc_ki_2_mon_hoa_hoc_lop_10_nam_2017_2018_co_dap_an_1703.pdf\n",
        "\n",
        "\n",
        "\n",
        "https://tailieu.vn/docview/tailieu/2009/\n",
        "https://tailieu.vn/docview/tailieu/2010/\n",
        "\n",
        "20100724\n",
        "20091114\n",
        "\n",
        "\n",
        "https://tailieu.vn/readpdf/tailieu/2009/20090301/\n",
        "\n",
        "\n",
        "wget --mirror --convert-links --page-requisites --no-parent -P documents/websites/ https://some-website.com"
      ]
    },
    {
      "cell_type": "code",
      "metadata": {
        "id": "MUzVspdZHYuu",
        "colab_type": "code",
        "outputId": "eafb69c9-c5aa-4494-8afb-2f218cd47e0f",
        "colab": {
          "base_uri": "https://localhost:8080/",
          "height": 85
        }
      },
      "source": [
        "!wget --mirror --convert-links --page-requisites --no-parent -P ./20090301/ https://tailieu.vn/readpdf/tailieu/2009/20090301/"
      ],
      "execution_count": 0,
      "outputs": [
        {
          "output_type": "stream",
          "text": [
            "--2019-05-30 03:18:00--  https://tailieu.vn/readpdf/tailieu/2009/20090301/\n",
            "Resolving tailieu.vn (tailieu.vn)... 222.255.121.243\n",
            "Connecting to tailieu.vn (tailieu.vn)|222.255.121.243|:443... connected.\n",
            "^C\n"
          ],
          "name": "stdout"
        }
      ]
    },
    {
      "cell_type": "code",
      "metadata": {
        "id": "LVcayRWeujS6",
        "colab_type": "code",
        "colab": {}
      },
      "source": [
        ""
      ],
      "execution_count": 0,
      "outputs": []
    }
  ]
}