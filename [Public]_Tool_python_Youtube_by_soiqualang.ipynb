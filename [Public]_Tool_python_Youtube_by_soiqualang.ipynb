{
  "nbformat": 4,
  "nbformat_minor": 0,
  "metadata": {
    "colab": {
      "name": "[Public] Tool python Youtube - by soiqualang.ipynb",
      "version": "0.3.2",
      "provenance": [],
      "collapsed_sections": [],
      "include_colab_link": true
    },
    "kernelspec": {
      "name": "python3",
      "display_name": "Python 3"
    }
  },
  "cells": [
    {
      "cell_type": "markdown",
      "metadata": {
        "id": "view-in-github",
        "colab_type": "text"
      },
      "source": [
        "<a href=\"https://colab.research.google.com/github/soiqualang/colab/blob/master/%5BPublic%5D_Tool_python_Youtube_by_soiqualang.ipynb\" target=\"_parent\"><img src=\"https://colab.research.google.com/assets/colab-badge.svg\" alt=\"Open In Colab\"/></a>"
      ]
    },
    {
      "cell_type": "markdown",
      "metadata": {
        "id": "yed2kmn9vAME",
        "colab_type": "text"
      },
      "source": [
        "# Python tool for Youtube\n",
        "* Download video form Youtube\n",
        "* Download mp3 from Youtube\n",
        "* Get list video from Youtube playlist"
      ]
    },
    {
      "cell_type": "code",
      "metadata": {
        "id": "UNzeybNAcSfN",
        "colab_type": "code",
        "colab": {}
      },
      "source": [
        "#youtube 2 mp3\n",
        "!pip install youtube_dl\n",
        "\n",
        "import requests\n",
        "from __future__ import unicode_literals\n",
        "import youtube_dl\n",
        "\n",
        "####\n",
        "\n",
        "def youtube2video(download_path,youtube_url):\n",
        "    Location = '%s soiqualang_%(extractor)s-%(id)s-%(title)s.%(ext)s'.replace(\"%s \", download_path)\n",
        "    ytdl_format_options = {\n",
        "        'outtmpl': Location\n",
        "    }\n",
        "    with youtube_dl.YoutubeDL(ytdl_format_options) as ydl:\n",
        "         ydl.download([youtube_url])\n",
        "            \n",
        "def youtube2mp3(download_path,youtube_url):\n",
        "    Location = '%s soiqualang_%(extractor)s-%(id)s-%(title)s.%(ext)s'.replace(\"%s \", download_path)\n",
        "    ydl_opts = {\n",
        "        'outtmpl': Location,\n",
        "        'format': 'bestaudio/best',\n",
        "        'postprocessors': [{\n",
        "            'key': 'FFmpegExtractAudio',\n",
        "            'preferredcodec': 'mp3',\n",
        "            'preferredquality': '192',\n",
        "        }],\n",
        "    }\n",
        "    with youtube_dl.YoutubeDL(ydl_opts) as ydl:\n",
        "        ydl.download([youtube_url])\n",
        "        \n",
        "def get_listvideo(url):\n",
        "    #url=\"https://www.youtube.com/channel/UCIKTHNRRnVP5d8FpDI5YhXQ/videos\"\n",
        "    page = requests.get(url).content\n",
        "    data = str(page).split(' ')\n",
        "    item = 'href=\"/watch?'\n",
        "    vids = [line.replace('href=\"', 'youtube.com') for line in data if item in line] # list of all videos listed twice\n",
        "    #print(vids[0]) # index the latest video\n",
        "    return vids"
      ],
      "execution_count": 0,
      "outputs": []
    },
    {
      "cell_type": "code",
      "metadata": {
        "id": "QdvmOF1TtCMs",
        "colab_type": "code",
        "colab": {}
      },
      "source": [
        "func_selected = \"Download video\" #@param [\"Download video\", \"Download mp3\", \"Get all video in list\", \"Video to text\"]\n",
        "youtube_url = 'http://www.youtube.com/watch?v=BaW_jenozKc'  #@param {type: \"string\"}\n",
        "download_path = 'download'  #@param {type: \"string\"}\n",
        "\n",
        "finalchar=download_path[len(download_path)-1]\n",
        "if(finalchar!='/'):\n",
        "    download_path+='/'\n",
        "    \n",
        "\n",
        "######\n",
        "\n",
        "if(func_selected=='Download video'):\n",
        "    youtube2video(download_path,youtube_url)\n",
        "elif(func_selected=='Download mp3'):\n",
        "    youtube2mp3(download_path,youtube_url)\n",
        "elif(func_selected=='Get all video in list'):\n",
        "    lvideo=get_listvideo(youtube_url)\n",
        "    print(lvideo)\n",
        "elif(func_selected=='Video to text'):\n",
        "    print('Đang xây dựng :v')\n",
        "else:\n",
        "    youtube2video(download_path,youtube_url)"
      ],
      "execution_count": 0,
      "outputs": []
    },
    {
      "cell_type": "code",
      "metadata": {
        "id": "DwG44rxJtG_F",
        "colab_type": "code",
        "colab": {}
      },
      "source": [
        ""
      ],
      "execution_count": 0,
      "outputs": []
    }
  ]
}