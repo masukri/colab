{
  "nbformat": 4,
  "nbformat_minor": 0,
  "metadata": {
    "colab": {
      "name": "kiemtrachuong5.ipynb",
      "version": "0.3.2",
      "provenance": [],
      "collapsed_sections": [],
      "include_colab_link": true
    },
    "language_info": {
      "codemirror_mode": {
        "name": "ipython",
        "version": 3
      },
      "file_extension": ".py",
      "mimetype": "text/x-python",
      "name": "python",
      "nbconvert_exporter": "python",
      "pygments_lexer": "ipython3",
      "version": "3.6.2"
    },
    "kernelspec": {
      "display_name": "Python 3",
      "language": "python",
      "name": "python3"
    }
  },
  "cells": [
    {
      "cell_type": "markdown",
      "metadata": {
        "id": "view-in-github",
        "colab_type": "text"
      },
      "source": [
        "<a href=\"https://colab.research.google.com/github/soiqualang/colab/blob/master/kiemtrachuong5.ipynb\" target=\"_parent\"><img src=\"https://colab.research.google.com/assets/colab-badge.svg\" alt=\"Open In Colab\"/></a>"
      ]
    },
    {
      "cell_type": "code",
      "metadata": {
        "id": "bsDvm9OlAqoz",
        "colab_type": "code",
        "outputId": "8e55da00-8542-486f-a928-cecd1f26a6c9",
        "colab": {}
      },
      "source": [
        "import math\n",
        "def kiemtrasoNguyenTo(x):\n",
        "    if x<=1:\n",
        "        return False\n",
        "    for i in range(2,int(math.sqrt(x))+1):\n",
        "        print(i)\n",
        "        if x%i==0:\n",
        "            #print(\"Tim duoc so\",i, \"ma\",x, \"chia het cho\",i)\n",
        "            return False\n",
        "    #print(\"Khong tim duoc so i ma\",x, \"chia het cho i\")\n",
        "    return True\n",
        "\n",
        "print(kiemtrasoNguyenTo(26))"
      ],
      "execution_count": 0,
      "outputs": [
        {
          "output_type": "stream",
          "text": [
            "2\n",
            "False\n"
          ],
          "name": "stdout"
        }
      ]
    },
    {
      "cell_type": "code",
      "metadata": {
        "id": "FXRALdo_AqpS",
        "colab_type": "code",
        "outputId": "2d8abd0e-a199-4dee-bf4c-276dfb68993e",
        "colab": {}
      },
      "source": [
        "#Bài 1:\n",
        "a = int(input())\n",
        "b = int(input())\n",
        "\n",
        "import math\n",
        "def kiemtrasoNguyenTo(x):\n",
        "    if x<=1:\n",
        "        return False\n",
        "    for i in range(2,int(math.sqrt(x))+1):\n",
        "        if x%i==0:\n",
        "            #print(\"Tim duoc so\",i, \"ma\",x, \"chia het cho\",i)\n",
        "            return False\n",
        "    #print(\"Khong tim duoc so i ma\",x, \"chia het cho i\")\n",
        "    return True\n",
        "\n",
        "count=0\n",
        "for i in range (a, b+1):\n",
        "    if kiemtrasoNguyenTo(i) == 1:\n",
        "        count+=1\n",
        "\n",
        "print(count)"
      ],
      "execution_count": 0,
      "outputs": [
        {
          "output_type": "stream",
          "text": [
            "4\n",
            "5\n",
            "1\n"
          ],
          "name": "stdout"
        }
      ]
    },
    {
      "cell_type": "code",
      "metadata": {
        "id": "7asIhVQNAqpq",
        "colab_type": "code",
        "outputId": "2ab19631-f6db-42f8-ce8a-386fe8413a3d",
        "colab": {}
      },
      "source": [
        "#Bài 2:\n",
        "a = int(input())\n",
        "b = int(input())\n",
        "\n",
        "def ucln(a,b):\n",
        "    if (a<b):\n",
        "        return ucln(b,a)\n",
        "    while (b!=0):\n",
        "        r = a%b\n",
        "        #print(\"a= \",a, \"b= \",b, \"r= \", r)\n",
        "        a=b\n",
        "        b=r\n",
        "    #print(\"a= \",a, \"b= \",b, \"r= \", r)\n",
        "    return a\n",
        "\n",
        "def bcnn(a,b):\n",
        "    return (a*b)//ucln(a,b)\n",
        "\n",
        "print(bcnn(a,b))"
      ],
      "execution_count": 0,
      "outputs": [
        {
          "output_type": "stream",
          "text": [
            "53487335\n",
            "3732\n",
            "641848020\n"
          ],
          "name": "stdout"
        }
      ]
    },
    {
      "cell_type": "code",
      "metadata": {
        "id": "tQU7YmznAqp8",
        "colab_type": "code",
        "outputId": "58e202d5-fe3c-403f-d127-4be9611032a6",
        "colab": {}
      },
      "source": [
        "#Bài 3:\n",
        "a = int(input())\n",
        "tong = 0\n",
        "for i in range(1,a):\n",
        "    if (a%i==0):\n",
        "        tong= tong+i\n",
        "\n",
        "if tong == a:\n",
        "    print(\"True\")\n",
        "else:\n",
        "    print(\"False\")"
      ],
      "execution_count": 0,
      "outputs": [
        {
          "output_type": "stream",
          "text": [
            "8128\n",
            "True\n"
          ],
          "name": "stdout"
        }
      ]
    },
    {
      "cell_type": "code",
      "metadata": {
        "id": "3tFyRyfOAqqJ",
        "colab_type": "code",
        "outputId": "61d77325-2ff4-40f1-eb40-9c7ca3774c4c",
        "colab": {}
      },
      "source": [
        "#Bài 4\n",
        "n = int(input())\n",
        "k = int(input())\n",
        "\n",
        "def giaithua(n):\n",
        "    if n == 1:\n",
        "        return 1\n",
        "    else:\n",
        "        return (n * giaithua(n-1))\n",
        "\n",
        "tohop = giaithua(n)/((giaithua(n-k))*giaithua(k)) #n!/((n-k)!.k!)\n",
        "print(int(tohop))"
      ],
      "execution_count": 0,
      "outputs": [
        {
          "output_type": "stream",
          "text": [
            "22\n",
            "18\n",
            "7315\n"
          ],
          "name": "stdout"
        }
      ]
    },
    {
      "cell_type": "markdown",
      "metadata": {
        "id": "vAq9htmuAqqc",
        "colab_type": "text"
      },
      "source": [
        "#Bài 5:\n",
        "Hoài Linh Tinh và Chí Tài Tình dự định tiếp tục xây dựng một ngôi trường cho trẻ em nghèo. Thời gian tựu trường đang tới gần nên họ đang phải tìm cách thi công công trình một cách nhanh nhất.\n",
        "\n",
        "Công việc yêu cầu các nhân công phải làm việc theo cặp. Do các công nhân có tốc độ làm việc không giống nhau nên khi ghép cặp hai công nhân có tốc độ làm việc lần lượt là a và b (a < b) (đơn vị tốc độ làm việc), cặp đôi đó sẽ làm việc theo tốc độ là a (làm việc theo tốc độ của công nhân có tốc độ chậm hơn).\n",
        "\n",
        "Bạn được 2 danh hài nhờ giải quyết bài toán ghép cặp công nhân sao cho đạt được tốc độ làm việc tối ưu nhất. 2 danh hài sẽ cung cấp cho bạn danh sách tốc độ làm việc của các công nhân trong công trường, tốc độ làm việc của các công nhân được lưu dưới dạng số nguyên dương, biết rằng số lượng công nhân trong công trường là số chẵn.\n",
        "\n",
        "Chương trình dưới đây đã nhập giúp bạn dữ liệu vào 1 mảng số nguyên chứa tốc độ làm việc của các công nhân và biến n chứa số lượng cặp công nhân trong công trường.\n",
        "\n",
        "Hãy viết chương trình xuất ra màn hình tổng tốc độ làm việc tối đa có thể đạt được của các cặp công nhân trong công trường.\n",
        "\n",
        "Ví dụ:\n",
        "+ n = 2\n",
        "+ speed = [13, 50, 14, 1]\n",
        "\n",
        "+ Giả sử ta thử ghép các cặp công nhân: 13 với 50,  14 với 1\n",
        "+ cặp 13 và 50 sẽ có tốc độ làm việc là 13\n",
        "+ cặp 14 và 1 sẽ có tốc độ làm việc là 1\n",
        "+ Vậy tổng tốc độ làm việc của các cặp là: 13 + 1 = 14\n",
        "\n",
        "+ Bây giờ ta ghép theo 1 cách tối ưu nhất: 13 với 1, 50 với 14\n",
        "+ cặp 13 và 1 sẽ có tốc độ làm việc là 1\n",
        "+ cặp 50 và 14 sẽ có tốc độ làm việc là 14\n",
        "+ Vậy tổng tốc độ làm việc của các cặp là: 1 + 14 = 15\n",
        "\n",
        "+ Ta thấy cách ghép thứ 2 cho kết quả tốt nhất.\n",
        "+ Vậy kết quả cần xuất ra màn hình:\n",
        "+ 15\n",
        "\n",
        "+ n = 3\n",
        "+ speed = [81, 64, 42, 79, 82, 89]\n",
        "+ Expected = 203"
      ]
    },
    {
      "cell_type": "code",
      "metadata": {
        "id": "zHXSx3jHAqqf",
        "colab_type": "code",
        "colab": {}
      },
      "source": [
        "'''\n",
        "89-82\n",
        "81-79\n",
        "64-42\n",
        "=> Quy luật là xếp từ lớn đến nhỏ, sau đó gộp nhóm 2\n",
        "'''"
      ],
      "execution_count": 0,
      "outputs": []
    },
    {
      "cell_type": "code",
      "metadata": {
        "id": "MBVZMsC2sAI-",
        "colab_type": "code",
        "outputId": "718924fb-31b5-4268-c179-84a4627e6c90",
        "colab": {
          "base_uri": "https://localhost:8080/",
          "height": 34
        }
      },
      "source": [
        "82+79+42"
      ],
      "execution_count": 0,
      "outputs": [
        {
          "output_type": "execute_result",
          "data": {
            "text/plain": [
              "203"
            ]
          },
          "metadata": {
            "tags": []
          },
          "execution_count": 1
        }
      ]
    },
    {
      "cell_type": "code",
      "metadata": {
        "id": "l-crajvOsC6A",
        "colab_type": "code",
        "outputId": "dec8eda1-ef4a-4564-dc26-526483e9f180",
        "colab": {
          "base_uri": "https://localhost:8080/",
          "height": 170
        }
      },
      "source": [
        "#nhập số lượng cặp công nhân\n",
        "n=int(input())\n",
        "\n",
        "#Nhập thông tin tốc độ làm việc từng người\n",
        "tocdo=[]\n",
        "for i in range(0,n*2):\n",
        "    tocdo.append(int(input()))\n",
        "\n",
        "#speed = [13, 50, 14, 1]\n",
        "#speed = [81, 64, 42, 79, 82, 89]\n",
        "tocdo.sort(reverse=False)\n",
        "print(tocdo)\n",
        "\n",
        "\n",
        "tong_tocdo=0\n",
        "for i in tocdo:\n",
        "    #kiem tra so chan (1 cap cong nhan)\n",
        "    if(tocdo.index(i)%2==False):\n",
        "        tong_tocdo+=i\n",
        "print('Expected =',tong_tocdo)"
      ],
      "execution_count": 0,
      "outputs": [
        {
          "output_type": "stream",
          "text": [
            "3\n",
            "81\n",
            "64\n",
            "42\n",
            "79\n",
            "82\n",
            "89\n",
            "[42, 64, 79, 81, 82, 89]\n",
            "Expected = 203\n"
          ],
          "name": "stdout"
        }
      ]
    },
    {
      "cell_type": "code",
      "metadata": {
        "id": "y6BlV5BUtjJ4",
        "colab_type": "code",
        "colab": {}
      },
      "source": [
        ""
      ],
      "execution_count": 0,
      "outputs": []
    }
  ]
}