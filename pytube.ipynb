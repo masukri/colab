{
  "nbformat": 4,
  "nbformat_minor": 0,
  "metadata": {
    "colab": {
      "name": "pytube.ipynb",
      "version": "0.3.2",
      "provenance": [],
      "collapsed_sections": [],
      "include_colab_link": true
    },
    "kernelspec": {
      "name": "python2",
      "display_name": "Python 2"
    }
  },
  "cells": [
    {
      "cell_type": "markdown",
      "metadata": {
        "id": "view-in-github",
        "colab_type": "text"
      },
      "source": [
        "<a href=\"https://colab.research.google.com/github/soiqualang/colab/blob/master/pytube.ipynb\" target=\"_parent\"><img src=\"https://colab.research.google.com/assets/colab-badge.svg\" alt=\"Open In Colab\"/></a>"
      ]
    },
    {
      "metadata": {
        "id": "dblFyEHvyUV3",
        "colab_type": "code",
        "colab": {
          "base_uri": "https://localhost:8080/",
          "height": 173
        },
        "outputId": "e1f2f582-e8a4-4f6e-8b26-c4d1e5e789bb"
      },
      "cell_type": "code",
      "source": [
        "!pip install pytube"
      ],
      "execution_count": 1,
      "outputs": [
        {
          "output_type": "stream",
          "text": [
            "Collecting pytube\n",
            "  Downloading https://files.pythonhosted.org/packages/db/59/f8b9e64a7ab420c3a91722f8d34a452013f59100fed4d8e930afa1da01f8/pytube-9.4.0.tar.gz\n",
            "Building wheels for collected packages: pytube\n",
            "  Building wheel for pytube (setup.py) ... \u001b[?25ldone\n",
            "\u001b[?25h  Stored in directory: /root/.cache/pip/wheels/d7/f0/e9/0f9e45c0f047515a3318a4484460b20159f7f143fc22643a9f\n",
            "Successfully built pytube\n",
            "Installing collected packages: pytube\n",
            "Successfully installed pytube-9.4.0\n"
          ],
          "name": "stdout"
        }
      ]
    },
    {
      "metadata": {
        "id": "-wWi2gggyq-G",
        "colab_type": "text"
      },
      "cell_type": "markdown",
      "source": [
        "https://www.youtube.com/watch?v=bsNWQLzANpI\n",
        "\n",
        "https://stackoverflow.com/questions/40713268/download-youtube-video-using-python-to-a-certain-directory\n",
        "\n",
        "I found out a really cool python module that allows you to download videos from youtube easily. TO install it:\n",
        "\n",
        "`pip install pytube`\n",
        "Now, You can download your video like this -\n",
        "\n",
        "```\n",
        "from pytube import YouTube\n",
        "yt = YouTube(\"https://www.youtube.com/watch?v=n06H7OcPd-g\")\n",
        "yt = yt.get('mp4', '720p')\n",
        "yt.download('/path/to/download/directory')\n",
        "```\n",
        "\n",
        "Boom, Now you can easily scrape such videos using Python easily; Now, We Drink!\n",
        "\n",
        "Update 1:\n",
        "Thanks to @Chiramisu's comment, You can use the following one-liner to download the highest quality video:\n",
        "\n",
        "`YouTube('video_url').streams.first().download('save_path')`"
      ]
    },
    {
      "metadata": {
        "id": "HBQceBOSyWwk",
        "colab_type": "code",
        "colab": {
          "base_uri": "https://localhost:8080/",
          "height": 71
        },
        "outputId": "c3576cbd-6fa2-43cb-fbe8-b43dc517918d"
      },
      "cell_type": "code",
      "source": [
        "!YouTube(\"https://www.youtube.com/watch?v=bsNWQLzANpI\").streams.first().download('t2vi')"
      ],
      "execution_count": 3,
      "outputs": [
        {
          "output_type": "stream",
          "text": [
            "/bin/bash: -c: line 0: syntax error near unexpected token `\"https://www.youtube.com/watch?v=bsNWQLzANpI\"'\n",
            "/bin/bash: -c: line 0: `YouTube(\"https://www.youtube.com/watch?v=bsNWQLzANpI\").streams.first().download('t2vi')'\n"
          ],
          "name": "stdout"
        }
      ]
    },
    {
      "metadata": {
        "id": "2HZHJZJfzRe7",
        "colab_type": "code",
        "colab": {}
      },
      "cell_type": "code",
      "source": [
        "from pytube import YouTube\n",
        "import os\n",
        "\n",
        "def downloadYouTube(videourl, path):\n",
        "\n",
        "    yt = YouTube(videourl)\n",
        "    yt = yt.streams.filter(progressive=True, file_extension='mp4').order_by('resolution').desc().first()\n",
        "    if not os.path.exists(path):\n",
        "        os.makedirs(path)\n",
        "    yt.download(path)"
      ],
      "execution_count": 0,
      "outputs": []
    },
    {
      "metadata": {
        "id": "7tYz0TCizocE",
        "colab_type": "code",
        "colab": {}
      },
      "cell_type": "code",
      "source": [
        "downloadYouTube('https://www.youtube.com/watch?v=zNyYDHCg06c', './content/FindingNemo1')"
      ],
      "execution_count": 0,
      "outputs": []
    },
    {
      "metadata": {
        "id": "olwbAdeEzvBg",
        "colab_type": "code",
        "colab": {}
      },
      "cell_type": "code",
      "source": [
        "downloadYouTube('https://www.youtube.com/watch?v=bsNWQLzANpI', 'concoc')"
      ],
      "execution_count": 0,
      "outputs": []
    },
    {
      "metadata": {
        "id": "Z94P19ne0HTp",
        "colab_type": "code",
        "colab": {}
      },
      "cell_type": "code",
      "source": [
        ""
      ],
      "execution_count": 0,
      "outputs": []
    }
  ]
}