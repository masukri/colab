{
  "nbformat": 4,
  "nbformat_minor": 0,
  "metadata": {
    "colab": {
      "name": "waybackmachine.ipynb",
      "version": "0.3.2",
      "provenance": [],
      "collapsed_sections": [],
      "include_colab_link": true
    },
    "kernelspec": {
      "name": "python3",
      "display_name": "Python 3"
    }
  },
  "cells": [
    {
      "cell_type": "markdown",
      "metadata": {
        "id": "view-in-github",
        "colab_type": "text"
      },
      "source": [
        "<a href=\"https://colab.research.google.com/github/soiqualang/colab/blob/master/waybackmachine.ipynb\" target=\"_parent\"><img src=\"https://colab.research.google.com/assets/colab-badge.svg\" alt=\"Open In Colab\"/></a>"
      ]
    },
    {
      "metadata": {
        "id": "_Uvw_JxOzUqR",
        "colab_type": "text"
      },
      "cell_type": "markdown",
      "source": [
        "# Check if wayback-machine-scraper installed"
      ]
    },
    {
      "metadata": {
        "id": "vEOzXKyyvf2x",
        "colab_type": "code",
        "colab": {
          "base_uri": "https://localhost:8080/",
          "height": 166
        },
        "outputId": "12556547-0d7e-43d9-da6e-b6857b5aa19c"
      },
      "cell_type": "code",
      "source": [
        "wayback-machine-scraper -h"
      ],
      "execution_count": 1,
      "outputs": [
        {
          "output_type": "error",
          "ename": "NameError",
          "evalue": "ignored",
          "traceback": [
            "\u001b[0;31m---------------------------------------------------------------------------\u001b[0m",
            "\u001b[0;31mNameError\u001b[0m                                 Traceback (most recent call last)",
            "\u001b[0;32m<ipython-input-1-c1ee53861fbd>\u001b[0m in \u001b[0;36m<module>\u001b[0;34m()\u001b[0m\n\u001b[0;32m----> 1\u001b[0;31m \u001b[0mwayback\u001b[0m\u001b[0;34m-\u001b[0m\u001b[0mmachine\u001b[0m\u001b[0;34m-\u001b[0m\u001b[0mscraper\u001b[0m \u001b[0;34m-\u001b[0m\u001b[0mh\u001b[0m\u001b[0;34m\u001b[0m\u001b[0;34m\u001b[0m\u001b[0m\n\u001b[0m",
            "\u001b[0;31mNameError\u001b[0m: name 'wayback' is not defined"
          ]
        }
      ]
    },
    {
      "metadata": {
        "id": "Y3bEmrAUziWo",
        "colab_type": "text"
      },
      "cell_type": "markdown",
      "source": [
        "# Install wayback-machine-scraper"
      ]
    },
    {
      "metadata": {
        "id": "TeQaLXrrvo76",
        "colab_type": "code",
        "colab": {
          "base_uri": "https://localhost:8080/",
          "height": 1112
        },
        "outputId": "185cc4c3-5da0-4956-a96b-dfbc2810ca13"
      },
      "cell_type": "code",
      "source": [
        "!pip install wayback-machine-scraper"
      ],
      "execution_count": 2,
      "outputs": [
        {
          "output_type": "stream",
          "text": [
            "Collecting wayback-machine-scraper\n",
            "  Downloading https://files.pythonhosted.org/packages/6b/e5/b66549994564f24c8fef8bcd07b4adb7cef9a8b6bbc809415f4a56c58e8f/wayback_machine_scraper-1.0.7-py3-none-any.whl\n",
            "Collecting scrapy (from wayback-machine-scraper)\n",
            "\u001b[?25l  Downloading https://files.pythonhosted.org/packages/5d/12/a6197eaf97385e96fd8ec56627749a6229a9b3178ad73866a0b1fb377379/Scrapy-1.5.1-py2.py3-none-any.whl (249kB)\n",
            "\u001b[K    100% |████████████████████████████████| 256kB 11.6MB/s \n",
            "\u001b[?25hCollecting cryptography (from wayback-machine-scraper)\n",
            "\u001b[?25l  Downloading https://files.pythonhosted.org/packages/60/c7/99b33c53cf3f20a97a4c4bfd3ab66dcc93d99da0a97cc9597aa36ae6bb62/cryptography-2.4.2-cp34-abi3-manylinux1_x86_64.whl (2.1MB)\n",
            "\u001b[K    100% |████████████████████████████████| 2.1MB 9.8MB/s \n",
            "\u001b[?25hCollecting scrapy-wayback-machine (from wayback-machine-scraper)\n",
            "  Downloading https://files.pythonhosted.org/packages/18/de/87be7a008e0262d0bd23d4a38b2624d51bdb9b4ffe78ad13d401df88203e/scrapy_wayback_machine-1.0.0-py3-none-any.whl\n",
            "Collecting twisted (from wayback-machine-scraper)\n",
            "\u001b[?25l  Downloading https://files.pythonhosted.org/packages/5d/0e/a72d85a55761c2c3ff1cb968143a2fd5f360220779ed90e0fadf4106d4f2/Twisted-18.9.0.tar.bz2 (3.1MB)\n",
            "\u001b[K    100% |████████████████████████████████| 3.1MB 6.4MB/s \n",
            "\u001b[?25hCollecting parsel>=1.1 (from scrapy->wayback-machine-scraper)\n",
            "  Downloading https://files.pythonhosted.org/packages/96/69/d1d5dba5e4fecd41ffd71345863ed36a45975812c06ba77798fc15db6a64/parsel-1.5.1-py2.py3-none-any.whl\n",
            "Collecting w3lib>=1.17.0 (from scrapy->wayback-machine-scraper)\n",
            "  Downloading https://files.pythonhosted.org/packages/37/94/40c93ad0cadac0f8cb729e1668823c71532fd4a7361b141aec535acb68e3/w3lib-1.19.0-py2.py3-none-any.whl\n",
            "Requirement already satisfied: six>=1.5.2 in /usr/local/lib/python3.6/dist-packages (from scrapy->wayback-machine-scraper) (1.11.0)\n",
            "Requirement already satisfied: lxml in /usr/local/lib/python3.6/dist-packages (from scrapy->wayback-machine-scraper) (4.2.5)\n",
            "Collecting PyDispatcher>=2.0.5 (from scrapy->wayback-machine-scraper)\n",
            "  Downloading https://files.pythonhosted.org/packages/cd/37/39aca520918ce1935bea9c356bcbb7ed7e52ad4e31bff9b943dfc8e7115b/PyDispatcher-2.0.5.tar.gz\n",
            "Collecting queuelib (from scrapy->wayback-machine-scraper)\n",
            "  Downloading https://files.pythonhosted.org/packages/4c/85/ae64e9145f39dd6d14f8af3fa809a270ef3729f3b90b3c0cf5aa242ab0d4/queuelib-1.5.0-py2.py3-none-any.whl\n",
            "Collecting pyOpenSSL (from scrapy->wayback-machine-scraper)\n",
            "\u001b[?25l  Downloading https://files.pythonhosted.org/packages/96/af/9d29e6bd40823061aea2e0574ccb2fcf72bfd6130ce53d32773ec375458c/pyOpenSSL-18.0.0-py2.py3-none-any.whl (53kB)\n",
            "\u001b[K    100% |████████████████████████████████| 61kB 19.5MB/s \n",
            "\u001b[?25hCollecting service-identity (from scrapy->wayback-machine-scraper)\n",
            "  Downloading https://files.pythonhosted.org/packages/e9/7c/2195b890023e098f9618d43ebc337d83c8b38d414326685339eb024db2f6/service_identity-18.1.0-py2.py3-none-any.whl\n",
            "Collecting cssselect>=0.9 (from scrapy->wayback-machine-scraper)\n",
            "  Downloading https://files.pythonhosted.org/packages/7b/44/25b7283e50585f0b4156960691d951b05d061abf4a714078393e51929b30/cssselect-1.0.3-py2.py3-none-any.whl\n",
            "Requirement already satisfied: idna>=2.1 in /usr/local/lib/python3.6/dist-packages (from cryptography->wayback-machine-scraper) (2.6)\n",
            "Requirement already satisfied: cffi!=1.11.3,>=1.7 in /usr/local/lib/python3.6/dist-packages (from cryptography->wayback-machine-scraper) (1.11.5)\n",
            "Collecting asn1crypto>=0.21.0 (from cryptography->wayback-machine-scraper)\n",
            "\u001b[?25l  Downloading https://files.pythonhosted.org/packages/ea/cd/35485615f45f30a510576f1a56d1e0a7ad7bd8ab5ed7cdc600ef7cd06222/asn1crypto-0.24.0-py2.py3-none-any.whl (101kB)\n",
            "\u001b[K    100% |████████████████████████████████| 102kB 26.0MB/s \n",
            "\u001b[?25hCollecting zope.interface>=4.4.2 (from twisted->wayback-machine-scraper)\n",
            "\u001b[?25l  Downloading https://files.pythonhosted.org/packages/19/17/1d198a6aaa9aa4590862fe3d3a2ed7dd808050cab4eebe8a2f2f813c1376/zope.interface-4.6.0-cp36-cp36m-manylinux1_x86_64.whl (167kB)\n",
            "\u001b[K    100% |████████████████████████████████| 174kB 28.0MB/s \n",
            "\u001b[?25hCollecting constantly>=15.1 (from twisted->wayback-machine-scraper)\n",
            "  Downloading https://files.pythonhosted.org/packages/b9/65/48c1909d0c0aeae6c10213340ce682db01b48ea900a7d9fce7a7910ff318/constantly-15.1.0-py2.py3-none-any.whl\n",
            "Collecting incremental>=16.10.1 (from twisted->wayback-machine-scraper)\n",
            "  Downloading https://files.pythonhosted.org/packages/f5/1d/c98a587dc06e107115cf4a58b49de20b19222c83d75335a192052af4c4b7/incremental-17.5.0-py2.py3-none-any.whl\n",
            "Collecting Automat>=0.3.0 (from twisted->wayback-machine-scraper)\n",
            "  Downloading https://files.pythonhosted.org/packages/a3/86/14c16bb98a5a3542ed8fed5d74fb064a902de3bdd98d6584b34553353c45/Automat-0.7.0-py2.py3-none-any.whl\n",
            "Collecting hyperlink>=17.1.1 (from twisted->wayback-machine-scraper)\n",
            "  Downloading https://files.pythonhosted.org/packages/a7/b6/84d0c863ff81e8e7de87cff3bd8fd8f1054c227ce09af1b679a8b17a9274/hyperlink-18.0.0-py2.py3-none-any.whl\n",
            "Collecting PyHamcrest>=1.9.0 (from twisted->wayback-machine-scraper)\n",
            "\u001b[?25l  Downloading https://files.pythonhosted.org/packages/9a/d5/d37fd731b7d0e91afcc84577edeccf4638b4f9b82f5ffe2f8b62e2ddc609/PyHamcrest-1.9.0-py2.py3-none-any.whl (52kB)\n",
            "\u001b[K    100% |████████████████████████████████| 61kB 5.2MB/s \n",
            "\u001b[?25hRequirement already satisfied: attrs>=17.4.0 in /usr/local/lib/python3.6/dist-packages (from twisted->wayback-machine-scraper) (18.2.0)\n",
            "Requirement already satisfied: pyasn1-modules in /usr/local/lib/python3.6/dist-packages (from service-identity->scrapy->wayback-machine-scraper) (0.2.2)\n",
            "Requirement already satisfied: pyasn1 in /usr/local/lib/python3.6/dist-packages (from service-identity->scrapy->wayback-machine-scraper) (0.4.4)\n",
            "Requirement already satisfied: pycparser in /usr/local/lib/python3.6/dist-packages (from cffi!=1.11.3,>=1.7->cryptography->wayback-machine-scraper) (2.19)\n",
            "Requirement already satisfied: setuptools in /usr/local/lib/python3.6/dist-packages (from zope.interface>=4.4.2->twisted->wayback-machine-scraper) (40.6.3)\n",
            "Building wheels for collected packages: twisted, PyDispatcher\n",
            "  Running setup.py bdist_wheel for twisted ... \u001b[?25l-\b \b\\\b \b|\b \b/\b \b-\b \b\\\b \b|\b \b/\b \b-\b \b\\\b \b|\b \b/\b \b-\b \b\\\b \b|\b \bdone\n",
            "\u001b[?25h  Stored in directory: /root/.cache/pip/wheels/57/2e/89/11ba83bc08ac30a5e3a6005f0310c78d231b96a270def88ca0\n",
            "  Running setup.py bdist_wheel for PyDispatcher ... \u001b[?25l-\b \bdone\n",
            "\u001b[?25h  Stored in directory: /root/.cache/pip/wheels/88/99/96/cfef6665f9cb1522ee6757ae5955feedf2fe25f1737f91fa7f\n",
            "Successfully built twisted PyDispatcher\n",
            "Installing collected packages: cssselect, w3lib, parsel, PyDispatcher, queuelib, zope.interface, constantly, incremental, Automat, hyperlink, PyHamcrest, twisted, asn1crypto, cryptography, pyOpenSSL, service-identity, scrapy, scrapy-wayback-machine, wayback-machine-scraper\n",
            "Successfully installed Automat-0.7.0 PyDispatcher-2.0.5 PyHamcrest-1.9.0 asn1crypto-0.24.0 constantly-15.1.0 cryptography-2.4.2 cssselect-1.0.3 hyperlink-18.0.0 incremental-17.5.0 parsel-1.5.1 pyOpenSSL-18.0.0 queuelib-1.5.0 scrapy-1.5.1 scrapy-wayback-machine-1.0.0 service-identity-18.1.0 twisted-18.9.0 w3lib-1.19.0 wayback-machine-scraper-1.0.7 zope.interface-4.6.0\n"
          ],
          "name": "stdout"
        }
      ]
    },
    {
      "metadata": {
        "id": "tKk-QVN5zxWa",
        "colab_type": "text"
      },
      "cell_type": "markdown",
      "source": [
        "# Test wayback-machine-scraper after installed"
      ]
    },
    {
      "metadata": {
        "id": "bJx_2JmZvwGI",
        "colab_type": "code",
        "colab": {
          "base_uri": "https://localhost:8080/",
          "height": 728
        },
        "outputId": "a053b814-5ee6-44f4-bdae-073058cc3226"
      },
      "cell_type": "code",
      "source": [
        "!wayback-machine-scraper -h"
      ],
      "execution_count": 4,
      "outputs": [
        {
          "output_type": "stream",
          "text": [
            "usage: wayback-machine-scraper [-h] [-o DIRECTORY] [-f TIMESTAMP]\n",
            "                               [-t TIMESTAMP] [-a REGEX] [-d REGEX]\n",
            "                               [-c CONCURRENCY] [-u] [-v]\n",
            "                               DOMAIN [DOMAIN ...]\n",
            "\n",
            "Mirror all Wayback Machine snapshots of one or more domains within a specified\n",
            "time range.\n",
            "\n",
            "positional arguments:\n",
            "  DOMAIN                Specify the domain(s) to scrape. Can also be a full\n",
            "                        URL to specify starting points for the crawler.\n",
            "\n",
            "optional arguments:\n",
            "  -h, --help            show this help message and exit\n",
            "  -o DIRECTORY, --output DIRECTORY\n",
            "                        Specify the domain(s) to scrape. Can also be a full\n",
            "                        URL to specify starting points for the crawler.\n",
            "                        (default: website)\n",
            "  -f TIMESTAMP, --from TIMESTAMP\n",
            "                        The timestamp for the beginning of the range to\n",
            "                        scrape. Can either be YYYYmmdd, YYYYmmddHHMMSS, or a\n",
            "                        Unix timestamp. (default: 10000101)\n",
            "  -t TIMESTAMP, --to TIMESTAMP\n",
            "                        The timestamp for the end of the range to scrape. Use\n",
            "                        the same timestamp as `--from` to specify a single\n",
            "                        point in time. (default: 30000101)\n",
            "  -a REGEX, --allow REGEX\n",
            "                        A regular expression that all scraped URLs must match.\n",
            "                        (default: ())\n",
            "  -d REGEX, --deny REGEX\n",
            "                        A regular expression to exclude matched URLs.\n",
            "                        (default: ())\n",
            "  -c CONCURRENCY, --concurrency CONCURRENCY\n",
            "                        Target concurrency for crawl requests.The crawl rate\n",
            "                        will be automatically adjusted to match this\n",
            "                        target.Use values less than 1 to be polite and higher\n",
            "                        values to scrape more quickly. (default: 10.0)\n",
            "  -u, --unix            Save snapshots as `UNIX_TIMESTAMP.snapshot` instead of\n",
            "                        the default `YYYYmmddHHMMSS.snapshot`. (default:\n",
            "                        False)\n",
            "  -v, --verbose         Turn on debug logging. (default: False)\n"
          ],
          "name": "stdout"
        }
      ]
    },
    {
      "metadata": {
        "id": "zf0Dk0-Gz4N5",
        "colab_type": "text"
      },
      "cell_type": "markdown",
      "source": [
        "# Make dir to save web pages"
      ]
    },
    {
      "metadata": {
        "id": "QHj9KvQKv9uw",
        "colab_type": "code",
        "colab": {
          "base_uri": "https://localhost:8080/",
          "height": 69
        },
        "outputId": "c35ed618-6e9f-421e-c63c-f9be6e7a051c"
      },
      "cell_type": "code",
      "source": [
        "!pwd\n",
        "!mkdir soiqualang\n",
        "!ls"
      ],
      "execution_count": 16,
      "outputs": [
        {
          "output_type": "stream",
          "text": [
            "/content\n",
            "mkdir: cannot create directory ‘soiqualang’: File exists\n",
            "sample_data  soiqualang\n"
          ],
          "name": "stdout"
        }
      ]
    },
    {
      "metadata": {
        "id": "x-od1HiLwqBg",
        "colab_type": "code",
        "colab": {
          "base_uri": "https://localhost:8080/",
          "height": 35
        },
        "outputId": "91b46f17-7590-4b04-e792-c1db184d602c"
      },
      "cell_type": "code",
      "source": [
        "cd soiqualang"
      ],
      "execution_count": 17,
      "outputs": [
        {
          "output_type": "stream",
          "text": [
            "/content/soiqualang\n"
          ],
          "name": "stdout"
        }
      ]
    },
    {
      "metadata": {
        "id": "Euyrug_9z84Z",
        "colab_type": "text"
      },
      "cell_type": "markdown",
      "source": [
        "# Run wayback-machine-scraper to scrawl website"
      ]
    },
    {
      "metadata": {
        "id": "q4St7shAx6-I",
        "colab_type": "code",
        "colab": {
          "base_uri": "https://localhost:8080/",
          "height": 1008
        },
        "outputId": "48225f29-d2f5-47c8-ff6f-46b44c7e27c0"
      },
      "cell_type": "code",
      "source": [
        "!wayback-machine-scraper trangxoa.com"
      ],
      "execution_count": 19,
      "outputs": [
        {
          "output_type": "stream",
          "text": [
            "2019-01-03 03:36:04 [scrapy.utils.log] INFO: Scrapy 1.5.1 started (bot: scrapybot)\n",
            "2019-01-03 03:36:04 [scrapy.utils.log] INFO: Versions: lxml 4.2.5.0, libxml2 2.9.8, cssselect 1.0.3, parsel 1.5.1, w3lib 1.19.0, Twisted 18.9.0, Python 3.6.7 (default, Oct 22 2018, 11:32:17) - [GCC 8.2.0], pyOpenSSL 18.0.0 (OpenSSL 1.1.0j  20 Nov 2018), cryptography 2.4.2, Platform Linux-4.14.65+-x86_64-with-Ubuntu-18.04-bionic\n",
            "2019-01-03 03:36:04 [scrapy.crawler] INFO: Overridden settings: {'AUTOTHROTTLE_ENABLED': True, 'AUTOTHROTTLE_START_DELAY': 1, 'AUTOTHROTTLE_TARGET_CONCURRENCY': 10.0, 'LOG_LEVEL': 'INFO', 'USER_AGENT': 'Wayback Machine Scraper/1.0.7 (+https://github.com/sangaline/scrapy-wayback-machine)'}\n",
            "2019-01-03 03:36:04 [scrapy.middleware] INFO: Enabled extensions:\n",
            "['scrapy.extensions.corestats.CoreStats',\n",
            " 'scrapy.extensions.telnet.TelnetConsole',\n",
            " 'scrapy.extensions.memusage.MemoryUsage',\n",
            " 'scrapy.extensions.logstats.LogStats',\n",
            " 'scrapy.extensions.throttle.AutoThrottle']\n",
            "2019-01-03 03:36:04 [scrapy.middleware] INFO: Enabled downloader middlewares:\n",
            "['scrapy_wayback_machine.WaybackMachineMiddleware',\n",
            " 'scrapy.downloadermiddlewares.httpauth.HttpAuthMiddleware',\n",
            " 'scrapy.downloadermiddlewares.downloadtimeout.DownloadTimeoutMiddleware',\n",
            " 'scrapy.downloadermiddlewares.defaultheaders.DefaultHeadersMiddleware',\n",
            " 'scrapy.downloadermiddlewares.useragent.UserAgentMiddleware',\n",
            " 'scrapy.downloadermiddlewares.retry.RetryMiddleware',\n",
            " 'scrapy.downloadermiddlewares.redirect.MetaRefreshMiddleware',\n",
            " 'scrapy.downloadermiddlewares.httpcompression.HttpCompressionMiddleware',\n",
            " 'scrapy.downloadermiddlewares.redirect.RedirectMiddleware',\n",
            " 'scrapy.downloadermiddlewares.cookies.CookiesMiddleware',\n",
            " 'scrapy.downloadermiddlewares.httpproxy.HttpProxyMiddleware',\n",
            " 'scrapy.downloadermiddlewares.stats.DownloaderStats']\n",
            "2019-01-03 03:36:04 [scrapy.middleware] INFO: Enabled spider middlewares:\n",
            "['scrapy.spidermiddlewares.httperror.HttpErrorMiddleware',\n",
            " 'scrapy.spidermiddlewares.offsite.OffsiteMiddleware',\n",
            " 'scrapy.spidermiddlewares.referer.RefererMiddleware',\n",
            " 'scrapy.spidermiddlewares.urllength.UrlLengthMiddleware',\n",
            " 'scrapy.spidermiddlewares.depth.DepthMiddleware']\n",
            "2019-01-03 03:36:04 [scrapy.middleware] INFO: Enabled item pipelines:\n",
            "[]\n",
            "2019-01-03 03:36:04 [scrapy.core.engine] INFO: Spider opened\n",
            "2019-01-03 03:36:04 [scrapy.extensions.logstats] INFO: Crawled 0 pages (at 0 pages/min), scraped 0 items (at 0 items/min)\n",
            "2019-01-03 03:36:12 [scrapy.core.engine] INFO: Closing spider (finished)\n",
            "2019-01-03 03:36:12 [scrapy.statscollectors] INFO: Dumping Scrapy stats:\n",
            "{'downloader/request_bytes': 16010,\n",
            " 'downloader/request_count': 47,\n",
            " 'downloader/request_method_count/GET': 47,\n",
            " 'downloader/response_bytes': 486660,\n",
            " 'downloader/response_count': 47,\n",
            " 'downloader/response_status_count/200': 47,\n",
            " 'dupefilter/filtered': 9,\n",
            " 'finish_reason': 'finished',\n",
            " 'finish_time': datetime.datetime(2019, 1, 3, 3, 36, 12, 702837),\n",
            " 'log_count/INFO': 7,\n",
            " 'memusage/max': 104419328,\n",
            " 'memusage/startup': 104419328,\n",
            " 'offsite/domains': 3,\n",
            " 'offsite/filtered': 14,\n",
            " 'request_depth_max': 1,\n",
            " 'response_received_count': 41,\n",
            " 'scheduler/dequeued': 53,\n",
            " 'scheduler/dequeued/memory': 53,\n",
            " 'scheduler/enqueued': 53,\n",
            " 'scheduler/enqueued/memory': 53,\n",
            " 'start_time': datetime.datetime(2019, 1, 3, 3, 36, 4, 489277)}\n",
            "2019-01-03 03:36:12 [scrapy.core.engine] INFO: Spider closed (finished)\n"
          ],
          "name": "stdout"
        }
      ]
    },
    {
      "metadata": {
        "id": "kLzxbshh0GIh",
        "colab_type": "text"
      },
      "cell_type": "markdown",
      "source": [
        "# Zip result to download"
      ]
    },
    {
      "metadata": {
        "id": "R-BahgYPyBcQ",
        "colab_type": "code",
        "colab": {
          "base_uri": "https://localhost:8080/",
          "height": 35
        },
        "outputId": "951386ae-0849-4ed1-e355-fab07e719e54"
      },
      "cell_type": "code",
      "source": [
        "cd /content/soiqualang/website/trangxoa.com"
      ],
      "execution_count": 21,
      "outputs": [
        {
          "output_type": "stream",
          "text": [
            "/content/soiqualang/website/trangxoa.com\n"
          ],
          "name": "stdout"
        }
      ]
    },
    {
      "metadata": {
        "id": "T2dl7IYzyfjP",
        "colab_type": "code",
        "colab": {
          "base_uri": "https://localhost:8080/",
          "height": 35
        },
        "outputId": "d9344296-f7c9-402f-e4a1-479bc53f1246"
      },
      "cell_type": "code",
      "source": [
        "cd ../"
      ],
      "execution_count": 22,
      "outputs": [
        {
          "output_type": "stream",
          "text": [
            "/content/soiqualang/website\n"
          ],
          "name": "stdout"
        }
      ]
    },
    {
      "metadata": {
        "id": "bRgwOoYPylJQ",
        "colab_type": "code",
        "colab": {
          "base_uri": "https://localhost:8080/",
          "height": 731
        },
        "outputId": "6cf444de-bc5b-41c0-96a1-c25afc1176a5"
      },
      "cell_type": "code",
      "source": [
        "!zip -r trangxoa.zip \"/content/soiqualang/website/trangxoa.com\""
      ],
      "execution_count": 25,
      "outputs": [
        {
          "output_type": "stream",
          "text": [
            "  adding: content/soiqualang/website/trangxoa.com/ (stored 0%)\n",
            "  adding: content/soiqualang/website/trangxoa.com/20140730183418.snapshot (deflated 59%)\n",
            "  adding: content/soiqualang/website/trangxoa.com/20150403233255.snapshot (deflated 57%)\n",
            "  adding: content/soiqualang/website/trangxoa.com/ungdung/ (stored 0%)\n",
            "  adding: content/soiqualang/website/trangxoa.com/ungdung/3d/ (stored 0%)\n",
            "  adding: content/soiqualang/website/trangxoa.com/ungdung/3d/nghean/ (stored 0%)\n",
            "  adding: content/soiqualang/website/trangxoa.com/ungdung/3d/nghean/20140610004004.snapshot (deflated 55%)\n",
            "  adding: content/soiqualang/website/trangxoa.com/ungdung/3d/angiang/ (stored 0%)\n",
            "  adding: content/soiqualang/website/trangxoa.com/ungdung/3d/angiang/20140608021719.snapshot (deflated 62%)\n",
            "  adding: content/soiqualang/website/trangxoa.com/ungdung/20140526114100.snapshot (deflated 43%)\n",
            "  adding: content/soiqualang/website/trangxoa.com/web/ (stored 0%)\n",
            "  adding: content/soiqualang/website/trangxoa.com/web/20131124034057.snapshot (deflated 71%)\n",
            "  adding: content/soiqualang/website/trangxoa.com/web/20140822090836.snapshot (deflated 71%)\n",
            "  adding: content/soiqualang/website/trangxoa.com/web/20140129202024.snapshot (deflated 71%)\n",
            "  adding: content/soiqualang/website/trangxoa.com/web/20140119173717.snapshot (deflated 82%)\n",
            "  adding: content/soiqualang/website/trangxoa.com/web/20140730203911.snapshot (deflated 71%)\n",
            "  adding: content/soiqualang/website/trangxoa.com/web/20140209072050.snapshot (deflated 71%)\n",
            "  adding: content/soiqualang/website/trangxoa.com/web/20131128160814.snapshot (deflated 71%)\n",
            "  adding: content/soiqualang/website/trangxoa.com/web/20131206103907.snapshot (deflated 71%)\n",
            "  adding: content/soiqualang/website/trangxoa.com/web/20131105010055.snapshot (deflated 71%)\n",
            "  adding: content/soiqualang/website/trangxoa.com/web/20140215073800.snapshot (deflated 71%)\n",
            "  adding: content/soiqualang/website/trangxoa.com/web/20150711204452.snapshot (deflated 73%)\n",
            "  adding: content/soiqualang/website/trangxoa.com/web/20130831122735.snapshot (deflated 72%)\n",
            "  adding: content/soiqualang/website/trangxoa.com/web/20131004031846.snapshot (deflated 73%)\n",
            "  adding: content/soiqualang/website/trangxoa.com/web/20130829004542.snapshot (deflated 72%)\n",
            "  adding: content/soiqualang/website/trangxoa.com/web/20150504093936.snapshot (deflated 73%)\n",
            "  adding: content/soiqualang/website/trangxoa.com/web/20131028194106.snapshot (deflated 71%)\n",
            "  adding: content/soiqualang/website/trangxoa.com/web/20140219012249.snapshot (deflated 71%)\n",
            "  adding: content/soiqualang/website/trangxoa.com/web/20131106215300.snapshot (deflated 71%)\n",
            "  adding: content/soiqualang/website/trangxoa.com/web/20131220023441.snapshot (deflated 71%)\n",
            "  adding: content/soiqualang/website/trangxoa.com/web/20140622030325.snapshot (deflated 71%)\n",
            "  adding: content/soiqualang/website/trangxoa.com/web/20140227222352.snapshot (deflated 71%)\n",
            "  adding: content/soiqualang/website/trangxoa.com/web/20150403233300.snapshot (deflated 71%)\n",
            "  adding: content/soiqualang/website/trangxoa.com/web/20131113010755.snapshot (deflated 70%)\n",
            "  adding: content/soiqualang/website/trangxoa.com/web/20131118202350.snapshot (deflated 71%)\n",
            "  adding: content/soiqualang/website/trangxoa.com/20150223172906.snapshot (deflated 57%)\n",
            "  adding: content/soiqualang/website/trangxoa.com/20150504095227.snapshot (deflated 70%)\n",
            "  adding: content/soiqualang/website/trangxoa.com/20160112125728.snapshot (deflated 70%)\n",
            "  adding: content/soiqualang/website/trangxoa.com/20140204204417.snapshot (deflated 34%)\n",
            "  adding: content/soiqualang/website/trangxoa.com/20141218101355.snapshot (deflated 59%)\n"
          ],
          "name": "stdout"
        }
      ]
    },
    {
      "metadata": {
        "id": "y5pUvFENyxqY",
        "colab_type": "code",
        "colab": {}
      },
      "cell_type": "code",
      "source": [
        ""
      ],
      "execution_count": 0,
      "outputs": []
    }
  ]
}