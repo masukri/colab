{
  "nbformat": 4,
  "nbformat_minor": 0,
  "metadata": {
    "colab": {
      "name": "Setup.ipynb",
      "version": "0.3.2",
      "provenance": [],
      "collapsed_sections": [],
      "include_colab_link": true
    },
    "kernelspec": {
      "name": "python3",
      "display_name": "Python 3"
    },
    "accelerator": "GPU"
  },
  "cells": [
    {
      "cell_type": "markdown",
      "metadata": {
        "id": "view-in-github",
        "colab_type": "text"
      },
      "source": [
        "<a href=\"https://colab.research.google.com/github/soiqualang/colab/blob/master/Setup.ipynb\" target=\"_parent\"><img src=\"https://colab.research.google.com/assets/colab-badge.svg\" alt=\"Open In Colab\"/></a>"
      ]
    },
    {
      "metadata": {
        "id": "4CfeD6jRk1PJ",
        "colab_type": "text"
      },
      "cell_type": "markdown",
      "source": [
        "## Authorization"
      ]
    },
    {
      "metadata": {
        "id": "hX18UX4ViJfM",
        "colab_type": "code",
        "outputId": "cc93f005-fa35-426c-8902-44a2ea056a01",
        "colab": {
          "base_uri": "https://localhost:8080/",
          "height": 105
        }
      },
      "cell_type": "code",
      "source": [
        "# Authorize 2 times\n",
        "# max to 12 hours or 90 mins of inactivity\n",
        "\n",
        "!apt-get install -y -qq software-properties-common python-software-properties module-init-tools\n",
        "!add-apt-repository -y ppa:alessandro-strada/ppa 2>&1 > /dev/null\n",
        "!apt-get update -qq 2>&1 > /dev/null\n",
        "!apt-get -y install -qq google-drive-ocamlfuse fuse\n",
        "from google.colab import auth\n",
        "auth.authenticate_user()\n",
        "from oauth2client.client import GoogleCredentials\n",
        "creds = GoogleCredentials.get_application_default()\n",
        "import getpass\n",
        "!google-drive-ocamlfuse -headless -id={creds.client_id} -secret={creds.client_secret} < /dev/null 2>&1 | grep URL\n",
        "vcode = getpass.getpass()\n",
        "!echo {vcode} | google-drive-ocamlfuse -headless -id={creds.client_id} -secret={creds.client_secret}"
      ],
      "execution_count": 0,
      "outputs": [
        {
          "output_type": "stream",
          "text": [
            "Please, open the following URL in a web browser: https://accounts.google.com/o/oauth2/auth?client_id=32555940559.apps.googleusercontent.com&redirect_uri=urn%3Aietf%3Awg%3Aoauth%3A2.0%3Aoob&scope=https%3A%2F%2Fwww.googleapis.com%2Fauth%2Fdrive&response_type=code&access_type=offline&approval_prompt=force\r\n",
            "··········\n",
            "Please, open the following URL in a web browser: https://accounts.google.com/o/oauth2/auth?client_id=32555940559.apps.googleusercontent.com&redirect_uri=urn%3Aietf%3Awg%3Aoauth%3A2.0%3Aoob&scope=https%3A%2F%2Fwww.googleapis.com%2Fauth%2Fdrive&response_type=code&access_type=offline&approval_prompt=force\n",
            "Please enter the verification code: Access token retrieved correctly.\n"
          ],
          "name": "stdout"
        }
      ]
    },
    {
      "metadata": {
        "id": "lQzg9Mxs5fCO",
        "colab_type": "code",
        "colab": {}
      },
      "cell_type": "code",
      "source": [
        "# Create virtual location\n",
        "!mkdir -p drive\n",
        "!google-drive-ocamlfuse drive"
      ],
      "execution_count": 0,
      "outputs": []
    },
    {
      "metadata": {
        "id": "w3EdlZrNwC-c",
        "colab_type": "code",
        "colab": {}
      },
      "cell_type": "code",
      "source": [
        ""
      ],
      "execution_count": 0,
      "outputs": []
    },
    {
      "metadata": {
        "id": "7bwbOC3ngYol",
        "colab_type": "code",
        "cellView": "code",
        "colab": {}
      },
      "cell_type": "code",
      "source": [
        "#@title Default title text\n",
        "# To kill the current virtual machine\n",
        "!kill -9 -1"
      ],
      "execution_count": 0,
      "outputs": []
    },
    {
      "metadata": {
        "id": "7n3TWp-Ckszy",
        "colab_type": "text"
      },
      "cell_type": "markdown",
      "source": [
        "## Important packages"
      ]
    },
    {
      "metadata": {
        "id": "i5WjOfWY7QeB",
        "colab_type": "code",
        "colab": {}
      },
      "cell_type": "code",
      "source": [
        "# keras\n",
        "!pip install -q keras"
      ],
      "execution_count": 0,
      "outputs": []
    },
    {
      "metadata": {
        "id": "Xyzlkso5jZjl",
        "colab_type": "code",
        "colab": {}
      },
      "cell_type": "code",
      "source": [
        "# OpenCV\n",
        "!apt-get -qq install -y libsm6 libxext6 && pip install -q -U opencv-python\n",
        "import cv2"
      ],
      "execution_count": 0,
      "outputs": []
    },
    {
      "metadata": {
        "id": "nHjyLT6NjYMt",
        "colab_type": "code",
        "colab": {}
      },
      "cell_type": "code",
      "source": [
        "# pytorch\n",
        "# http://pytorch.org/\n",
        "from os import path\n",
        "from wheel.pep425tags import get_abbr_impl, get_impl_ver, get_abi_tag\n",
        "platform = '{}{}-{}'.format(get_abbr_impl(), get_impl_ver(), get_abi_tag())\n",
        "\n",
        "accelerator = 'cu80' if path.exists('/opt/bin/nvidia-smi') else 'cpu'\n",
        "\n",
        "!pip install -q http://download.pytorch.org/whl/{accelerator}/torch-0.3.0.post4-{platform}-linux_x86_64.whl torchvision\n",
        "import torch"
      ],
      "execution_count": 0,
      "outputs": []
    },
    {
      "metadata": {
        "id": "1-7hxJ_EjnAw",
        "colab_type": "code",
        "colab": {}
      },
      "cell_type": "code",
      "source": [
        "# https://github.com/dmlc/xgboost\n",
        "# This specific version is a work-around for a build issue in newer versions.\n",
        "!pip install -q xgboost==0.4a30\n",
        "import xgboost\n",
        "\n",
        "# https://pypi.python.org/pypi/libarchive\n",
        "!apt-get -qq install -y libarchive-dev && pip install -q -U libarchive\n",
        "import libarchive\n",
        "\n",
        "# Extract to the current directory and print name of each file\n",
        "import libarchive.public\n",
        "\n",
        "for entry in libarchive.public.file_pour('/tmp/test.zip'):\n",
        "    print(entry)"
      ],
      "execution_count": 0,
      "outputs": []
    },
    {
      "metadata": {
        "id": "aODTZi47Dcgx",
        "colab_type": "code",
        "colab": {}
      },
      "cell_type": "code",
      "source": [
        "# MXNet - library for efficient running, outdated version - waiting for the next that support Keras 2\n",
        "# https://medium.com/@julsimon/keras-shoot-out-tensorflow-vs-mxnet-51ae2b30a9c0\n",
        "# change keras.json\n",
        "!cp -rf /content/drive/app/keras.json /content/.keras/keras.json\n",
        "# check if successful\n",
        "!cat /content/.keras/keras.json\n",
        "\n",
        "!pip install keras-mxnet"
      ],
      "execution_count": 0,
      "outputs": []
    },
    {
      "metadata": {
        "id": "7i4HdTCNa4Uh",
        "colab_type": "code",
        "colab": {}
      },
      "cell_type": "code",
      "source": [
        "# Colab Utils: https://github.com/mixuala/colab_utils. Download tboard.py\n",
        "# Allow to display tensorboard, save and restore current-training checkpoint in Google Cloud\n",
        "# Change directory to tboard.py directory\n",
        "os.chdir('/content/drive/Colab Notebooks')\n",
        "import tboard\n",
        "\n",
        "# Set up folder to log file\n",
        "ROOT = \"/tmp\" # default setting, shouldn't changed\n",
        "LOG_DIR = os.path.join(ROOT, 'log/1') # should be '/log' directory\n",
        "\n",
        "# After execute program\n",
        "# will install `ngrok`, if necessary\n",
        "# will create `log_dir` if path does not exist\n",
        "tboard.launch_tensorboard( bin_dir=ROOT, log_dir=LOG_DIR )\n",
        "\n",
        "!rm -r /tmp/log # remove log file"
      ],
      "execution_count": 0,
      "outputs": []
    },
    {
      "metadata": {
        "id": "eBvgUFYdleZM",
        "colab_type": "text"
      },
      "cell_type": "markdown",
      "source": [
        "## Useful command"
      ]
    },
    {
      "metadata": {
        "id": "Tg8ZYh5R-w-m",
        "colab_type": "code",
        "colab": {}
      },
      "cell_type": "code",
      "source": [
        "!pip show tensorflow\n",
        "# For a specific version:\n",
        "!pip install tensorflow==1.2\n",
        "\n",
        "# Run program\n",
        "!python3 drive/app/examples/mnist_cnn.py\n",
        "\n",
        "# Draw data\n",
        "!git clone https://github.com/wxs/keras-mnist-tutorial.git\n",
        "!wget https://raw.githubusercontent.com/vincentarelbundock/Rdatasets/master/csv/datasets/Titanic.csv -P drive/app\n",
        "\n",
        "# Check directory\n",
        "import os\n",
        "!ls drive/app\n",
        "os.chdir(\"drive\")\n",
        "os.chdir(\"..\")"
      ],
      "execution_count": 0,
      "outputs": []
    },
    {
      "metadata": {
        "id": "KjMUaKoKkH7H",
        "colab_type": "text"
      },
      "cell_type": "markdown",
      "source": [
        "## Check Device Setting"
      ]
    },
    {
      "metadata": {
        "id": "nW-6wwW9eHYU",
        "colab_type": "code",
        "outputId": "3991b495-d7ea-48f5-8037-a5dfc6f3a9ef",
        "colab": {
          "base_uri": "https://localhost:8080/",
          "height": 102
        }
      },
      "cell_type": "code",
      "source": [
        "# Number of CPU cores\n",
        "!grep -c ^processor /proc/cpuinfo\n",
        "!grep -E 'processor|core id' /proc/cpuinfo # more details"
      ],
      "execution_count": 0,
      "outputs": [
        {
          "output_type": "stream",
          "text": [
            "2\n",
            "processor\t: 0\n",
            "core id\t\t: 0\n",
            "processor\t: 1\n",
            "core id\t\t: 0\n"
          ],
          "name": "stdout"
        }
      ]
    },
    {
      "metadata": {
        "id": "rxUwHPltkj1w",
        "colab_type": "code",
        "outputId": "299d3125-c875-4bc0-9312-7e9ee3187272",
        "colab": {
          "base_uri": "https://localhost:8080/",
          "height": 272
        }
      },
      "cell_type": "code",
      "source": [
        "# Device\n",
        "import tensorflow as tf\n",
        "from tensorflow.python.client import device_lib\n",
        "print('Current Device: ', tf.test.gpu_device_name() + '\\n')\n",
        "device_lib.list_local_devices()\n",
        "\n",
        "# RAM: !cat /proc/meminfo\n",
        "# CPU: !cat /proc/cpuinfo"
      ],
      "execution_count": 0,
      "outputs": [
        {
          "output_type": "stream",
          "text": [
            "Current Device:  /device:GPU:0\n",
            "\n"
          ],
          "name": "stdout"
        },
        {
          "output_type": "execute_result",
          "data": {
            "text/plain": [
              "[name: \"/device:CPU:0\"\n",
              " device_type: \"CPU\"\n",
              " memory_limit: 268435456\n",
              " locality {\n",
              " }\n",
              " incarnation: 6560166980814844637, name: \"/device:GPU:0\"\n",
              " device_type: \"GPU\"\n",
              " memory_limit: 356122624\n",
              " locality {\n",
              "   bus_id: 1\n",
              " }\n",
              " incarnation: 3485662006225288770\n",
              " physical_device_desc: \"device: 0, name: Tesla K80, pci bus id: 0000:00:04.0, compute capability: 3.7\"]"
            ]
          },
          "metadata": {
            "tags": []
          },
          "execution_count": 6
        }
      ]
    },
    {
      "metadata": {
        "id": "DZjHlbwxtZYd",
        "colab_type": "code",
        "cellView": "both",
        "outputId": "93d03a12-624b-4c72-ba22-87c24c2f50c4",
        "colab": {
          "base_uri": "https://localhost:8080/",
          "height": 374
        }
      },
      "cell_type": "code",
      "source": [
        "# Check alloted memory\n",
        "!ln -sf /opt/bin/nvidia-smi /usr/bin/nvidia-smi\n",
        "!pip install gputil\n",
        "!pip install psutil\n",
        "!pip install humanize\n",
        "import psutil\n",
        "import humanize\n",
        "import os\n",
        "import GPUtil as GPU\n",
        "GPUs = GPU.getGPUs()\n",
        "# XXX: only one GPU on Colab and isn’t guaranteed\n",
        "gpu = GPUs[0]\n",
        "def printm():\n",
        "  process = psutil.Process(os.getpid())\n",
        "  print('Gen RAM Free: ' + humanize.naturalsize( psutil.virtual_memory().available ), ' I Proc size: ' + humanize.naturalsize( process.memory_info().rss))\n",
        "  print('GPU RAM Free: {0:.0f}MB | Used: {1:.0f}MB | Util {2:3.0f}% | Total {3:.0f}MB'.format(gpu.memoryFree, gpu.memoryUsed, gpu.memoryUtil*100, gpu.memoryTotal))\n",
        "printm()\n",
        "\n",
        "# Current Usage\n",
        "import os\n",
        "import psutil\n",
        "process = psutil.Process(os.getpid())\n",
        "print(\"Real usage: \", process.memory_info().rss/(10**9))"
      ],
      "execution_count": 0,
      "outputs": [
        {
          "output_type": "stream",
          "text": [
            "Collecting gputil\n",
            "  Downloading https://files.pythonhosted.org/packages/45/99/837428d26b47ebd6b66d6e1b180e98ec4a557767a93a81a02ea9d6242611/GPUtil-1.3.0.tar.gz\n",
            "Requirement already satisfied: numpy in /usr/local/lib/python3.6/dist-packages (from gputil) (1.14.3)\n",
            "Building wheels for collected packages: gputil\n",
            "  Running setup.py bdist_wheel for gputil ... \u001b[?25l-\b \b\\\b \b|\b \bdone\n",
            "\u001b[?25h  Stored in directory: /content/.cache/pip/wheels/17/0f/04/b79c006972335e35472c0b835ed52bfc0815258d409f560108\n",
            "Successfully built gputil\n",
            "Installing collected packages: gputil\n",
            "Successfully installed gputil-1.3.0\n",
            "Requirement already satisfied: psutil in /usr/local/lib/python3.6/dist-packages (5.4.5)\n",
            "Collecting humanize\n",
            "  Downloading https://files.pythonhosted.org/packages/8c/e0/e512e4ac6d091fc990bbe13f9e0378f34cf6eecd1c6c268c9e598dcf5bb9/humanize-0.5.1.tar.gz\n",
            "Building wheels for collected packages: humanize\n",
            "  Running setup.py bdist_wheel for humanize ... \u001b[?25l-\b \b\\\b \b|\b \bdone\n",
            "\u001b[?25h  Stored in directory: /content/.cache/pip/wheels/69/86/6c/f8b8593bc273ec4b0c653d3827f7482bb2001a2781a73b7f44\n",
            "Successfully built humanize\n",
            "Installing collected packages: humanize\n",
            "Successfully installed humanize-0.5.1\n",
            "Gen RAM Free: 10.2 GB  I Proc size: 145.2 MB\n",
            "GPU RAM Free: 10632MB | Used: 807MB | Util   7% | Total 11439MB\n",
            "Real usage:  0.145219584\n"
          ],
          "name": "stdout"
        }
      ]
    },
    {
      "metadata": {
        "id": "a4Sh1B8zXulZ",
        "colab_type": "text"
      },
      "cell_type": "markdown",
      "source": [
        "## Dynamic Programming\n",
        "Don't need to use tf.Session <br>\n",
        "Run an iteration whenever we want - easier for debugging"
      ]
    },
    {
      "metadata": {
        "id": "dlX0o8i8J52K",
        "colab_type": "code",
        "colab": {}
      },
      "cell_type": "code",
      "source": [
        "# Dynamic programming, eager mode on tensorflow\n",
        "# Only Native TF are supported in eager mode, meaning can't do it in Keras or tf.python.keras\n",
        "# Examples: https://github.com/tensorflow/tensorflow/tree/97a4c226e8a9e7c5c36fc38e2b9f8459c77abd5a/tensorflow/contrib/eager/python/examples\n",
        "import tensorflow.contrib.eager as tfe\n",
        "tfe.enable_eager_execution()\n",
        "\n",
        "# Examples of Eager Execution:\n",
        "https://github.com/ZhuanZhiCode/TensorFlow-Eager-Execution-Examples"
      ],
      "execution_count": 0,
      "outputs": []
    },
    {
      "metadata": {
        "id": "MnBn4ZVuanPd",
        "colab_type": "code",
        "colab": {}
      },
      "cell_type": "code",
      "source": [
        ""
      ],
      "execution_count": 0,
      "outputs": []
    },
    {
      "metadata": {
        "id": "AiiJfOXLbwxw",
        "colab_type": "code",
        "colab": {}
      },
      "cell_type": "code",
      "source": [
        ""
      ],
      "execution_count": 0,
      "outputs": []
    }
  ]
}