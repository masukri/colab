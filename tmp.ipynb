{
  "nbformat": 4,
  "nbformat_minor": 0,
  "metadata": {
    "colab": {
      "name": "tmp.ipynb",
      "version": "0.3.2",
      "provenance": [],
      "include_colab_link": true
    },
    "kernelspec": {
      "name": "python3",
      "display_name": "Python 3"
    }
  },
  "cells": [
    {
      "cell_type": "markdown",
      "metadata": {
        "id": "view-in-github",
        "colab_type": "text"
      },
      "source": [
        "<a href=\"https://colab.research.google.com/github/soiqualang/colab/blob/master/tmp.ipynb\" target=\"_parent\"><img src=\"https://colab.research.google.com/assets/colab-badge.svg\" alt=\"Open In Colab\"/></a>"
      ]
    },
    {
      "metadata": {
        "id": "Nx-e0dLScwFs",
        "colab_type": "code",
        "outputId": "4e70fd13-e862-4d76-b1d4-deb8459fd134",
        "colab": {
          "base_uri": "https://localhost:8080/",
          "height": 34
        }
      },
      "cell_type": "code",
      "source": [
        "cd /"
      ],
      "execution_count": 0,
      "outputs": [
        {
          "output_type": "stream",
          "text": [
            "/\n"
          ],
          "name": "stdout"
        }
      ]
    },
    {
      "metadata": {
        "id": "dS9g7uPbczrc",
        "colab_type": "code",
        "outputId": "4df2fc7d-8efc-45c9-b2fd-b4041ffb8814",
        "colab": {
          "base_uri": "https://localhost:8080/",
          "height": 68
        }
      },
      "cell_type": "code",
      "source": [
        "ls"
      ],
      "execution_count": 0,
      "outputs": [
        {
          "output_type": "stream",
          "text": [
            "\u001b[0m\u001b[01;34mbin\u001b[0m/         \u001b[01;34mcontent\u001b[0m/  \u001b[01;34metc\u001b[0m/   \u001b[01;34mlib32\u001b[0m/  \u001b[01;34mmnt\u001b[0m/   \u001b[01;34mroot\u001b[0m/  \u001b[01;34msrv\u001b[0m/    \u001b[30;42mtmp\u001b[0m/    \u001b[01;34mvar\u001b[0m/\n",
            "\u001b[01;34mboot\u001b[0m/        \u001b[01;34mdatalab\u001b[0m/  \u001b[01;34mhome\u001b[0m/  \u001b[01;34mlib64\u001b[0m/  \u001b[01;34mopt\u001b[0m/   \u001b[01;34mrun\u001b[0m/   \u001b[01;34mswift\u001b[0m/  \u001b[01;34mtools\u001b[0m/\n",
            "\u001b[01;34mcolabtools\u001b[0m/  \u001b[01;34mdev\u001b[0m/      \u001b[01;34mlib\u001b[0m/   \u001b[01;34mmedia\u001b[0m/  \u001b[01;34mproc\u001b[0m/  \u001b[01;34msbin\u001b[0m/  \u001b[01;34msys\u001b[0m/    \u001b[01;34musr\u001b[0m/\n"
          ],
          "name": "stdout"
        }
      ]
    },
    {
      "metadata": {
        "id": "yufmpT9Pc5HZ",
        "colab_type": "code",
        "colab": {}
      },
      "cell_type": "code",
      "source": [
        "mkdir soiqualang"
      ],
      "execution_count": 0,
      "outputs": []
    },
    {
      "metadata": {
        "id": "JHX_ZCwnc8aB",
        "colab_type": "code",
        "outputId": "6471fbf0-6bab-4e88-d25e-3dd4c286a8e0",
        "colab": {
          "base_uri": "https://localhost:8080/",
          "height": 68
        }
      },
      "cell_type": "code",
      "source": [
        "ls"
      ],
      "execution_count": 0,
      "outputs": [
        {
          "output_type": "stream",
          "text": [
            "\u001b[0m\u001b[01;34mbin\u001b[0m/         \u001b[01;34mcontent\u001b[0m/  \u001b[01;34metc\u001b[0m/   \u001b[01;34mlib32\u001b[0m/  \u001b[01;34mmnt\u001b[0m/   \u001b[01;34mroot\u001b[0m/  \u001b[01;34msoiqualang\u001b[0m/  \u001b[01;34msys\u001b[0m/    \u001b[01;34musr\u001b[0m/\n",
            "\u001b[01;34mboot\u001b[0m/        \u001b[01;34mdatalab\u001b[0m/  \u001b[01;34mhome\u001b[0m/  \u001b[01;34mlib64\u001b[0m/  \u001b[01;34mopt\u001b[0m/   \u001b[01;34mrun\u001b[0m/   \u001b[01;34msrv\u001b[0m/         \u001b[30;42mtmp\u001b[0m/    \u001b[01;34mvar\u001b[0m/\n",
            "\u001b[01;34mcolabtools\u001b[0m/  \u001b[01;34mdev\u001b[0m/      \u001b[01;34mlib\u001b[0m/   \u001b[01;34mmedia\u001b[0m/  \u001b[01;34mproc\u001b[0m/  \u001b[01;34msbin\u001b[0m/  \u001b[01;34mswift\u001b[0m/       \u001b[01;34mtools\u001b[0m/\n"
          ],
          "name": "stdout"
        }
      ]
    },
    {
      "metadata": {
        "id": "Nr_EK68Kc9oi",
        "colab_type": "code",
        "outputId": "9ec1990c-0b41-4732-af84-3220a2a38349",
        "colab": {
          "base_uri": "https://localhost:8080/",
          "height": 34
        }
      },
      "cell_type": "code",
      "source": [
        "cd /soiqualang"
      ],
      "execution_count": 0,
      "outputs": [
        {
          "output_type": "stream",
          "text": [
            "/soiqualang\n"
          ],
          "name": "stdout"
        }
      ]
    },
    {
      "metadata": {
        "id": "BE81uXBbdNdC",
        "colab_type": "code",
        "colab": {}
      },
      "cell_type": "code",
      "source": [
        "ls"
      ],
      "execution_count": 0,
      "outputs": []
    },
    {
      "metadata": {
        "id": "kUohIf0Vd4ZC",
        "colab_type": "code",
        "outputId": "b6e726e6-d5f4-4e33-8a41-a2839b213ba1",
        "colab": {
          "base_uri": "https://localhost:8080/",
          "height": 129
        }
      },
      "cell_type": "code",
      "source": [
        "wget http://rose.dothanhlong.org/rdesk/data/User/admin/home/python/jupyter/pygeo.zip"
      ],
      "execution_count": 0,
      "outputs": [
        {
          "output_type": "error",
          "ename": "SyntaxError",
          "evalue": "ignored",
          "traceback": [
            "\u001b[0;36m  File \u001b[0;32m\"<ipython-input-18-4901a2c051ad>\"\u001b[0;36m, line \u001b[0;32m1\u001b[0m\n\u001b[0;31m    wget http://rose.dothanhlong.org/rdesk/data/User/admin/home/python/jupyter/pygeo.zip\u001b[0m\n\u001b[0m            ^\u001b[0m\n\u001b[0;31mSyntaxError\u001b[0m\u001b[0;31m:\u001b[0m invalid syntax\n"
          ]
        }
      ]
    },
    {
      "metadata": {
        "id": "adkldVIYefDy",
        "colab_type": "code",
        "outputId": "786ac481-dc79-41ea-82b2-41442b8b4631",
        "colab": {
          "base_uri": "https://localhost:8080/",
          "height": 204
        }
      },
      "cell_type": "code",
      "source": [
        "!wget http://rose.dothanhlong.org/pygeo.zip"
      ],
      "execution_count": 0,
      "outputs": [
        {
          "output_type": "stream",
          "text": [
            "--2019-01-02 07:32:43--  http://rose.dothanhlong.org/pygeo.zip\n",
            "Resolving rose.dothanhlong.org (rose.dothanhlong.org)... 104.31.67.103, 104.31.66.103, 2606:4700:30::681f:4367, ...\n",
            "Connecting to rose.dothanhlong.org (rose.dothanhlong.org)|104.31.67.103|:80... connected.\n",
            "HTTP request sent, awaiting response... 200 OK\n",
            "Length: 34316087 (33M) [application/zip]\n",
            "Saving to: ‘pygeo.zip’\n",
            "\n",
            "pygeo.zip           100%[===================>]  32.73M  28.1MB/s    in 1.2s    \n",
            "\n",
            "2019-01-02 07:32:45 (28.1 MB/s) - ‘pygeo.zip’ saved [34316087/34316087]\n",
            "\n"
          ],
          "name": "stdout"
        }
      ]
    },
    {
      "metadata": {
        "id": "vZFxXFIOegxZ",
        "colab_type": "code",
        "outputId": "c2381bd7-4758-47e2-8e82-52d088fd8b11",
        "colab": {
          "base_uri": "https://localhost:8080/",
          "height": 34
        }
      },
      "cell_type": "code",
      "source": [
        "ls"
      ],
      "execution_count": 0,
      "outputs": [
        {
          "output_type": "stream",
          "text": [
            "pygeo.zip\n"
          ],
          "name": "stdout"
        }
      ]
    },
    {
      "metadata": {
        "id": "YW6tR4xEeq-R",
        "colab_type": "code",
        "outputId": "dc971a6f-779d-4a54-901a-d50b06c2b6e9",
        "colab": {
          "base_uri": "https://localhost:8080/",
          "height": 374
        }
      },
      "cell_type": "code",
      "source": [
        "!unzip pygeo.zip"
      ],
      "execution_count": 0,
      "outputs": [
        {
          "output_type": "stream",
          "text": [
            "Archive:  pygeo.zip\n",
            "  inflating: pygeo/readCSV_Elevation.ipynb  \n",
            "  inflating: pygeo/readHDF.ipynb     \n",
            "  inflating: pygeo/mt_bruno_elevation.csv  \n",
            "  inflating: pygeo/Multiple 3D Surface Plots.ipynb  \n",
            "  inflating: pygeo/plotly1.ipynb     \n",
            "  inflating: pygeo/chart.py          \n",
            "  inflating: pygeo/Untitled.ipynb    \n",
            "  inflating: pygeo/data/MOD11A2.A2013001.h28v08.005.2013017015247.hdf  \n",
            "  inflating: pygeo/.ipynb_checkpoints/Untitled-checkpoint.ipynb  \n",
            "  inflating: pygeo/.ipynb_checkpoints/read_hdf-checkpoint.ipynb  \n",
            "  inflating: pygeo/data/MOD11A2.A2013001.h28v07.005.2013017015136.hdf  \n",
            "  inflating: pygeo/.ipynb_checkpoints/plotly1-checkpoint.ipynb  \n",
            "  inflating: pygeo/data/A200803.L2_LAC_OC.x.nc  \n",
            "  inflating: pygeo/.ipynb_checkpoints/readHDF-checkpoint.ipynb  \n",
            "  inflating: pygeo/data/201317_DNB_1.tif  \n",
            "  inflating: pygeo/.ipynb_checkpoints/Multiple 3D Surface Plots-checkpoint.ipynb  \n",
            "  inflating: pygeo/data/A200801.L2_LAC_OC.x.nc  \n",
            "  inflating: pygeo/data/MOD11A2.A2013001.h28v07.005.2013017015136.hdf.aux.xml  \n",
            "  inflating: pygeo/.ipynb_checkpoints/readCSV_Elevation-checkpoint.ipynb  \n",
            "  inflating: pygeo/data/201317_DNB_1.tif.aux.xml  \n"
          ],
          "name": "stdout"
        }
      ]
    },
    {
      "metadata": {
        "id": "7N5MtXn8etwR",
        "colab_type": "code",
        "outputId": "e6f95e86-f9a1-4988-abab-64cf6fa56a33",
        "colab": {
          "base_uri": "https://localhost:8080/",
          "height": 34
        }
      },
      "cell_type": "code",
      "source": [
        "!pwd"
      ],
      "execution_count": 0,
      "outputs": [
        {
          "output_type": "stream",
          "text": [
            "/soiqualang\n"
          ],
          "name": "stdout"
        }
      ]
    },
    {
      "metadata": {
        "id": "DIc-ZfyofW9p",
        "colab_type": "code",
        "outputId": "2a511902-b5df-422d-d032-1469a722ef4c",
        "colab": {
          "base_uri": "https://localhost:8080/",
          "height": 34
        }
      },
      "cell_type": "code",
      "source": [
        "ls"
      ],
      "execution_count": 0,
      "outputs": [
        {
          "output_type": "stream",
          "text": [
            "\u001b[0m\u001b[01;34mpygeo\u001b[0m/  pygeo.zip\n"
          ],
          "name": "stdout"
        }
      ]
    },
    {
      "metadata": {
        "id": "0vHz0ptGfuTx",
        "colab_type": "code",
        "colab": {}
      },
      "cell_type": "code",
      "source": [
        "cp -r pygeo /content"
      ],
      "execution_count": 0,
      "outputs": []
    },
    {
      "metadata": {
        "id": "tQZFTdZ8fyiZ",
        "colab_type": "code",
        "outputId": "60902f16-39b0-4524-890b-eaf5c7e627fe",
        "colab": {
          "base_uri": "https://localhost:8080/",
          "height": 34
        }
      },
      "cell_type": "code",
      "source": [
        "cd /content"
      ],
      "execution_count": 0,
      "outputs": [
        {
          "output_type": "stream",
          "text": [
            "/content\n"
          ],
          "name": "stdout"
        }
      ]
    },
    {
      "metadata": {
        "id": "ST6gP8wLf3Yx",
        "colab_type": "code",
        "outputId": "f41b4287-1f64-47f8-ccfe-5475ef41453e",
        "colab": {
          "base_uri": "https://localhost:8080/",
          "height": 34
        }
      },
      "cell_type": "code",
      "source": [
        "ls"
      ],
      "execution_count": 0,
      "outputs": [
        {
          "output_type": "stream",
          "text": [
            "\u001b[0m\u001b[01;34mGeospatial_Course_Example\u001b[0m/  \u001b[01;34mIntro_python_geo\u001b[0m/  \u001b[01;34mpygeo\u001b[0m/  \u001b[01;34msample_data\u001b[0m/\n"
          ],
          "name": "stdout"
        }
      ]
    },
    {
      "metadata": {
        "id": "X7OEptGWf31B",
        "colab_type": "code",
        "outputId": "eaa8f1a4-b877-4964-feb5-8f46a5a9d864",
        "colab": {
          "base_uri": "https://localhost:8080/",
          "height": 34
        }
      },
      "cell_type": "code",
      "source": [
        "cd pygeo"
      ],
      "execution_count": 0,
      "outputs": [
        {
          "output_type": "stream",
          "text": [
            "/content/pygeo\n"
          ],
          "name": "stdout"
        }
      ]
    },
    {
      "metadata": {
        "id": "Z0Nuzh3Bf5s5",
        "colab_type": "code",
        "outputId": "520191ca-a920-4535-e684-7dde4268109f",
        "colab": {
          "base_uri": "https://localhost:8080/",
          "height": 68
        }
      },
      "cell_type": "code",
      "source": [
        "ls"
      ],
      "execution_count": 0,
      "outputs": [
        {
          "output_type": "stream",
          "text": [
            " chart.py                'Multiple 3D Surface Plots.ipynb'   readHDF.ipynb\n",
            " \u001b[0m\u001b[01;34mdata\u001b[0m/                    plotly1.ipynb                      Untitled.ipynb\n",
            " mt_bruno_elevation.csv   readCSV_Elevation.ipynb\n"
          ],
          "name": "stdout"
        }
      ]
    },
    {
      "metadata": {
        "id": "lqhujJ7uu2r6",
        "colab_type": "code",
        "outputId": "0a363823-9a66-48b6-9491-9119864aab31",
        "colab": {
          "base_uri": "https://localhost:8080/",
          "height": 34
        }
      },
      "cell_type": "code",
      "source": [
        "!curl ifconfig.me"
      ],
      "execution_count": 0,
      "outputs": [
        {
          "output_type": "stream",
          "text": [
            "35.233.141.49"
          ],
          "name": "stdout"
        }
      ]
    },
    {
      "metadata": {
        "id": "jma0OI2jvWup",
        "colab_type": "code",
        "colab": {}
      },
      "cell_type": "code",
      "source": [
        ""
      ],
      "execution_count": 0,
      "outputs": []
    }
  ]
}