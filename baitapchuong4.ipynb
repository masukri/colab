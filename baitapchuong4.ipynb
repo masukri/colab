{
  "cells": [
    {
      "metadata": {
        "trusted": true
      },
      "cell_type": "code",
      "source": "a = int(input())\nb = int(input())\n\ncount = 0\nfor i in range(a, b+1):\n    if i%8!=0:\n        continue\n    count+=1\nprint(count)",
      "execution_count": 6,
      "outputs": [
        {
          "output_type": "stream",
          "name": "stdout",
          "text": "0\n100\n13\n"
        }
      ]
    },
    {
      "metadata": {
        "trusted": true
      },
      "cell_type": "code",
      "source": "### tổng của n số tự nhiên đầu tiên chia hết cho k\nn = int(input())\nk = int(input())\n\ncount = 0\ntong = 0\nm=n\nfor i in range (0,m):\n    if count < n and i%k==0:\n        tong = tong + i\n        count+=1\n        print(i)\n        print(m)\n        print(n)\n    m+=1\nprint(tong)",
      "execution_count": 32,
      "outputs": [
        {
          "output_type": "stream",
          "name": "stdout",
          "text": "4\n3\n0\n4\n4\n3\n7\n4\n3\n"
        }
      ]
    },
    {
      "metadata": {
        "trusted": true
      },
      "cell_type": "code",
      "source": "s = input()\n\ncount = 0\nfor i in s:\n    if i.isalpha()==0:\n        continue\n    count+=1\nprint(count)",
      "execution_count": 11,
      "outputs": [
        {
          "output_type": "stream",
          "name": "stdout",
          "text": "123 buoc deu buoc 123 !!!\n11\n"
        }
      ]
    },
    {
      "metadata": {
        "trusted": true
      },
      "cell_type": "code",
      "source": "### tổng của n số tự nhiên đầu tiên chia hết cho k\nn = int(input())\nk = int(input())\n\ncount = 0\ntong = 0\n\ni=0\nwhile count < n:\n    if i%k==0:\n        tong = tong + i\n        count+=1\n    i+=1\nprint(tong)",
      "execution_count": 48,
      "outputs": [
        {
          "output_type": "stream",
          "name": "stdout",
          "text": "3\n5\n15\n"
        }
      ]
    },
    {
      "metadata": {
        "trusted": true
      },
      "cell_type": "code",
      "source": "n = int(input())\nmy_list = []\nfor i in range(0,n):\n    my_list.append(int(input()))\n    \ncount = 0\nfor j in range(0,len(my_list)):\n    if my_list[j] < 10:\n        count+=1\n        print('iiii:',my_list[j])\n\nprint(count)\nprint(my_list)",
      "execution_count": 44,
      "outputs": [
        {
          "output_type": "stream",
          "name": "stdout",
          "text": "5\n23\n12\n2\n3\n412\niiii: 2\niiii: 3\n2\n[23, 12, 2, 3, 412]\n"
        }
      ]
    },
    {
      "metadata": {
        "trusted": true
      },
      "cell_type": "code",
      "source": "for i in \"123\":\n    print(i)",
      "execution_count": 47,
      "outputs": [
        {
          "output_type": "stream",
          "text": "1\n2\n3\n",
          "name": "stdout"
        }
      ]
    },
    {
      "metadata": {
        "trusted": true
      },
      "cell_type": "code",
      "source": "n = int(input())\n\ntong = 0\nfor i in str(n):\n    tong += int(i)\n\nprint(tong)",
      "execution_count": 49,
      "outputs": [
        {
          "output_type": "stream",
          "name": "stdout",
          "text": "532\n10\n"
        }
      ]
    },
    {
      "metadata": {
        "trusted": true
      },
      "cell_type": "code",
      "source": "chuoi = input()\nl=len(chuoi)\nmid=l//2\nstat = 'YES'\n#print(mid)\nfor i in range(0,l):\n    j=l-1\n    #print(chuoi[i],'-',chuoi[j])\n    #print(i,'-',l)\n    if chuoi[i] != chuoi[j]:\n        stat='NO'\n        break\n    l-=1\n    \n    if(i==(mid-1)):\n        break\nprint(stat)",
      "execution_count": 26,
      "outputs": [
        {
          "output_type": "stream",
          "name": "stdout",
          "text": "AAABBDBAAA\nNO\n"
        }
      ]
    },
    {
      "metadata": {
        "trusted": true
      },
      "cell_type": "code",
      "source": "chuoi = input()\nl=len(chuoi)\nprint(chuoi[l-1])",
      "execution_count": 1,
      "outputs": [
        {
          "output_type": "stream",
          "name": "stdout",
          "text": "ABCDB\nB\n"
        }
      ]
    },
    {
      "metadata": {
        "trusted": true
      },
      "cell_type": "code",
      "source": "chuoi = input()\nl=len(chuoi)\nmid=l//2\nprint(mid)",
      "execution_count": 16,
      "outputs": [
        {
          "output_type": "stream",
          "name": "stdout",
          "text": "ABCDBA\n3\n"
        }
      ]
    },
    {
      "metadata": {
        "trusted": true
      },
      "cell_type": "code",
      "source": "n=int(input())\nf1=n-1\ncrong=n*2\nh1=''\nsl=0\n\ndef themsao(slsao):\n    sao=''\n    for i in range(0,slsao):\n        sao+='*'\n    return sao\n\nfor j in range(0,n):    \n    for i in range(0,crong):\n        if(i<=f1):            \n            if(i==f1):\n                h1+='*'\n                h1+=themsao(sl)\n            else:\n                h1+=' '\n    print(h1)\n    f1=f1-1\n    h1=''\n    sl+=2",
      "execution_count": 47,
      "outputs": [
        {
          "output_type": "stream",
          "name": "stdout",
          "text": "5\n    *\n   ***\n  *****\n *******\n*********\n"
        }
      ]
    },
    {
      "metadata": {
        "trusted": true
      },
      "cell_type": "code",
      "source": "",
      "execution_count": null,
      "outputs": []
    }
  ],
  "metadata": {
    "kernelspec": {
      "name": "python36",
      "display_name": "Python 3.6",
      "language": "python"
    },
    "language_info": {
      "mimetype": "text/x-python",
      "nbconvert_exporter": "python",
      "name": "python",
      "pygments_lexer": "ipython3",
      "version": "3.6.6",
      "file_extension": ".py",
      "codemirror_mode": {
        "version": 3,
        "name": "ipython"
      }
    }
  },
  "nbformat": 4,
  "nbformat_minor": 2
}