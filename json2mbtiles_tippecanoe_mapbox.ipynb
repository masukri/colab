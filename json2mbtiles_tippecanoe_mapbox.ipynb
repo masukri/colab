{
  "nbformat": 4,
  "nbformat_minor": 0,
  "metadata": {
    "colab": {
      "name": "json2mbtiles - tippecanoe - mapbox.ipynb",
      "provenance": [],
      "authorship_tag": "ABX9TyMoi0WXNXz0SxegVGapMmSJ",
      "include_colab_link": true
    },
    "kernelspec": {
      "name": "python3",
      "display_name": "Python 3"
    }
  },
  "cells": [
    {
      "cell_type": "markdown",
      "metadata": {
        "id": "view-in-github",
        "colab_type": "text"
      },
      "source": [
        "<a href=\"https://colab.research.google.com/github/soiqualang/colab/blob/master/json2mbtiles_tippecanoe_mapbox.ipynb\" target=\"_parent\"><img src=\"https://colab.research.google.com/assets/colab-badge.svg\" alt=\"Open In Colab\"/></a>"
      ]
    },
    {
      "cell_type": "markdown",
      "metadata": {
        "id": "qlKyV2XvERWK",
        "colab_type": "text"
      },
      "source": [
        "https://github.com/mapbox/tippecanoe"
      ]
    },
    {
      "cell_type": "code",
      "metadata": {
        "id": "xV7Cw_S2sH3t",
        "colab_type": "code",
        "colab": {}
      },
      "source": [
        "!rm -r sample_data/"
      ],
      "execution_count": 0,
      "outputs": []
    },
    {
      "cell_type": "code",
      "metadata": {
        "id": "-UOJ0YOYEBdC",
        "colab_type": "code",
        "colab": {}
      },
      "source": [
        "!git clone https://github.com/mapbox/tippecanoe.git"
      ],
      "execution_count": 0,
      "outputs": []
    },
    {
      "cell_type": "code",
      "metadata": {
        "id": "TVtYzcd6ENZx",
        "colab_type": "code",
        "colab": {
          "base_uri": "https://localhost:8080/",
          "height": 34
        },
        "outputId": "6f677384-bee4-43ca-cc98-2bf571838d75"
      },
      "source": [
        "cd tippecanoe"
      ],
      "execution_count": 3,
      "outputs": [
        {
          "output_type": "stream",
          "text": [
            "/content/tippecanoe\n"
          ],
          "name": "stdout"
        }
      ]
    },
    {
      "cell_type": "code",
      "metadata": {
        "id": "pPBRX4QhEYKx",
        "colab_type": "code",
        "colab": {
          "base_uri": "https://localhost:8080/",
          "height": 34
        },
        "outputId": "52f7dd45-ebc0-47bb-c8f3-8307a9957078"
      },
      "source": [
        "pwd"
      ],
      "execution_count": 4,
      "outputs": [
        {
          "output_type": "execute_result",
          "data": {
            "text/plain": [
              "'/content/tippecanoe'"
            ]
          },
          "metadata": {
            "tags": []
          },
          "execution_count": 4
        }
      ]
    },
    {
      "cell_type": "code",
      "metadata": {
        "id": "EDXDe9RvEdyY",
        "colab_type": "code",
        "colab": {}
      },
      "source": [
        "!sudo apt-get install libsqlite3-dev"
      ],
      "execution_count": 0,
      "outputs": []
    },
    {
      "cell_type": "code",
      "metadata": {
        "id": "iocLhy4uEZrQ",
        "colab_type": "code",
        "colab": {}
      },
      "source": [
        "!sudo make -j"
      ],
      "execution_count": 0,
      "outputs": []
    },
    {
      "cell_type": "code",
      "metadata": {
        "id": "7qAwqosqEyaY",
        "colab_type": "code",
        "colab": {}
      },
      "source": [
        "!sudo make install"
      ],
      "execution_count": 0,
      "outputs": []
    },
    {
      "cell_type": "code",
      "metadata": {
        "id": "t5i3l4IUFO9_",
        "colab_type": "code",
        "colab": {
          "base_uri": "https://localhost:8080/",
          "height": 34
        },
        "outputId": "7f3a2363-6c10-4fd4-9b11-6943fe65f1a6"
      },
      "source": [
        "!tippecanoe"
      ],
      "execution_count": 8,
      "outputs": [
        {
          "output_type": "stream",
          "text": [
            "tippecanoe: must specify -o out.mbtiles or -e directory\n"
          ],
          "name": "stdout"
        }
      ]
    },
    {
      "cell_type": "code",
      "metadata": {
        "id": "kzkHr6k7FRmQ",
        "colab_type": "code",
        "colab": {
          "base_uri": "https://localhost:8080/",
          "height": 204
        },
        "outputId": "9242eb6b-f4bd-4f07-a8d4-7538255ae1bf"
      },
      "source": [
        "!wget http://dev.dothanhlong.org/download/thamthucvat.geojson"
      ],
      "execution_count": 9,
      "outputs": [
        {
          "output_type": "stream",
          "text": [
            "--2020-03-06 07:16:49--  http://dev.dothanhlong.org/download/thamthucvat.geojson\n",
            "Resolving dev.dothanhlong.org (dev.dothanhlong.org)... 139.99.46.176\n",
            "Connecting to dev.dothanhlong.org (dev.dothanhlong.org)|139.99.46.176|:80... connected.\n",
            "HTTP request sent, awaiting response... 200 OK\n",
            "Length: 120605201 (115M)\n",
            "Saving to: ‘thamthucvat.geojson’\n",
            "\n",
            "thamthucvat.geojson 100%[===================>] 115.02M  7.46MB/s    in 18s     \n",
            "\n",
            "2020-03-06 07:17:08 (6.36 MB/s) - ‘thamthucvat.geojson’ saved [120605201/120605201]\n",
            "\n"
          ],
          "name": "stdout"
        }
      ]
    },
    {
      "cell_type": "code",
      "metadata": {
        "id": "1z9n3XJdFlhI",
        "colab_type": "code",
        "colab": {
          "base_uri": "https://localhost:8080/",
          "height": 340
        },
        "outputId": "a5ab0740-2ccc-4230-fbbd-aa79b668c22e"
      },
      "source": [
        "!tippecanoe -zg -o thamthucvat.mbtiles --drop-densest-as-needed thamthucvat.geojson"
      ],
      "execution_count": 10,
      "outputs": [
        {
          "output_type": "stream",
          "text": [
            "For layer 0, using name \"thamthucvat\"\n",
            "22829 features, 10457936 bytes of geometry, 890219 bytes of separate metadata, 728797 bytes of string pool\n",
            "Choosing a maxzoom of -z5 for features about 9535 feet (2907 meters) apart\n",
            "Choosing a maxzoom of -z8 for resolution of about 1638 feet (499 meters) within features\n",
            "tile 3/6/3 size is 600079 with detail 12, >500000    \n",
            "Going to try keeping the sparsest 74.99% of the features to make it fit\n",
            "tile 3/6/3 size is 525108 with detail 12, >500000    \n",
            "Going to try keeping the sparsest 64.26% of the features to make it fit\n",
            "tile 4/12/7 size is 890563 with detail 12, >500000    \n",
            "Going to try keeping the sparsest 50.53% of the features to make it fit\n",
            "tile 4/12/7 size is 519765 with detail 12, >500000    \n",
            "Going to try keeping the sparsest 43.75% of the features to make it fit\n",
            "tile 5/25/14 size is 994753 with detail 12, >500000    \n",
            "Going to try keeping the sparsest 45.24% of the features to make it fit\n",
            "tile 6/50/28 size is 539063 with detail 12, >500000    \n",
            "Going to try keeping the sparsest 83.48% of the features to make it fit\n",
            "tile 6/51/29 size is 582745 with detail 12, >500000    \n",
            "Going to try keeping the sparsest 77.22% of the features to make it fit\n",
            "\n"
          ],
          "name": "stdout"
        }
      ]
    },
    {
      "cell_type": "code",
      "metadata": {
        "id": "MVrN7rSMFxuo",
        "colab_type": "code",
        "colab": {}
      },
      "source": [
        ""
      ],
      "execution_count": 0,
      "outputs": []
    }
  ]
}