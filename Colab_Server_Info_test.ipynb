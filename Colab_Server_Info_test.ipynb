{
  "nbformat": 4,
  "nbformat_minor": 0,
  "metadata": {
    "colab": {
      "name": "Colab_Server_Info_test.ipynb",
      "version": "0.3.2",
      "provenance": [],
      "collapsed_sections": [],
      "include_colab_link": true
    },
    "kernelspec": {
      "name": "python3",
      "display_name": "Python 3"
    }
  },
  "cells": [
    {
      "cell_type": "markdown",
      "metadata": {
        "id": "view-in-github",
        "colab_type": "text"
      },
      "source": [
        "<a href=\"https://colab.research.google.com/github/soiqualang/colab/blob/master/Colab_Server_Info_test.ipynb\" target=\"_parent\"><img src=\"https://colab.research.google.com/assets/colab-badge.svg\" alt=\"Open In Colab\"/></a>"
      ]
    },
    {
      "cell_type": "code",
      "metadata": {
        "id": "yy-h6o65kPG4",
        "colab_type": "code",
        "outputId": "6eba0907-6e31-4067-a5ed-8169c48d6cb8",
        "colab": {
          "base_uri": "https://localhost:8080/",
          "height": 1037
        }
      },
      "source": [
        "!curl -Lso- tocdo.net | bash"
      ],
      "execution_count": 0,
      "outputs": [
        {
          "output_type": "stream",
          "text": [
            "Please wait...\n",
            "bash: line 24: virt-what: command not found\n",
            "\u001b[H\u001b[2JSystem Info\n",
            "----------------------------------------------------------------------\n",
            "CPU model            : Intel(R) Xeon(R) CPU @ 2.30GHz\n",
            "Number of cores      : 2\n",
            "CPU frequency        : 2300.000 MHz\n",
            "Total size of Disk   : 110.0 GB (47.0 GB Used)\n",
            "Total amount of Mem  : 13022 MB (565 MB Used)\n",
            "Total amount of Swap : 0 MB (0 MB Used)\n",
            "System uptime        : 0 days, 2 hour 29 min\n",
            "Load average         : 0.08, 0.02, 0.01\n",
            "OS                   : Ubuntu 18.04.2 LTS\n",
            "Arch                 : x86_64 (64 Bit)\n",
            "Kernel               : 4.14.79+\n",
            "Virt                 : No Virt\n",
            "Date                 : Tue May 28 09:42:06 UTC 2019\n",
            "\n",
            "Disk Speed\n",
            "----------------------------------------------------------------------\n",
            "dd Test\n",
            "I/O (1st run)        : 140 MB/s\n",
            "I/O (2nd run)        : 38.2 MB/s\n",
            "I/O (3rd run)        : 30.3 MB/s\n",
            "Average              : 69.5 MB/s\n",
            "-----------------------------------\n",
            "Fio is missing!!! Please install Fio before running test.\n",
            "\n",
            "Speedtest\n",
            "----------------------------------------------------------------------\n",
            "Node Name                               IPv4 address    Download Speed\n",
            "main: line 44: ping: command not found\n",
            "\u001b[0;33mCacheFly                                \u001b[0;32m                \u001b[0;31m132MB/s       \u001b[0m\n",
            "main: line 44: ping: command not found\n",
            "\u001b[0;33mVultr, Los Angeles, CA                  \u001b[0;32m                \u001b[0;31m38.8MB/s      \u001b[0m\n",
            "main: line 44: ping: command not found\n",
            "\u001b[0;33mVultr, Seattle, WA                      \u001b[0;32m                \u001b[0;31m34.6MB/s      \u001b[0m\n",
            "main: line 44: ping: command not found\n",
            "\u001b[0;33mLinode, Tokyo, JP                       \u001b[0;32m                \u001b[0;31m13.8MB/s      \u001b[0m\n",
            "main: line 44: ping: command not found\n",
            "\u001b[0;33mLinode, Singapore, SG                   \u001b[0;32m                \u001b[0;31m7.52MB/s      \u001b[0m\n",
            "main: line 44: ping: command not found\n",
            "\u001b[0;33mSoftlayer, HongKong, CN                 \u001b[0;32m                \u001b[0;31m7.93MB/s      \u001b[0m\n",
            "main: line 44: ping: command not found\n",
            "\u001b[0;33mVNPT, Ha Noi, VN                        \u001b[0;32m                \u001b[0;31m1.16MB/s      \u001b[0m\n",
            "main: line 44: ping: command not found\n",
            "\u001b[0;33mVNPT, Da Nang, VN                       \u001b[0;32m                \u001b[0;31m960KB/s       \u001b[0m\n",
            "main: line 44: ping: command not found\n",
            "\u001b[0;33mVNPT, Ho Chi Minh, VN                   \u001b[0;32m                \u001b[0;31m1.29MB/s      \u001b[0m\n",
            "main: line 44: ping: command not found\n",
            "\u001b[0;33mViettel Network, Ha Noi, VN             \u001b[0;32m                \u001b[0;31m7.66MB/s      \u001b[0m\n",
            "main: line 44: ping: command not found\n",
            "\u001b[0;33mViettel Network, Da Nang, VN            \u001b[0;32m                \u001b[0;31m2.87MB/s      \u001b[0m\n",
            "main: line 44: ping: command not found\n",
            "\u001b[0;33mViettel Network, Ho Chi Minh, VN        \u001b[0;32m                \u001b[0;31m7.36MB/s      \u001b[0m\n",
            "main: line 44: ping: command not found\n",
            "\u001b[0;33mFPT Telecom, Ha Noi, VN                 \u001b[0;32m                \u001b[0;31m8.04MB/s      \u001b[0m\n",
            "main: line 44: ping: command not found\n",
            "\u001b[0;33mFPT Telecom, Ho Chi Minh, VN            \u001b[0;32m                \u001b[0;31m7.96MB/s      \u001b[0m\n",
            "----------------------------------------------------------------------\n"
          ],
          "name": "stdout"
        }
      ]
    }
  ]
}