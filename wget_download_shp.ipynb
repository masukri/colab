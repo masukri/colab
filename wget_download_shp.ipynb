{
  "nbformat": 4,
  "nbformat_minor": 0,
  "metadata": {
    "colab": {
      "name": "wget_download_shp.ipynb",
      "version": "0.3.2",
      "provenance": [],
      "include_colab_link": true
    },
    "kernelspec": {
      "name": "python3",
      "display_name": "Python 3"
    }
  },
  "cells": [
    {
      "cell_type": "markdown",
      "metadata": {
        "id": "view-in-github",
        "colab_type": "text"
      },
      "source": [
        "<a href=\"https://colab.research.google.com/github/soiqualang/colab/blob/master/wget_download_shp.ipynb\" target=\"_parent\"><img src=\"https://colab.research.google.com/assets/colab-badge.svg\" alt=\"Open In Colab\"/></a>"
      ]
    },
    {
      "cell_type": "code",
      "metadata": {
        "id": "bP-Xrycw8l89",
        "colab_type": "code",
        "outputId": "7ff4c73a-0ad6-4578-b669-3b26ad8d97b0",
        "colab": {
          "base_uri": "https://localhost:8080/",
          "height": 440
        }
      },
      "source": [
        "!wget \"http://maps.vnforest.gov.vn:802/geoserver/FRMS/ows?service=WFS&version=1.0.0&request=GetFeature&outputFormat=SHAPE-ZIP&typeName=Forest_origin_2017\" -O Forest_origin_2017.zip"
      ],
      "execution_count": 0,
      "outputs": [
        {
          "output_type": "stream",
          "text": [
            "--2019-05-29 04:59:41--  http://maps.vnforest.gov.vn:802/geoserver/FRMS/ows?service=WFS&version=1.0.0&request=GetFeature&outputFormat=SHAPE-ZIP&typeName=Forest_origin_2017\n",
            "Resolving maps.vnforest.gov.vn (maps.vnforest.gov.vn)... 103.7.172.206\n",
            "Connecting to maps.vnforest.gov.vn (maps.vnforest.gov.vn)|103.7.172.206|:802... connected.\n",
            "HTTP request sent, awaiting response... Read error (Connection timed out) in headers.\n",
            "Retrying.\n",
            "\n",
            "--2019-05-29 05:14:43--  (try: 2)  http://maps.vnforest.gov.vn:802/geoserver/FRMS/ows?service=WFS&version=1.0.0&request=GetFeature&outputFormat=SHAPE-ZIP&typeName=Forest_origin_2017\n",
            "Connecting to maps.vnforest.gov.vn (maps.vnforest.gov.vn)|103.7.172.206|:802... connected.\n",
            "HTTP request sent, awaiting response... 200 OK\n",
            "Length: unspecified [application/zip]\n",
            "Saving to: ‘Forest_origin_2017.zip’\n",
            "\n",
            "Forest_origin_2017.     [<=>                 ] 161.02M  --.-KB/s    in 45m 45s \n",
            "\n",
            "2019-05-29 06:07:59 (60.1 KB/s) - Read error at byte 168845870 (Connection timed out).Retrying.\n",
            "\n",
            "--2019-05-29 06:08:01--  (try: 3)  http://maps.vnforest.gov.vn:802/geoserver/FRMS/ows?service=WFS&version=1.0.0&request=GetFeature&outputFormat=SHAPE-ZIP&typeName=Forest_origin_2017\n",
            "Connecting to maps.vnforest.gov.vn (maps.vnforest.gov.vn)|103.7.172.206|:802... connected.\n",
            "HTTP request sent, awaiting response... 200 OK\n",
            "Length: unspecified [application/zip]\n",
            "Saving to: ‘Forest_origin_2017.zip’\n",
            "\n",
            "Forest_origin_2017.     [   <=>              ]   1.41G  98.4KB/s               "
          ],
          "name": "stdout"
        }
      ]
    },
    {
      "cell_type": "code",
      "metadata": {
        "id": "-Lt3V9jd84cK",
        "colab_type": "code",
        "colab": {}
      },
      "source": [
        ""
      ],
      "execution_count": 0,
      "outputs": []
    }
  ]
}