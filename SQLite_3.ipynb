{
  "nbformat": 4,
  "nbformat_minor": 0,
  "metadata": {
    "colab": {
      "name": "SQLite 3.ipynb",
      "version": "0.3.2",
      "provenance": [],
      "collapsed_sections": [],
      "toc_visible": true,
      "include_colab_link": true
    },
    "kernelspec": {
      "name": "python3",
      "display_name": "Python 3"
    }
  },
  "cells": [
    {
      "cell_type": "markdown",
      "metadata": {
        "id": "view-in-github",
        "colab_type": "text"
      },
      "source": [
        "<a href=\"https://colab.research.google.com/github/soiqualang/colab/blob/master/SQLite_3.ipynb\" target=\"_parent\"><img src=\"https://colab.research.google.com/assets/colab-badge.svg\" alt=\"Open In Colab\"/></a>"
      ]
    },
    {
      "cell_type": "markdown",
      "metadata": {
        "id": "bb8e6YAWrVnW",
        "colab_type": "text"
      },
      "source": [
        "#SQLite 3\n",
        "\n",
        "https://phocode.com/blog/2016/03/21/python-co-so-du-lieu-sqlite/\n",
        "\n",
        "https://datatofish.com/create-database-python-using-sqlite3/\n",
        "\n",
        "```sql\n",
        "conn = sqlite3.connect('TestDB.db')  # You can create a new database by changing the name within the quotes\n",
        "c = conn.cursor() # The database will be saved in the location where your 'py' file is saved\n",
        "\n",
        "# Create table - CLIENTS\n",
        "c.execute('''CREATE TABLE CLIENTS\n",
        "             ([generated_id] INTEGER PRIMARY KEY,[Client_Name] text, [Country_ID] integer, [Date] date)''')\n",
        "```\n",
        "\n",
        "## Get dict from query\n",
        "\n",
        "https://stackoverflow.com/questions/3300464/how-can-i-get-dict-from-sqlite-query\n",
        "\n",
        "```sql\n",
        "import sqlite3\n",
        "\n",
        "def dict_factory(cursor, row):\n",
        "    d = {}\n",
        "    for idx, col in enumerate(cursor.description):\n",
        "        d[col[0]] = row[idx]\n",
        "    return d\n",
        "\n",
        "con = sqlite3.connect(\":memory:\")\n",
        "con.row_factory = dict_factory\n",
        "cur = con.cursor()\n",
        "cur.execute(\"select 1 as a\")\n",
        "print cur.fetchone()[\"a\"]\n",
        "```\n",
        "\n",
        "## Can't connect remote SQLite\n",
        "\n",
        "https://stackoverflow.com/questions/2318315/connect-to-a-remote-sqlite3-database-with-python"
      ]
    },
    {
      "cell_type": "code",
      "metadata": {
        "id": "jE2aFtVhrTJw",
        "colab_type": "code",
        "colab": {}
      },
      "source": [
        "import sqlite3"
      ],
      "execution_count": 0,
      "outputs": []
    },
    {
      "cell_type": "code",
      "metadata": {
        "id": "dxMN5beurZD-",
        "colab_type": "code",
        "colab": {
          "base_uri": "https://localhost:8080/",
          "height": 204
        },
        "outputId": "b35d6d68-5b39-49ee-f830-ea8b67c866c9"
      },
      "source": [
        "#Make DB\n",
        "!wget 'http://dev.dothanhlong.org/download/db1.db'\n",
        "conn=sqlite3.connect('db1.db')\n",
        "#c = conn.cursor()"
      ],
      "execution_count": 5,
      "outputs": [
        {
          "output_type": "stream",
          "text": [
            "--2019-06-04 04:10:41--  http://dev.dothanhlong.org/download/db1.db\n",
            "Resolving dev.dothanhlong.org (dev.dothanhlong.org)... 139.99.46.176\n",
            "Connecting to dev.dothanhlong.org (dev.dothanhlong.org)|139.99.46.176|:80... connected.\n",
            "HTTP request sent, awaiting response... 200 OK\n",
            "Length: 3072 (3.0K)\n",
            "Saving to: ‘db1.db’\n",
            "\n",
            "\rdb1.db                0%[                    ]       0  --.-KB/s               \rdb1.db              100%[===================>]   3.00K  --.-KB/s    in 0s      \n",
            "\n",
            "2019-06-04 04:10:41 (373 MB/s) - ‘db1.db’ saved [3072/3072]\n",
            "\n"
          ],
          "name": "stdout"
        }
      ]
    },
    {
      "cell_type": "code",
      "metadata": {
        "id": "w4jfBPOHrjql",
        "colab_type": "code",
        "colab": {}
      },
      "source": [
        "#make funtion by soiqualang\n",
        "\n",
        "def insert_table(table,field,value,conn):\n",
        "    with conn:\n",
        "        cur = conn.cursor()\n",
        "        strfield=\"\"\n",
        "        strvalue=\"\"\n",
        "        for i in range(0,len(field)):\n",
        "            strfield+=field[i]+\", \"\n",
        "            strvalue+=\"'\"+value[i]+\"', \"\n",
        "        strfield+=field[i]\n",
        "        strvalue+=\"'\"+value[i]+\"'\"\n",
        "        sql_add_news=\"INSERT INTO \"+table+\"(\"+strfield+\") VALUES (\"+strvalue+\")\"\n",
        "        #print(sql_add_news)\n",
        "        cur.execute(sql_add_news)\n",
        "\n",
        "def dict_factory(cursor, row):\n",
        "    d = {}\n",
        "    for idx, col in enumerate(cursor.description):\n",
        "        d[col[0]] = row[idx]\n",
        "    return d\n",
        "        \n",
        "def getElement(tbl_table,element,where,id,conn):\n",
        "    with conn:\n",
        "        cur = conn.cursor()\n",
        "        id=str(id)\n",
        "        #sql='SELECT SQLITE_VERSION()'\n",
        "        sql=\"Select \"+element+\" from \"+tbl_table+\" where \"+where+\"='\"+id+\"'\"\n",
        "        #print(sql)\n",
        "        cur.execute(sql)\n",
        "        data = cur.fetchone()\n",
        "        #data=cur.fetchall()\n",
        "        return data[element]\n",
        "\n",
        "def table_to_array1(table,conn):\n",
        "    with conn:\n",
        "        conn.row_factory = dict_factory\n",
        "        cur = conn.cursor()\n",
        "        sql=\"SELECT * from \"+table\n",
        "        #print(sql)\n",
        "        cur.execute(sql)\n",
        "        rows = cur.fetchall()        \n",
        "        '''\n",
        "        for row in rows:\n",
        "            print (\"%s %s %s\" % (row[\"id\"], row[\"ques\"], row[\"ans\"]))\n",
        "        '''\n",
        "        return rows\n",
        "        "
      ],
      "execution_count": 0,
      "outputs": []
    },
    {
      "cell_type": "code",
      "metadata": {
        "id": "nQczQhckrrR1",
        "colab_type": "code",
        "colab": {}
      },
      "source": [
        "field=['ques','ans','info']\n",
        "value=['qqqq1','aaaaa1','iiiii1']\n",
        "\n",
        "insert_table('qa',field,value,conn)"
      ],
      "execution_count": 0,
      "outputs": []
    },
    {
      "cell_type": "code",
      "metadata": {
        "id": "KUwJIxr5rtrF",
        "colab_type": "code",
        "colab": {
          "base_uri": "https://localhost:8080/",
          "height": 34
        },
        "outputId": "b77e8b47-311a-48dc-f856-415a8eefa0d9"
      },
      "source": [
        "ans=getElement('qa','ans','id',1,conn)\n",
        "print(ans)"
      ],
      "execution_count": 17,
      "outputs": [
        {
          "output_type": "stream",
          "text": [
            "aaaaa2\n"
          ],
          "name": "stdout"
        }
      ]
    },
    {
      "cell_type": "code",
      "metadata": {
        "id": "WdQPVQEfru9V",
        "colab_type": "code",
        "colab": {
          "base_uri": "https://localhost:8080/",
          "height": 51
        },
        "outputId": "54dd9124-f07f-4adb-a44e-f41b3c53ec1a"
      },
      "source": [
        "rows=table_to_array1('qa',conn)\n",
        "#print(rows)\n",
        "\n",
        "for row in rows:\n",
        "    print(row['id'],row['ques'],row['ans'])"
      ],
      "execution_count": 18,
      "outputs": [
        {
          "output_type": "stream",
          "text": [
            "1 qqqq2 aaaaa2\n",
            "2 qqqq1 aaaaa1\n"
          ],
          "name": "stdout"
        }
      ]
    },
    {
      "cell_type": "code",
      "metadata": {
        "id": "XqpGsv7mr1pd",
        "colab_type": "code",
        "colab": {}
      },
      "source": [
        ""
      ],
      "execution_count": 0,
      "outputs": []
    }
  ]
}