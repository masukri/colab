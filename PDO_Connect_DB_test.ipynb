{
  "nbformat": 4,
  "nbformat_minor": 0,
  "metadata": {
    "colab": {
      "name": "PDO_Connect_DB_test.ipynb",
      "version": "0.3.2",
      "provenance": [],
      "collapsed_sections": [],
      "include_colab_link": true
    },
    "kernelspec": {
      "name": "python3",
      "display_name": "Python 3"
    }
  },
  "cells": [
    {
      "cell_type": "markdown",
      "metadata": {
        "id": "view-in-github",
        "colab_type": "text"
      },
      "source": [
        "<a href=\"https://colab.research.google.com/github/soiqualang/colab/blob/master/PDO_Connect_DB_test.ipynb\" target=\"_parent\"><img src=\"https://colab.research.google.com/assets/colab-badge.svg\" alt=\"Open In Colab\"/></a>"
      ]
    },
    {
      "cell_type": "code",
      "metadata": {
        "id": "Xpn-BdlreHzJ",
        "colab_type": "code",
        "outputId": "df2ffadf-9b3a-4248-e2ad-ddb9428b67fa",
        "colab": {
          "base_uri": "https://localhost:8080/",
          "height": 187
        }
      },
      "source": [
        "!unzip PDO-1.3.2.zip"
      ],
      "execution_count": 0,
      "outputs": [
        {
          "output_type": "stream",
          "text": [
            "Archive:  PDO-1.3.2.zip\n",
            "  inflating: PDO-1.3.2/CHANGELOG     \n",
            "   creating: PDO-1.3.2/docs/\n",
            "  inflating: PDO-1.3.2/docs/index.html  \n",
            "  inflating: PDO-1.3.2/docs/license.html  \n",
            "  inflating: PDO-1.3.2/LICENSE       \n",
            "  inflating: PDO-1.3.2/MANIFEST      \n",
            "  inflating: PDO-1.3.2/pdo.py        \n",
            "  inflating: PDO-1.3.2/PKG-INFO      \n",
            "  inflating: PDO-1.3.2/setup.py      \n"
          ],
          "name": "stdout"
        }
      ]
    },
    {
      "cell_type": "code",
      "metadata": {
        "id": "9Yhz_afceSSn",
        "colab_type": "code",
        "outputId": "a0485958-27b1-4df2-a9db-b3ef2fc79980",
        "colab": {
          "base_uri": "https://localhost:8080/",
          "height": 34
        }
      },
      "source": [
        "cd PDO-1.3.2/"
      ],
      "execution_count": 0,
      "outputs": [
        {
          "output_type": "stream",
          "text": [
            "/content/PDO-1.3.2\n"
          ],
          "name": "stdout"
        }
      ]
    },
    {
      "cell_type": "code",
      "metadata": {
        "id": "qb-0zEHnefwj",
        "colab_type": "code",
        "outputId": "aa19363e-ba25-42bf-bb4c-2a8186636463",
        "colab": {
          "base_uri": "https://localhost:8080/",
          "height": 238
        }
      },
      "source": [
        "!python setup.py install"
      ],
      "execution_count": 0,
      "outputs": [
        {
          "output_type": "stream",
          "text": [
            "running install\n",
            "running build\n",
            "running build_py\n",
            "running install_lib\n",
            "byte-compiling /usr/local/lib/python3.6/dist-packages/pdo.py to pdo.cpython-36.pyc\n",
            "  File \"/usr/local/lib/python3.6/dist-packages/pdo.py\", line 80\n",
            "    raise pdo_connection_error, self.ErrorMessage\n",
            "                              ^\n",
            "SyntaxError: invalid syntax\n",
            "\n",
            "running install_egg_info\n",
            "Removing /usr/local/lib/python3.6/dist-packages/PDO-1.3.2.egg-info\n",
            "Writing /usr/local/lib/python3.6/dist-packages/PDO-1.3.2.egg-info\n"
          ],
          "name": "stdout"
        }
      ]
    },
    {
      "cell_type": "code",
      "metadata": {
        "id": "idDfKxO9eju2",
        "colab_type": "code",
        "colab": {}
      },
      "source": [
        ""
      ],
      "execution_count": 0,
      "outputs": []
    }
  ]
}