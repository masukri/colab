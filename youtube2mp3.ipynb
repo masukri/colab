{
  "nbformat": 4,
  "nbformat_minor": 0,
  "metadata": {
    "colab": {
      "name": "youtube2mp3.ipynb",
      "version": "0.3.2",
      "provenance": [],
      "collapsed_sections": [],
      "include_colab_link": true
    },
    "kernelspec": {
      "name": "python2",
      "display_name": "Python 2"
    }
  },
  "cells": [
    {
      "cell_type": "markdown",
      "metadata": {
        "id": "view-in-github",
        "colab_type": "text"
      },
      "source": [
        "<a href=\"https://colab.research.google.com/github/soiqualang/colab/blob/master/youtube2mp3.ipynb\" target=\"_parent\"><img src=\"https://colab.research.google.com/assets/colab-badge.svg\" alt=\"Open In Colab\"/></a>"
      ]
    },
    {
      "metadata": {
        "id": "p8TxvWk279TT",
        "colab_type": "code",
        "colab": {
          "base_uri": "https://localhost:8080/",
          "height": 122
        },
        "outputId": "2bc941f5-5b7d-43e3-fb3b-cc52853913ec"
      },
      "cell_type": "code",
      "source": [
        "!pip install youtube_dl"
      ],
      "execution_count": 1,
      "outputs": [
        {
          "output_type": "stream",
          "text": [
            "Collecting youtube_dl\n",
            "\u001b[?25l  Downloading https://files.pythonhosted.org/packages/4a/49/86f7b406e1669033f60b0e6aa6b84b825b1d4b42d4e8f4ec46b5afdfd771/youtube_dl-2019.3.9-py2.py3-none-any.whl (1.8MB)\n",
            "\u001b[K    100% |████████████████████████████████| 1.8MB 11.7MB/s \n",
            "\u001b[?25hInstalling collected packages: youtube-dl\n",
            "Successfully installed youtube-dl-2019.3.9\n"
          ],
          "name": "stdout"
        }
      ]
    },
    {
      "metadata": {
        "id": "KBAk93-D8SK8",
        "colab_type": "code",
        "colab": {
          "base_uri": "https://localhost:8080/",
          "height": 136
        },
        "outputId": "4bac448b-7183-42b9-c184-03b8f3b87ed9"
      },
      "cell_type": "code",
      "source": [
        "from __future__ import unicode_literals\n",
        "import youtube_dl\n",
        "\n",
        "\n",
        "ydl_opts = {\n",
        "    'format': 'bestaudio/best',\n",
        "    'postprocessors': [{\n",
        "        'key': 'FFmpegExtractAudio',\n",
        "        'preferredcodec': 'mp3',\n",
        "        'preferredquality': '192',\n",
        "    }],\n",
        "}\n",
        "with youtube_dl.YoutubeDL(ydl_opts) as ydl:\n",
        "    ydl.download(['http://www.youtube.com/watch?v=BaW_jenozKc'])"
      ],
      "execution_count": 2,
      "outputs": [
        {
          "output_type": "stream",
          "text": [
            "[youtube] BaW_jenozKc: Downloading webpage\n",
            "[youtube] BaW_jenozKc: Downloading video info webpage\n",
            "[download] Destination: youtube-dl test video ''_ä↭𝕐-BaW_jenozKc.m4a\n",
            "[download] 100% of 154.06KiB in 00:00\n",
            "[ffmpeg] Correcting container in \"youtube-dl test video ''_ä↭𝕐-BaW_jenozKc.m4a\"\n",
            "[ffmpeg] Destination: youtube-dl test video ''_ä↭𝕐-BaW_jenozKc.mp3\n",
            "Deleting original file youtube-dl test video ''_ä↭𝕐-BaW_jenozKc.m4a (pass -k to keep)\n"
          ],
          "name": "stdout"
        }
      ]
    },
    {
      "metadata": {
        "id": "7bA_B3Vq86sT",
        "colab_type": "code",
        "colab": {}
      },
      "cell_type": "code",
      "source": [
        ""
      ],
      "execution_count": 0,
      "outputs": []
    }
  ]
}