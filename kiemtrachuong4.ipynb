{
  "nbformat": 4,
  "nbformat_minor": 0,
  "metadata": {
    "colab": {
      "name": "kiemtrachuong4.ipynb",
      "version": "0.3.2",
      "provenance": [],
      "collapsed_sections": [],
      "include_colab_link": true
    },
    "language_info": {
      "codemirror_mode": {
        "name": "ipython",
        "version": 3
      },
      "file_extension": ".py",
      "mimetype": "text/x-python",
      "name": "python",
      "nbconvert_exporter": "python",
      "pygments_lexer": "ipython3",
      "version": "3.6.2"
    },
    "kernelspec": {
      "display_name": "Python 3",
      "language": "python",
      "name": "python3"
    }
  },
  "cells": [
    {
      "cell_type": "markdown",
      "metadata": {
        "id": "view-in-github",
        "colab_type": "text"
      },
      "source": [
        "<a href=\"https://colab.research.google.com/github/soiqualang/colab/blob/master/kiemtrachuong4.ipynb\" target=\"_parent\"><img src=\"https://colab.research.google.com/assets/colab-badge.svg\" alt=\"Open In Colab\"/></a>"
      ]
    },
    {
      "cell_type": "code",
      "metadata": {
        "id": "PzvkVvDKCGhE",
        "colab_type": "code",
        "outputId": "3c253bd9-c0d9-494e-a2b6-a5551260a675",
        "colab": {
          "base_uri": "https://localhost:8080/",
          "height": 102
        }
      },
      "source": [
        "for i in range(2,7):\n",
        "\tprint(i)\n",
        "\tif (i%3 == 1):\n",
        "\t\tcontinue"
      ],
      "execution_count": 0,
      "outputs": [
        {
          "output_type": "stream",
          "text": [
            "2\n",
            "3\n",
            "4\n",
            "5\n",
            "6\n"
          ],
          "name": "stdout"
        }
      ]
    },
    {
      "cell_type": "code",
      "metadata": {
        "id": "Om7evyMgCSwO",
        "colab_type": "code",
        "outputId": "1b385d93-d602-4e97-89f5-5613ebe93003",
        "colab": {
          "base_uri": "https://localhost:8080/",
          "height": 51
        }
      },
      "source": [
        "print(\"Hello\\nWorld!\")"
      ],
      "execution_count": 0,
      "outputs": [
        {
          "output_type": "stream",
          "text": [
            "Hello\n",
            "World!\n"
          ],
          "name": "stdout"
        }
      ]
    },
    {
      "cell_type": "code",
      "metadata": {
        "id": "q8-p861rCEyo",
        "colab_type": "code",
        "outputId": "f1179d95-6895-4e88-9782-d7bce3803194",
        "colab": {}
      },
      "source": [
        "if False:\n",
        "    if False:\n",
        "        print(\"Banana\")\n",
        "    else:\n",
        "        print(\"Apple\")\n",
        "else:\n",
        "    if False:\n",
        "        print(\"Dates\")\n",
        "    else:\n",
        "        print(\"Corn\")"
      ],
      "execution_count": 0,
      "outputs": [
        {
          "output_type": "stream",
          "text": [
            "Corn\n"
          ],
          "name": "stdout"
        }
      ]
    },
    {
      "cell_type": "code",
      "metadata": {
        "id": "0mSXQ1nXCEy-",
        "colab_type": "code",
        "outputId": "d74bfdbb-1a48-4c63-f372-fd1d41f87919",
        "colab": {}
      },
      "source": [
        "x = 0 \n",
        "while True:\n",
        "    if x <= 10:\n",
        "        print('đang chạy')\n",
        "        x += 1\n",
        "    else:\n",
        "        break"
      ],
      "execution_count": 0,
      "outputs": [
        {
          "output_type": "stream",
          "text": [
            "đang chạy\n",
            "đang chạy\n",
            "đang chạy\n",
            "đang chạy\n",
            "đang chạy\n",
            "đang chạy\n",
            "đang chạy\n",
            "đang chạy\n",
            "đang chạy\n",
            "đang chạy\n",
            "đang chạy\n"
          ],
          "name": "stdout"
        }
      ]
    },
    {
      "cell_type": "code",
      "metadata": {
        "id": "KWOgMvlXCEzG",
        "colab_type": "code",
        "outputId": "c6ab4d84-2030-426a-febd-1231a7a33f39",
        "colab": {}
      },
      "source": [
        "#Bai 1:\n",
        "s = input()\n",
        "count=0\n",
        "for i in s:\n",
        "    if i.isdigit()==True:\n",
        "        count+=1\n",
        "print(count)"
      ],
      "execution_count": 0,
      "outputs": [
        {
          "output_type": "stream",
          "text": [
            "Hello World\n",
            "0\n"
          ],
          "name": "stdout"
        }
      ]
    },
    {
      "cell_type": "code",
      "metadata": {
        "id": "8-PXXiPoCEzM",
        "colab_type": "code",
        "outputId": "1d1d8a14-da30-459e-e0bb-70a73ae0897d",
        "colab": {}
      },
      "source": [
        "#Bai 2:\n",
        "a = int(input())\n",
        "b = int(input())\n",
        "tong=0\n",
        "for i in range(a,b+1):\n",
        "    tong=tong+i\n",
        "    \n",
        "print(tong)"
      ],
      "execution_count": 0,
      "outputs": [
        {
          "output_type": "stream",
          "text": [
            "0\n",
            "12\n",
            "78\n"
          ],
          "name": "stdout"
        }
      ]
    },
    {
      "cell_type": "code",
      "metadata": {
        "id": "fnYeKv5oCEzS",
        "colab_type": "code",
        "outputId": "1d58f623-19dc-4812-93bb-f46caed95adc",
        "colab": {}
      },
      "source": [
        "#Bai 3:\n",
        "s=input()\n",
        "e=\"\"\n",
        "for i in s:\n",
        "    if i==\"z\":\n",
        "        them=\"a\"\n",
        "        e=e+them\n",
        "    else:\n",
        "        them=chr(ord(i)+1)\n",
        "        e=e+them\n",
        "    #print(ord(i))\n",
        "    #print(them)\n",
        "    \n",
        "print(e)"
      ],
      "execution_count": 0,
      "outputs": [
        {
          "output_type": "stream",
          "text": [
            "zeRo\n",
            "122\n",
            "a\n",
            "101\n",
            "f\n",
            "82\n",
            "S\n",
            "111\n",
            "p\n",
            "afSp\n"
          ],
          "name": "stdout"
        }
      ]
    },
    {
      "cell_type": "markdown",
      "metadata": {
        "id": "p5iDGdaDCEzY",
        "colab_type": "text"
      },
      "source": [
        "#Bài 4:\n",
        "Hai danh hài Hoài Linh Tinh và Chí Tài Tình bắt tay nhau mở một khu du lịch miệt vườn ở miền quê Đồng Tháp. Khu du lịch có một dịch vụ tham quan bằng thuyền, do nhân viên ở khu du lịch chèo thuyền chở hành khách đi tham quan cảnh đẹp. Mỗi chuyến thuyền bắt đầu từ bến A và kết thúc ở bến B, thời gian mỗi chuyến thuyền là 20 phút.\n",
        "\n",
        "Thời gian xuất bến của các chuyến thuyền đều được nhân viên ghi nhận lại. Hãy viết chương trình giúp hai danh hài kiểm tra xem trong 1 ngày, số chiếc thuyền di chuyển trên sông tại 1 thời điểm nhiều nhất là bao nhiêu (tại thời điểm có nhiều thuyền nhất trên sông, đếm số chiếc thuyền tại thời điểm đó) và xuất kết quả đó ra màn hình. Nhân viên khu du lịch sẽ cung cấp cho bạn một danh sách thời điểm xuất phát của các chuyến thuyền trong ngày. Danh sách đó được sắp xếp tăng dần theo thời điểm xuất phát của các thuyền.\n",
        "\n",
        "Thời gian một chiếc thuyến được tính là đang được sử dụng bắt đầu từ thời điểm nó xuất phát đến thời điểm nó cập bến. Ví dụ: thuyền xuất phát từ A lúc 11:00, vậy thời điểm thuyền đang được sử dụng là từ 11:00 đến 11:20.\n",
        "\n",
        "Chương trình dưới đây đã nhập giúp bạn dữ liệu vào 2 mảng.\n",
        "\n",
        "Mảng hour chứa danh sách lưu lại giờ xuất phát của các chuyến thuyền.\n",
        "\n",
        "Mảng minute chứa danh sách lưu lại phút xuất phát của các chuyến thuyền.\n",
        "\n",
        "Và biến n lưu số chuyến thuyền được ghi nhận.\n",
        "\n",
        "Ví dụ:\n",
        "+ n = 3\n",
        "+ hour = [13, 13, 14]\n",
        "+ minute = [0, 15, 45]\n",
        "+ Nghĩa là ngày hôm đó, nhân viên ghi nhận được tất cả 3 chuyến thuyền.\n",
        "Trong đó 1 chuyến đã xuất phát vào lúc 13:00\n",
        "sau đó một chiếc thuyền xuất phát vào lúc 13:15\n",
        "và chuyến thứ 3 xuất phát lúc 14:45. \n",
        "Suy ra trong khoảng thời gian từ 13:15 đến 13:20, có 2 chiếc thuyền đang đi đồng thời trên sông (thuyền 1 và thuyền 2). \n",
        "Vậy kết quả cần xuất ra là: 2 \n",
        "        \n",
        "Biết:\n",
        "+ 0 < n\n",
        "+ 0 <= hour[i] <= 24\n",
        "+ 0 <= minute[i] <= 59"
      ]
    },
    {
      "cell_type": "code",
      "metadata": {
        "id": "NYzqFFEQCEzZ",
        "colab_type": "code",
        "outputId": "4188ecca-adac-4711-83a4-2dabf0f93ad1",
        "colab": {
          "base_uri": "https://localhost:8080/",
          "height": 134
        }
      },
      "source": [
        "n = int(input())\n",
        "hour = []\n",
        "minute = []\n",
        "for i in range(0,n):\n",
        "    hour.append(int(input()))\n",
        "    minute.append(int(input()))\n",
        "    \n"
      ],
      "execution_count": 0,
      "outputs": [
        {
          "output_type": "stream",
          "text": [
            "3\n",
            "13\n",
            "13\n",
            "14\n",
            "0\n",
            "15\n",
            "45\n"
          ],
          "name": "stdout"
        }
      ]
    },
    {
      "cell_type": "code",
      "metadata": {
        "id": "4TQlpcmUWN48",
        "colab_type": "code",
        "colab": {}
      },
      "source": [
        "'''\n",
        "Ý tưởng là cứ lấy phần tử phút đầu cộng 20, nếu trên 60 thì lấy phần dư, giờ cộng thêm 1.\n",
        "So giờ, phút tính được với giờ phút phần tử i+1 xem có nhỏ hơn ko, nhỏ hơn thì có 1 chuyến đi cùng với chuyến đầu\n",
        "Cứ vậy hết mảng =))\n",
        "(Ý tưởng 1 đằng nhưng có làm ra ko là một chuyện :v)\n",
        "'''"
      ],
      "execution_count": 0,
      "outputs": []
    },
    {
      "cell_type": "code",
      "metadata": {
        "id": "1dmOfH0VWNGW",
        "colab_type": "code",
        "colab": {}
      },
      "source": [
        "n = 3\n",
        "hour = [13, 13, 14]\n",
        "minute = [0, 15, 45]"
      ],
      "execution_count": 0,
      "outputs": []
    },
    {
      "cell_type": "code",
      "metadata": {
        "id": "j1UJ6CdGboic",
        "colab_type": "code",
        "colab": {
          "base_uri": "https://localhost:8080/",
          "height": 269
        },
        "outputId": "eb74532e-68af-48fb-f924-3cd00d918b8a"
      },
      "source": [
        "'''\n",
        "Chot nhan ra la dua het ve so thap phan(gio) se de tinh may cai giao giua gio nay voi gio kia hon\n",
        "'''\n",
        "so_thuyen=0;\n",
        "so_thuyen_tmp=0\n",
        "tg_dichuyen=20/60\n",
        "tg_xuatphat=[]\n",
        "\n",
        "print(tg_dichuyen)\n",
        "\n",
        "for i in range(0,n):\n",
        "    tg=minute[i]/60+hour[i]\n",
        "    tg_xuatphat.append(tg)\n",
        "    print(tg)\n",
        "    \n",
        "def get_thuyen(a,b,tg):\n",
        "    if (a+tg)>b:\n",
        "        return 1\n",
        "    else:\n",
        "        return 0\n",
        "\n",
        "print('------------')\n",
        "for i in tg_xuatphat:\n",
        "    for j in tg_xuatphat:\n",
        "        so_thuyen_tmp+=get_thuyen(i,j,tg_dichuyen)\n",
        "        print(i,j,so_thuyen_tmp)\n",
        "    if so_thuyen_tmp>so_thuyen:\n",
        "        so_thuyen=so_thuyen_tmp\n",
        "    so_thuyen_tmp=0\n",
        "print(so_thuyen)"
      ],
      "execution_count": 18,
      "outputs": [
        {
          "output_type": "stream",
          "text": [
            "0.3333333333333333\n",
            "13.0\n",
            "13.25\n",
            "14.75\n",
            "------------\n",
            "13.0 13.0 1\n",
            "13.0 13.25 2\n",
            "13.0 14.75 2\n",
            "13.25 13.0 1\n",
            "13.25 13.25 2\n",
            "13.25 14.75 2\n",
            "14.75 13.0 1\n",
            "14.75 13.25 2\n",
            "14.75 14.75 3\n",
            "3\n"
          ],
          "name": "stdout"
        }
      ]
    },
    {
      "cell_type": "code",
      "metadata": {
        "id": "uduJmjuSzExP",
        "colab_type": "code",
        "colab": {
          "base_uri": "https://localhost:8080/",
          "height": 302
        },
        "outputId": "5017272d-ff50-49c7-d7cf-58a7ae8fe3db"
      },
      "source": [
        "'''\n",
        "Phát hiện ra rằng nếu chỉ xét thời gian xuất phát đầu+20s lớn hơn thời gian xuất phát sau thì ko ổn, Khi xét \n",
        "đến vị trí xuất phát thì 2 hay cuối cùng thì mặc định nó sẽ lớn hơn rồi. Do vậy viết lại thế này,\n",
        "Tùy thứ tự xuất phát mà kiểm tra là cộng 20s cho mốc thời gian trước hay sau\n",
        "'''\n",
        "n = 5\n",
        "hour = [13, 13, 13, 14, 14]\n",
        "minute = [0, 15, 20, 0, 45]\n",
        "\n",
        "so_thuyen=0;\n",
        "so_thuyen_tmp=0\n",
        "tg_dichuyen=20/60\n",
        "tg_xuatphat=[]\n",
        "ds_thuyen=''\n",
        "ds_thuyen_tmp=''\n",
        "\n",
        "print(tg_dichuyen)\n",
        "\n",
        "for i in range(0,n):\n",
        "    tg=minute[i]/60+hour[i]\n",
        "    tg_xuatphat.append(tg)\n",
        "    print(tg)\n",
        "    \n",
        "def get_thuyen_be(a,b,tg):\n",
        "    if (a+tg)>b:\n",
        "        return 1\n",
        "    else:\n",
        "        return 0\n",
        "def get_thuyen_lon(a,b,tg):\n",
        "    if a<(b+tg):\n",
        "        return 1\n",
        "    else:\n",
        "        return 0\n",
        "def time_convert(t):\n",
        "    arr1=str(t)\n",
        "    arr1=arr1.split('.')\n",
        "    nguyen=arr1[0]\n",
        "    tphan=int(float('0.'+arr1[1])*60)\n",
        "    tg=nguyen+':'+str(tphan)\n",
        "    return tg\n",
        "\n",
        "print('------------')\n",
        "for i in range(0,len(tg_xuatphat)):\n",
        "    for j in range(0,len(tg_xuatphat)):\n",
        "        a=tg_xuatphat[i]\n",
        "        b=tg_xuatphat[j]\n",
        "        if i<=j:\n",
        "            #print(get_thuyen_be(a,b,tg_dichuyen))\n",
        "            so_thuyen_tmp+=get_thuyen_be(a,b,tg_dichuyen)\n",
        "            ds_thuyen_tmp+=time_convert(b)+','\n",
        "            print(i,a,'-',j,b,'-',so_thuyen_tmp)\n",
        "        else:\n",
        "            so_thuyen_tmp+=get_thuyen_lon(a,b,tg_dichuyen)\n",
        "            ds_thuyen_tmp+=time_convert(b)+','\n",
        "            print(i,a,'-',j,b,'-',so_thuyen_tmp)\n",
        "    if so_thuyen_tmp>so_thuyen:\n",
        "        so_thuyen=so_thuyen_tmp\n",
        "        ds_thuyen=ds_thuyen_tmp\n",
        "    so_thuyen_tmp=0\n",
        "    ds_thuyen_tmp=''\n",
        "print('------------')\n",
        "print('So thuyen nhieu nhat cung luc:',so_thuyen,'\\nDanh sach:',ds_thuyen)"
      ],
      "execution_count": 66,
      "outputs": [
        {
          "output_type": "stream",
          "text": [
            "0.3333333333333333\n",
            "13.0\n",
            "13.25\n",
            "13.333333333333334\n",
            "------------\n",
            "0 13.0 - 0 13.0 - 1\n",
            "0 13.0 - 1 13.25 - 2\n",
            "0 13.0 - 2 13.333333333333334 - 2\n",
            "1 13.25 - 0 13.0 - 1\n",
            "1 13.25 - 1 13.25 - 2\n",
            "1 13.25 - 2 13.333333333333334 - 3\n",
            "2 13.333333333333334 - 0 13.0 - 0\n",
            "2 13.333333333333334 - 1 13.25 - 1\n",
            "2 13.333333333333334 - 2 13.333333333333334 - 2\n",
            "------------\n",
            "So thuyen nhieu nhat cung luc: 3 \n",
            "Danh sach: 13:0,13:15,13:20,\n"
          ],
          "name": "stdout"
        }
      ]
    },
    {
      "cell_type": "code",
      "metadata": {
        "id": "qfsE5fy99fUc",
        "colab_type": "code",
        "colab": {
          "base_uri": "https://localhost:8080/",
          "height": 50
        },
        "outputId": "e902925f-693c-4554-c42c-437e70b39f2f"
      },
      "source": [
        "#test thu chuyen float sang thoi gian\n",
        "t=13.333333333333334\n",
        "arr1=str(t)\n",
        "arr1=arr1.split('.')\n",
        "nguyen=arr1[0]\n",
        "tphan=int(float('0.'+arr1[1])*60)\n",
        "print(tphan)\n",
        "tg=nguyen+':'+str(tphan)\n",
        "print(tg)"
      ],
      "execution_count": 57,
      "outputs": [
        {
          "output_type": "stream",
          "text": [
            "20\n",
            "13:20\n"
          ],
          "name": "stdout"
        }
      ]
    },
    {
      "cell_type": "code",
      "metadata": {
        "id": "oP14TLYyF2CO",
        "colab_type": "code",
        "colab": {
          "base_uri": "https://localhost:8080/",
          "height": 403
        },
        "outputId": "e4069d48-b1c7-4e1e-a5aa-7d9494682167"
      },
      "source": [
        "'''\n",
        "Anh đổi mảng thời gian cho trước thành mảng do người dùng nhập\n",
        "=> Finish\n",
        "'''\n",
        "#n = 5\n",
        "#hour = [13, 13, 13, 14, 14]\n",
        "#minute = [0, 15, 20, 0, 45]\n",
        "\n",
        "#Số lượng thuyền xuất phát\n",
        "n=int(input())\n",
        "\n",
        "hour=[]\n",
        "minute=[]\n",
        "k=0\n",
        "    \n",
        "while k<n:\n",
        "    print(k)\n",
        "    hour.append(int(input()))\n",
        "    minute.append(int(input()))\n",
        "    k+=1\n",
        "\n",
        "so_thuyen=0;\n",
        "so_thuyen_tmp=0\n",
        "tg_dichuyen=20/60\n",
        "tg_xuatphat=[]\n",
        "ds_thuyen=''\n",
        "ds_thuyen_tmp=''\n",
        "\n",
        "#print(tg_dichuyen)\n",
        "\n",
        "for i in range(0,n):\n",
        "    tg=minute[i]/60+hour[i]\n",
        "    tg_xuatphat.append(tg)\n",
        "    #print(tg)\n",
        "\n",
        "#Dành cho vị trí i<=j\n",
        "def get_thuyen_be(a,b,tg):\n",
        "    if (a+tg)>b:\n",
        "        return 1\n",
        "    else:\n",
        "        return 0\n",
        "#Dành cho vị trí i>j\n",
        "def get_thuyen_lon(a,b,tg):\n",
        "    if a<(b+tg):\n",
        "        return 1\n",
        "    else:\n",
        "        return 0\n",
        "#Chuyển thời gian thập phân sang hh:mm\n",
        "def time_convert(t):\n",
        "    arr1=str(t)\n",
        "    arr1=arr1.split('.')\n",
        "    nguyen=arr1[0]\n",
        "    tphan=int(float('0.'+arr1[1])*60)\n",
        "    tg=nguyen+':'+str(tphan)\n",
        "    return tg\n",
        "\n",
        "print('------------')\n",
        "for i in range(0,len(tg_xuatphat)):\n",
        "    for j in range(0,len(tg_xuatphat)):\n",
        "        a=tg_xuatphat[i]\n",
        "        b=tg_xuatphat[j]\n",
        "        if i<=j:\n",
        "            #print(get_thuyen_be(a,b,tg_dichuyen))\n",
        "            so_thuyen_tmp+=get_thuyen_be(a,b,tg_dichuyen)\n",
        "            if get_thuyen_be(a,b,tg_dichuyen)==1:\n",
        "                ds_thuyen_tmp+=time_convert(b)+', '\n",
        "            print(i,a,'-',j,b,'-',so_thuyen_tmp)\n",
        "        else:\n",
        "            so_thuyen_tmp+=get_thuyen_lon(a,b,tg_dichuyen)\n",
        "            if get_thuyen_lon(a,b,tg_dichuyen)==1:\n",
        "                ds_thuyen_tmp+=time_convert(b)+','\n",
        "            print(i,a,'-',j,b,'-',so_thuyen_tmp)\n",
        "    if so_thuyen_tmp>so_thuyen:\n",
        "        so_thuyen=so_thuyen_tmp\n",
        "        ds_thuyen=ds_thuyen_tmp\n",
        "    so_thuyen_tmp=0\n",
        "    ds_thuyen_tmp=''\n",
        "print('------------')\n",
        "print('So thuyen nhieu nhat cung luc:',so_thuyen,'\\nDanh sach:',ds_thuyen)"
      ],
      "execution_count": 85,
      "outputs": [
        {
          "output_type": "stream",
          "text": [
            "3\n",
            "0\n",
            "13\n",
            "0\n",
            "1\n",
            "13\n",
            "50\n",
            "2\n",
            "14\n",
            "5\n",
            "------------\n",
            "0 13.0 - 0 13.0 - 1\n",
            "0 13.0 - 1 13.833333333333334 - 1\n",
            "0 13.0 - 2 14.083333333333334 - 1\n",
            "1 13.833333333333334 - 0 13.0 - 0\n",
            "1 13.833333333333334 - 1 13.833333333333334 - 1\n",
            "1 13.833333333333334 - 2 14.083333333333334 - 2\n",
            "2 14.083333333333334 - 0 13.0 - 0\n",
            "2 14.083333333333334 - 1 13.833333333333334 - 1\n",
            "2 14.083333333333334 - 2 14.083333333333334 - 2\n",
            "------------\n",
            "So thuyen nhieu nhat cung luc: 2 \n",
            "Danh sach: 13:50, 14:5, \n"
          ],
          "name": "stdout"
        }
      ]
    },
    {
      "cell_type": "code",
      "metadata": {
        "id": "vkPwiUSDL99i",
        "colab_type": "code",
        "colab": {}
      },
      "source": [
        ""
      ],
      "execution_count": 0,
      "outputs": []
    }
  ]
}