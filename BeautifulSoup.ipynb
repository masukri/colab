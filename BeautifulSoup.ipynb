{
  "nbformat": 4,
  "nbformat_minor": 0,
  "metadata": {
    "colab": {
      "name": "BeautifulSoup.ipynb",
      "version": "0.3.2",
      "provenance": [],
      "collapsed_sections": [],
      "include_colab_link": true
    },
    "kernelspec": {
      "name": "python3",
      "display_name": "Python 3"
    }
  },
  "cells": [
    {
      "cell_type": "markdown",
      "metadata": {
        "id": "view-in-github",
        "colab_type": "text"
      },
      "source": [
        "<a href=\"https://colab.research.google.com/github/soiqualang/colab/blob/master/BeautifulSoup.ipynb\" target=\"_parent\"><img src=\"https://colab.research.google.com/assets/colab-badge.svg\" alt=\"Open In Colab\"/></a>"
      ]
    },
    {
      "cell_type": "code",
      "metadata": {
        "id": "mKCM_1ZRyHPt",
        "colab_type": "code",
        "colab": {}
      },
      "source": [
        "#https://viblo.asia/p/web-crawling-voi-thu-vien-beautifulsoup-1VgZvNGOZAw\n",
        "\n",
        "from bs4 import BeautifulSoup\n",
        "import urllib.request"
      ],
      "execution_count": 0,
      "outputs": []
    },
    {
      "cell_type": "code",
      "metadata": {
        "id": "GQv1jfUXyYm0",
        "colab_type": "code",
        "colab": {}
      },
      "source": [
        "url =  'https://vnexpress.net'\n",
        "page = urllib.request.urlopen(url)\n",
        "soup = BeautifulSoup(page, 'html.parser')"
      ],
      "execution_count": 0,
      "outputs": []
    },
    {
      "cell_type": "code",
      "metadata": {
        "id": "S4viQv6kyb7z",
        "colab_type": "code",
        "colab": {
          "base_uri": "https://localhost:8080/",
          "height": 88
        },
        "outputId": "b6d8e41f-b48f-44ac-ee35-81629252560e"
      },
      "source": [
        "new_feed = soup.find('section', class_='featured container clearfix').find('a')\n",
        "print(new_feed)"
      ],
      "execution_count": 3,
      "outputs": [
        {
          "output_type": "stream",
          "text": [
            "<a class=\"thumb thumb_5x3\" href=\"https://vnexpress.net/thoi-su/do-doc-nguyen-van-hien-bi-de-nghi-ky-luat-3933076.html?vn_source=top1&amp;vn_medium=buildtop&amp;vn_campaign=nonpersonalize\" title=\"Đô đốc Nguyễn Văn Hiến bị đề nghị kỷ luật\">\n",
            "<img alt=\"Đô đốc Nguyễn Văn Hiến bị đề nghị kỷ luật\" class=\"vne_lazy_image\" data-original=\"https://vcdn-vnexpress.vnecdn.net/2019/06/03/dodoc1-1559555054-2429-1559555058_500x300.jpg\" src=\"https://vcdn-vnexpress.vnecdn.net/2019/06/03/dodoc1-1559555054-2429-1559555058_500x300.jpg\"/>\n",
            "</a>\n"
          ],
          "name": "stdout"
        }
      ]
    },
    {
      "cell_type": "code",
      "metadata": {
        "id": "Ck9F-DLGy63y",
        "colab_type": "code",
        "colab": {
          "base_uri": "https://localhost:8080/",
          "height": 71
        },
        "outputId": "bb4b6635-2ab5-467e-fdf6-76061b1cd336"
      },
      "source": [
        "title=new_feed.get('title')\n",
        "link=new_feed.get('href')\n",
        "\n",
        "print('Tile:{} \\nLink: {}'.format(title,link))"
      ],
      "execution_count": 6,
      "outputs": [
        {
          "output_type": "stream",
          "text": [
            "Tile:Đô đốc Nguyễn Văn Hiến bị đề nghị kỷ luật \n",
            "Link: https://vnexpress.net/thoi-su/do-doc-nguyen-van-hien-bi-de-nghi-ky-luat-3933076.html?vn_source=top1&vn_medium=buildtop&vn_campaign=nonpersonalize\n"
          ],
          "name": "stdout"
        }
      ]
    },
    {
      "cell_type": "code",
      "metadata": {
        "id": "E5g0DQ0dzg8K",
        "colab_type": "code",
        "colab": {}
      },
      "source": [
        ""
      ],
      "execution_count": 0,
      "outputs": []
    }
  ]
}