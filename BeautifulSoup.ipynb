{
  "nbformat": 4,
  "nbformat_minor": 0,
  "metadata": {
    "colab": {
      "name": "BeautifulSoup.ipynb",
      "version": "0.3.2",
      "provenance": [],
      "collapsed_sections": [],
      "include_colab_link": true
    },
    "kernelspec": {
      "name": "python3",
      "display_name": "Python 3"
    }
  },
  "cells": [
    {
      "cell_type": "markdown",
      "metadata": {
        "id": "view-in-github",
        "colab_type": "text"
      },
      "source": [
        "<a href=\"https://colab.research.google.com/github/soiqualang/colab/blob/master/BeautifulSoup.ipynb\" target=\"_parent\"><img src=\"https://colab.research.google.com/assets/colab-badge.svg\" alt=\"Open In Colab\"/></a>"
      ]
    },
    {
      "cell_type": "code",
      "metadata": {
        "id": "mKCM_1ZRyHPt",
        "colab_type": "code",
        "colab": {}
      },
      "source": [
        "#https://viblo.asia/p/web-crawling-voi-thu-vien-beautifulsoup-1VgZvNGOZAw\n",
        "\n",
        "from bs4 import BeautifulSoup\n",
        "import urllib.request"
      ],
      "execution_count": 0,
      "outputs": []
    },
    {
      "cell_type": "code",
      "metadata": {
        "id": "GQv1jfUXyYm0",
        "colab_type": "code",
        "colab": {}
      },
      "source": [
        "url =  'https://vnexpress.net'\n",
        "page = urllib.request.urlopen(url)\n",
        "soup = BeautifulSoup(page, 'html.parser')"
      ],
      "execution_count": 0,
      "outputs": []
    },
    {
      "cell_type": "markdown",
      "metadata": {
        "id": "LAjIpFuy0ECD",
        "colab_type": "text"
      },
      "source": [
        "# Get only one"
      ]
    },
    {
      "cell_type": "code",
      "metadata": {
        "id": "S4viQv6kyb7z",
        "colab_type": "code",
        "colab": {
          "base_uri": "https://localhost:8080/",
          "height": 88
        },
        "outputId": "b6d8e41f-b48f-44ac-ee35-81629252560e"
      },
      "source": [
        "new_feed = soup.find('section', class_='featured container clearfix').find('a')\n",
        "print(new_feed)"
      ],
      "execution_count": 3,
      "outputs": [
        {
          "output_type": "stream",
          "text": [
            "<a class=\"thumb thumb_5x3\" href=\"https://vnexpress.net/thoi-su/do-doc-nguyen-van-hien-bi-de-nghi-ky-luat-3933076.html?vn_source=top1&amp;vn_medium=buildtop&amp;vn_campaign=nonpersonalize\" title=\"Đô đốc Nguyễn Văn Hiến bị đề nghị kỷ luật\">\n",
            "<img alt=\"Đô đốc Nguyễn Văn Hiến bị đề nghị kỷ luật\" class=\"vne_lazy_image\" data-original=\"https://vcdn-vnexpress.vnecdn.net/2019/06/03/dodoc1-1559555054-2429-1559555058_500x300.jpg\" src=\"https://vcdn-vnexpress.vnecdn.net/2019/06/03/dodoc1-1559555054-2429-1559555058_500x300.jpg\"/>\n",
            "</a>\n"
          ],
          "name": "stdout"
        }
      ]
    },
    {
      "cell_type": "code",
      "metadata": {
        "id": "Ck9F-DLGy63y",
        "colab_type": "code",
        "colab": {
          "base_uri": "https://localhost:8080/",
          "height": 71
        },
        "outputId": "bb4b6635-2ab5-467e-fdf6-76061b1cd336"
      },
      "source": [
        "title=new_feed.get('title')\n",
        "link=new_feed.get('href')\n",
        "\n",
        "print('Tile:{} \\nLink: {}'.format(title,link))"
      ],
      "execution_count": 6,
      "outputs": [
        {
          "output_type": "stream",
          "text": [
            "Tile:Đô đốc Nguyễn Văn Hiến bị đề nghị kỷ luật \n",
            "Link: https://vnexpress.net/thoi-su/do-doc-nguyen-van-hien-bi-de-nghi-ky-luat-3933076.html?vn_source=top1&vn_medium=buildtop&vn_campaign=nonpersonalize\n"
          ],
          "name": "stdout"
        }
      ]
    },
    {
      "cell_type": "markdown",
      "metadata": {
        "id": "gmhVSHPZ0G_D",
        "colab_type": "text"
      },
      "source": [
        "# Get all\n",
        "\n",
        "Use find_all() instead find()"
      ]
    },
    {
      "cell_type": "code",
      "metadata": {
        "id": "E5g0DQ0dzg8K",
        "colab_type": "code",
        "colab": {
          "base_uri": "https://localhost:8080/",
          "height": 649
        },
        "outputId": "91c014bf-6d4e-43d5-a356-1469cc08fc19"
      },
      "source": [
        "new_feed = soup.find('section', class_='featured container clearfix').find_all('a')\n",
        "print(new_feed)"
      ],
      "execution_count": 7,
      "outputs": [
        {
          "output_type": "stream",
          "text": [
            "[<a class=\"thumb thumb_5x3\" href=\"https://vnexpress.net/thoi-su/do-doc-nguyen-van-hien-bi-de-nghi-ky-luat-3933076.html?vn_source=top1&amp;vn_medium=buildtop&amp;vn_campaign=nonpersonalize\" title=\"Đô đốc Nguyễn Văn Hiến bị đề nghị kỷ luật\">\n",
            "<img alt=\"Đô đốc Nguyễn Văn Hiến bị đề nghị kỷ luật\" class=\"vne_lazy_image\" data-original=\"https://vcdn-vnexpress.vnecdn.net/2019/06/03/dodoc1-1559555054-2429-1559555058_500x300.jpg\" src=\"https://vcdn-vnexpress.vnecdn.net/2019/06/03/dodoc1-1559555054-2429-1559555058_500x300.jpg\"/>\n",
            "</a>, <a href=\"https://vnexpress.net/thoi-su/do-doc-nguyen-van-hien-bi-de-nghi-ky-luat-3933076.html?vn_source=top1&amp;vn_medium=buildtop&amp;vn_campaign=nonpersonalize\" title=\"Đô đốc Nguyễn Văn Hiến bị đề nghị kỷ luật\">\n",
            "Đô đốc Nguyễn Văn Hiến bị đề nghị kỷ luật </a>, <a class=\"icon_commend\" href=\"https://vnexpress.net/thoi-su/do-doc-nguyen-van-hien-bi-de-nghi-ky-luat-3933076.html#box_comment\" style=\"white-space: nowrap; display: none;\">\n",
            "<span class=\"txt_num_comment font_icon\" data-objectid=\"3933076\" data-objecttype=\"1\" data-type=\"comment\"></span>\n",
            "</a>, <a href=\"https://vnexpress.net/thoi-su/nguyen-pho-thu-tuong-vu-van-ninh-bi-de-nghi-ky-luat-3918832.html\" title=\"Nguyên Phó thủ tướng Vũ Văn Ninh bị đề nghị kỷ luật\">Nguyên Phó thủ tướng Vũ Văn Ninh bị đề nghị kỷ luật</a>, <a href=\"https://vm.vnexpress.net\" target=\"_blank\" title=\"VnExpress Marathon\"><img alt=\"VnExpress Marathon\" src=\"https://scdn.vnecdn.net/vnexpress/restruct/i/v75/banner/04_pc_home_banner.jpg\" title=\"VnExpress Marathon\"/></a>, <a href=\"https://vnexpress.net/so-hoa/sinh-vien-kinh-te-tim-laptop-tot-tam-8-12-trieu-dong-3933081.html?vn_source=topnews1&amp;vn_medium=buildtop&amp;vn_campaign=nonpersonalize\" title=\"Sinh viên kinh tế tìm laptop tốt tầm 8-12 triệu đồng\">\n",
            "Sinh viên kinh tế tìm laptop tốt tầm 8-12 triệu đồng </a>, <a class=\"icon_commend\" href=\"https://vnexpress.net/so-hoa/sinh-vien-kinh-te-tim-laptop-tot-tam-8-12-trieu-dong-3933081.html#box_comment\" style=\"white-space: nowrap; display: none;\">\n",
            "<span class=\"txt_num_comment font_icon\" data-objectid=\"3933081\" data-objecttype=\"1\" data-type=\"comment\"></span>\n",
            "</a>, <a href=\"https://vnexpress.net/du-lich/tiec-dua-o-sai-gon-am-thuc-trung-dong-o-ha-noi-3932906.html?vn_source=topnews2&amp;vn_medium=buildtop&amp;vn_campaign=nonpersonalize\" title=\"Tiệc dứa ở Sài Gòn, ẩm thực Trung Đông ở Hà Nội\">\n",
            "Tiệc dứa ở Sài Gòn, ẩm thực Trung Đông ở Hà Nội </a>, <a class=\"icon_commend\" href=\"https://vnexpress.net/du-lich/tiec-dua-o-sai-gon-am-thuc-trung-dong-o-ha-noi-3932906.html#box_comment\" style=\"white-space: nowrap; display: none;\">\n",
            "<span class=\"txt_num_comment font_icon\" data-objectid=\"3932906\" data-objecttype=\"1\" data-type=\"comment\"></span>\n",
            "</a>, <a href=\"https://vnexpress.net/phap-luat/bon-nam-sinh-nhat-nghich-dai-vi-muon-xem-tau-phanh-khan-cap-3933054.html?vn_source=topnews3&amp;vn_medium=buildtop&amp;vn_campaign=nonpersonalize\" title=\"Bốn nam sinh Nhật 'nghịch dại' vì muốn xem tàu phanh khẩn cấp\">\n",
            "Bốn nam sinh Nhật 'nghịch dại' vì muốn xem tàu phanh khẩn cấp </a>, <a class=\"icon_commend\" href=\"https://vnexpress.net/phap-luat/bon-nam-sinh-nhat-nghich-dai-vi-muon-xem-tau-phanh-khan-cap-3933054.html#box_comment\" style=\"white-space: nowrap; display: none;\">\n",
            "<span class=\"txt_num_comment font_icon\" data-objectid=\"3933054\" data-objecttype=\"1\" data-type=\"comment\"></span>\n",
            "</a>, <a href=\"https://vnexpress.net/kinh-doanh/coteccons-hop-tac-tap-doan-tuan-chau-phat-trien-du-an-bat-dong-san-3932985.html?vn_source=topnews4&amp;vn_medium=buildtop&amp;vn_campaign=nonpersonalize\" title=\"Coteccons hợp tác Tập đoàn Tuần Châu phát triển dự án bất động sản\">\n",
            "Coteccons hợp tác Tập đoàn Tuần Châu phát triển dự án bất động sản </a>, <a class=\"icon_commend\" href=\"https://vnexpress.net/kinh-doanh/coteccons-hop-tac-tap-doan-tuan-chau-phat-trien-du-an-bat-dong-san-3932985.html#box_comment\" style=\"white-space: nowrap; display: none;\">\n",
            "<span class=\"txt_num_comment font_icon\" data-objectid=\"3932985\" data-objecttype=\"1\" data-type=\"comment\"></span>\n",
            "</a>, <a href=\"https://vnexpress.net/khoa-hoc/bon-rua-an-xuat-hien-sau-mot-nut-bam-3933014.html?vn_source=topnews5&amp;vn_medium=buildtop&amp;vn_campaign=nonpersonalize\" title=\"Bồn rửa ẩn xuất hiện sau một nút bấm\">\n",
            "Bồn rửa ẩn xuất hiện sau một nút bấm </a>, <a class=\"icon_commend\" href=\"https://vnexpress.net/khoa-hoc/bon-rua-an-xuat-hien-sau-mot-nut-bam-3933014.html#box_comment\" style=\"white-space: nowrap; display: none;\">\n",
            "<span class=\"txt_num_comment font_icon\" data-objectid=\"3933014\" data-objecttype=\"1\" data-type=\"comment\"></span>\n",
            "</a>, <a href=\"https://vnexpress.net/doi-song/can-ho-ham-ho-trong-chung-cu-cao-cap-sai-gon-3932935.html?vn_source=topnews6&amp;vn_medium=buildtop&amp;vn_campaign=nonpersonalize\" title=\"Căn hộ 'hầm hố' trong chung cư cao cấp Sài Gòn\">\n",
            "Căn hộ 'hầm hố' trong chung cư cao cấp Sài Gòn </a>, <a class=\"icon_commend\" href=\"https://vnexpress.net/doi-song/can-ho-ham-ho-trong-chung-cu-cao-cap-sai-gon-3932935.html#box_comment\" style=\"white-space: nowrap; display: none;\">\n",
            "<span class=\"txt_num_comment font_icon\" data-objectid=\"3932935\" data-objecttype=\"3\" data-type=\"comment\"></span>\n",
            "</a>, <a href=\"https://vnexpress.net/so-hoa/apple-samsung-se-huong-loi-nhat-khi-huawei-bi-cam-3932865.html?vn_source=topnews7&amp;vn_medium=buildtop&amp;vn_campaign=nonpersonalize\" title=\"Apple, Samsung sẽ hưởng lợi nhất khi Huawei bị cấm\">\n",
            "Apple, Samsung sẽ hưởng lợi nhất khi Huawei bị cấm </a>, <a class=\"icon_commend\" href=\"https://vnexpress.net/so-hoa/apple-samsung-se-huong-loi-nhat-khi-huawei-bi-cam-3932865.html#box_comment\" style=\"white-space: nowrap; display: none;\">\n",
            "<span class=\"txt_num_comment font_icon\" data-objectid=\"3932865\" data-objecttype=\"1\" data-type=\"comment\"></span>\n",
            "</a>, <a href=\"https://vnexpress.net/du-lich/nhung-diem-den-ly-tuong-de-check-in-trong-thang-6-3932735.html?vn_source=topnews8&amp;vn_medium=buildtop&amp;vn_campaign=nonpersonalize\" title=\"Những điểm đến lý tưởng để check-in trong tháng 6\">\n",
            "Những điểm đến lý tưởng để check-in trong tháng 6 </a>, <a class=\"icon_commend\" href=\"https://vnexpress.net/du-lich/nhung-diem-den-ly-tuong-de-check-in-trong-thang-6-3932735.html#box_comment\" style=\"white-space: nowrap; display: none;\">\n",
            "<span class=\"txt_num_comment font_icon\" data-objectid=\"3932735\" data-objecttype=\"3\" data-type=\"comment\"></span>\n",
            "</a>, <a href=\"https://vnexpress.net/giai-tri/cac-nguoi-dep-trung-nien-goi-y-trang-phuc-cho-tiec-tra-chieu-3932887.html?vn_source=topnews9&amp;vn_medium=buildtop&amp;vn_campaign=nonpersonalize\" title=\"Các người đẹp trung niên gợi ý trang phục cho tiệc trà chiều\">\n",
            "Các người đẹp trung niên gợi ý trang phục cho tiệc trà chiều </a>, <a class=\"icon_commend\" href=\"https://vnexpress.net/giai-tri/cac-nguoi-dep-trung-nien-goi-y-trang-phuc-cho-tiec-tra-chieu-3932887.html#box_comment\" style=\"white-space: nowrap; display: none;\">\n",
            "<span class=\"txt_num_comment font_icon\" data-objectid=\"3932887\" data-objecttype=\"3\" data-type=\"comment\"></span>\n",
            "</a>, <a href=\"https://vnexpress.net/giai-tri/angelina-jolie-da-n-ca-c-con-di-mua-qua-sinh-nha-t-cho-mi-nh-3933051.html?vn_source=topnews10&amp;vn_medium=buildtop&amp;vn_campaign=nonpersonalize\" title=\"Angelina Jolie dẫn các con đi mua quà sinh nhật cho mình\">\n",
            "Angelina Jolie dẫn các con đi mua quà sinh nhật cho mình </a>, <a class=\"icon_commend\" href=\"https://vnexpress.net/giai-tri/angelina-jolie-da-n-ca-c-con-di-mua-qua-sinh-nha-t-cho-mi-nh-3933051.html#box_comment\" style=\"white-space: nowrap; display: none;\">\n",
            "<span class=\"txt_num_comment font_icon\" data-objectid=\"3933051\" data-objecttype=\"1\" data-type=\"comment\"></span>\n",
            "</a>]\n"
          ],
          "name": "stdout"
        }
      ]
    },
    {
      "cell_type": "code",
      "metadata": {
        "id": "Vpd7Cirs0T6S",
        "colab_type": "code",
        "colab": {
          "base_uri": "https://localhost:8080/",
          "height": 887
        },
        "outputId": "72a0d1a2-c921-45db-820b-597db50a224e"
      },
      "source": [
        "for feed in new_feed:\n",
        "    title=feed.get('title')\n",
        "    link=feed.get('href')\n",
        "    print('Tile:{} \\nLink: {}'.format(title,link))"
      ],
      "execution_count": 8,
      "outputs": [
        {
          "output_type": "stream",
          "text": [
            "Tile:Đô đốc Nguyễn Văn Hiến bị đề nghị kỷ luật \n",
            "Link: https://vnexpress.net/thoi-su/do-doc-nguyen-van-hien-bi-de-nghi-ky-luat-3933076.html?vn_source=top1&vn_medium=buildtop&vn_campaign=nonpersonalize\n",
            "Tile:Đô đốc Nguyễn Văn Hiến bị đề nghị kỷ luật \n",
            "Link: https://vnexpress.net/thoi-su/do-doc-nguyen-van-hien-bi-de-nghi-ky-luat-3933076.html?vn_source=top1&vn_medium=buildtop&vn_campaign=nonpersonalize\n",
            "Tile:None \n",
            "Link: https://vnexpress.net/thoi-su/do-doc-nguyen-van-hien-bi-de-nghi-ky-luat-3933076.html#box_comment\n",
            "Tile:Nguyên Phó thủ tướng Vũ Văn Ninh bị đề nghị kỷ luật \n",
            "Link: https://vnexpress.net/thoi-su/nguyen-pho-thu-tuong-vu-van-ninh-bi-de-nghi-ky-luat-3918832.html\n",
            "Tile:VnExpress Marathon \n",
            "Link: https://vm.vnexpress.net\n",
            "Tile:Sinh viên kinh tế tìm laptop tốt tầm 8-12 triệu đồng \n",
            "Link: https://vnexpress.net/so-hoa/sinh-vien-kinh-te-tim-laptop-tot-tam-8-12-trieu-dong-3933081.html?vn_source=topnews1&vn_medium=buildtop&vn_campaign=nonpersonalize\n",
            "Tile:None \n",
            "Link: https://vnexpress.net/so-hoa/sinh-vien-kinh-te-tim-laptop-tot-tam-8-12-trieu-dong-3933081.html#box_comment\n",
            "Tile:Tiệc dứa ở Sài Gòn, ẩm thực Trung Đông ở Hà Nội \n",
            "Link: https://vnexpress.net/du-lich/tiec-dua-o-sai-gon-am-thuc-trung-dong-o-ha-noi-3932906.html?vn_source=topnews2&vn_medium=buildtop&vn_campaign=nonpersonalize\n",
            "Tile:None \n",
            "Link: https://vnexpress.net/du-lich/tiec-dua-o-sai-gon-am-thuc-trung-dong-o-ha-noi-3932906.html#box_comment\n",
            "Tile:Bốn nam sinh Nhật 'nghịch dại' vì muốn xem tàu phanh khẩn cấp \n",
            "Link: https://vnexpress.net/phap-luat/bon-nam-sinh-nhat-nghich-dai-vi-muon-xem-tau-phanh-khan-cap-3933054.html?vn_source=topnews3&vn_medium=buildtop&vn_campaign=nonpersonalize\n",
            "Tile:None \n",
            "Link: https://vnexpress.net/phap-luat/bon-nam-sinh-nhat-nghich-dai-vi-muon-xem-tau-phanh-khan-cap-3933054.html#box_comment\n",
            "Tile:Coteccons hợp tác Tập đoàn Tuần Châu phát triển dự án bất động sản \n",
            "Link: https://vnexpress.net/kinh-doanh/coteccons-hop-tac-tap-doan-tuan-chau-phat-trien-du-an-bat-dong-san-3932985.html?vn_source=topnews4&vn_medium=buildtop&vn_campaign=nonpersonalize\n",
            "Tile:None \n",
            "Link: https://vnexpress.net/kinh-doanh/coteccons-hop-tac-tap-doan-tuan-chau-phat-trien-du-an-bat-dong-san-3932985.html#box_comment\n",
            "Tile:Bồn rửa ẩn xuất hiện sau một nút bấm \n",
            "Link: https://vnexpress.net/khoa-hoc/bon-rua-an-xuat-hien-sau-mot-nut-bam-3933014.html?vn_source=topnews5&vn_medium=buildtop&vn_campaign=nonpersonalize\n",
            "Tile:None \n",
            "Link: https://vnexpress.net/khoa-hoc/bon-rua-an-xuat-hien-sau-mot-nut-bam-3933014.html#box_comment\n",
            "Tile:Căn hộ 'hầm hố' trong chung cư cao cấp Sài Gòn \n",
            "Link: https://vnexpress.net/doi-song/can-ho-ham-ho-trong-chung-cu-cao-cap-sai-gon-3932935.html?vn_source=topnews6&vn_medium=buildtop&vn_campaign=nonpersonalize\n",
            "Tile:None \n",
            "Link: https://vnexpress.net/doi-song/can-ho-ham-ho-trong-chung-cu-cao-cap-sai-gon-3932935.html#box_comment\n",
            "Tile:Apple, Samsung sẽ hưởng lợi nhất khi Huawei bị cấm \n",
            "Link: https://vnexpress.net/so-hoa/apple-samsung-se-huong-loi-nhat-khi-huawei-bi-cam-3932865.html?vn_source=topnews7&vn_medium=buildtop&vn_campaign=nonpersonalize\n",
            "Tile:None \n",
            "Link: https://vnexpress.net/so-hoa/apple-samsung-se-huong-loi-nhat-khi-huawei-bi-cam-3932865.html#box_comment\n",
            "Tile:Những điểm đến lý tưởng để check-in trong tháng 6 \n",
            "Link: https://vnexpress.net/du-lich/nhung-diem-den-ly-tuong-de-check-in-trong-thang-6-3932735.html?vn_source=topnews8&vn_medium=buildtop&vn_campaign=nonpersonalize\n",
            "Tile:None \n",
            "Link: https://vnexpress.net/du-lich/nhung-diem-den-ly-tuong-de-check-in-trong-thang-6-3932735.html#box_comment\n",
            "Tile:Các người đẹp trung niên gợi ý trang phục cho tiệc trà chiều \n",
            "Link: https://vnexpress.net/giai-tri/cac-nguoi-dep-trung-nien-goi-y-trang-phuc-cho-tiec-tra-chieu-3932887.html?vn_source=topnews9&vn_medium=buildtop&vn_campaign=nonpersonalize\n",
            "Tile:None \n",
            "Link: https://vnexpress.net/giai-tri/cac-nguoi-dep-trung-nien-goi-y-trang-phuc-cho-tiec-tra-chieu-3932887.html#box_comment\n",
            "Tile:Angelina Jolie dẫn các con đi mua quà sinh nhật cho mình \n",
            "Link: https://vnexpress.net/giai-tri/angelina-jolie-da-n-ca-c-con-di-mua-qua-sinh-nha-t-cho-mi-nh-3933051.html?vn_source=topnews10&vn_medium=buildtop&vn_campaign=nonpersonalize\n",
            "Tile:None \n",
            "Link: https://vnexpress.net/giai-tri/angelina-jolie-da-n-ca-c-con-di-mua-qua-sinh-nha-t-cho-mi-nh-3933051.html#box_comment\n"
          ],
          "name": "stdout"
        }
      ]
    },
    {
      "cell_type": "code",
      "metadata": {
        "id": "tcBRqP8o0jCC",
        "colab_type": "code",
        "colab": {}
      },
      "source": [
        ""
      ],
      "execution_count": 0,
      "outputs": []
    }
  ]
}