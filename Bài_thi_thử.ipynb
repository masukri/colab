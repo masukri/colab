{
  "nbformat": 4,
  "nbformat_minor": 0,
  "metadata": {
    "colab": {
      "name": "Bài thi thử.ipynb",
      "version": "0.3.2",
      "provenance": [],
      "collapsed_sections": [],
      "include_colab_link": true
    },
    "kernelspec": {
      "name": "python3",
      "display_name": "Python 3"
    }
  },
  "cells": [
    {
      "cell_type": "markdown",
      "metadata": {
        "id": "view-in-github",
        "colab_type": "text"
      },
      "source": [
        "<a href=\"https://colab.research.google.com/github/soiqualang/colab/blob/master/B%C3%A0i_thi_th%E1%BB%AD.ipynb\" target=\"_parent\"><img src=\"https://colab.research.google.com/assets/colab-badge.svg\" alt=\"Open In Colab\"/></a>"
      ]
    },
    {
      "cell_type": "code",
      "metadata": {
        "id": "2j21RfVJXxc_",
        "colab_type": "code",
        "outputId": "0a459d48-93e7-4389-dad0-74fb50dc8d8b",
        "colab": {
          "base_uri": "https://localhost:8080/",
          "height": 168
        }
      },
      "source": [
        "my_list =[]\n",
        "n = int(input())\n",
        "for i in range (0,n):\n",
        "    my_list.append(input())\n",
        "    \n",
        "a = my_list\n",
        "k = len(a)\n",
        "\n",
        "for i in range(0,k):\n",
        "  #print(a[i])\n",
        "  for j in range(0,k):\n",
        "    #so sanh\n",
        "    #print(i,'-',j)\n",
        "    if i!=j:\n",
        "      if a[i]==a[j]:\n",
        "        #a.remove(a[j])\n",
        "        a[j]='haha'\n",
        "\n",
        "        \n",
        "for i in a:\n",
        "  if i=='haha':\n",
        "    a.remove(i)\n",
        "\n",
        "for i in a:\n",
        "  print(i)\n",
        "#print(a)"
      ],
      "execution_count": 0,
      "outputs": [
        {
          "output_type": "stream",
          "text": [
            "5\n",
            "a\n",
            "c\n",
            "a\n",
            "d\n",
            "c\n",
            "a\n",
            "c\n",
            "d\n"
          ],
          "name": "stdout"
        }
      ]
    },
    {
      "cell_type": "code",
      "metadata": {
        "id": "-Z54MpIngDJT",
        "colab_type": "code",
        "outputId": "5e7506ba-b378-4df4-9011-e22d021dc8e3",
        "colab": {
          "base_uri": "https://localhost:8080/",
          "height": 151
        }
      },
      "source": [
        "my_list =[]\n",
        "n = int(input())\n",
        "for i in range (0,n):\n",
        "    my_list.append(input())\n",
        "    \n",
        "a = my_list\n",
        "b=set()\n",
        "for i in a:\n",
        "  b.add(i)\n",
        "\n",
        "for i in b:\n",
        "    print(i)"
      ],
      "execution_count": 0,
      "outputs": [
        {
          "output_type": "stream",
          "text": [
            "4\n",
            "3\n",
            "4\n",
            "5\n",
            "5\n",
            "5\n",
            "3\n",
            "4\n"
          ],
          "name": "stdout"
        }
      ]
    },
    {
      "cell_type": "code",
      "metadata": {
        "id": "J__y4F8GpJFd",
        "colab_type": "code",
        "colab": {}
      },
      "source": [
        ""
      ],
      "execution_count": 0,
      "outputs": []
    },
    {
      "cell_type": "code",
      "metadata": {
        "id": "3rIHwUViYmmF",
        "colab_type": "code",
        "colab": {}
      },
      "source": [
        "5my_list =[]\n",
        "n = int(input())\n",
        "for i in range (0,n):\n",
        "    my_list.append(input())\n",
        "    \n",
        "a = my_list\n",
        "k = len(a)\n",
        "x = 0\n",
        "y = 1\n",
        "for i in range(x,k):\n",
        "  for j in range(y,k):\n",
        "    if i!=j:\n",
        "      if a[i]==a[j]:\n",
        "        a.remove(a[j])\n",
        "    y-=1\n",
        "    k-=1\n"
      ],
      "execution_count": 0,
      "outputs": []
    },
    {
      "cell_type": "code",
      "metadata": {
        "id": "XuJ15kIMuTVF",
        "colab_type": "code",
        "colab": {}
      },
      "source": [
        "def chuoi(a):\n",
        "    return ((len(a)>3 and len(a)<10) and (a[0].isdigit()) and (a[-1].isalpha()) and (not a.isalnum()))\n",
        "\n",
        "a = input()\n",
        "print(chuoi(a))"
      ],
      "execution_count": 0,
      "outputs": []
    },
    {
      "cell_type": "code",
      "metadata": {
        "id": "IzHSoJM8uVSR",
        "colab_type": "code",
        "outputId": "bef4e7af-35fc-4203-912a-aac0c7dec4ab",
        "colab": {
          "base_uri": "https://localhost:8080/",
          "height": 34
        }
      },
      "source": [
        "a='8abcdguhh'\n",
        "len(a)>3 and len(a)<10"
      ],
      "execution_count": 0,
      "outputs": [
        {
          "output_type": "execute_result",
          "data": {
            "text/plain": [
              "True"
            ]
          },
          "metadata": {
            "tags": []
          },
          "execution_count": 44
        }
      ]
    },
    {
      "cell_type": "code",
      "metadata": {
        "id": "MxZ_Qqe_ufZt",
        "colab_type": "code",
        "outputId": "3de2e46d-3fb8-4fb9-f601-2e1ac549d7fe",
        "colab": {
          "base_uri": "https://localhost:8080/",
          "height": 34
        }
      },
      "source": [
        "a[0].isdigit()"
      ],
      "execution_count": 0,
      "outputs": [
        {
          "output_type": "execute_result",
          "data": {
            "text/plain": [
              "True"
            ]
          },
          "metadata": {
            "tags": []
          },
          "execution_count": 45
        }
      ]
    },
    {
      "cell_type": "code",
      "metadata": {
        "id": "_QfDoBKkuj-M",
        "colab_type": "code",
        "outputId": "a1534ada-fdf7-403f-f394-d590ad041177",
        "colab": {
          "base_uri": "https://localhost:8080/",
          "height": 34
        }
      },
      "source": [
        "a[-1].isalpha()"
      ],
      "execution_count": 0,
      "outputs": [
        {
          "output_type": "execute_result",
          "data": {
            "text/plain": [
              "True"
            ]
          },
          "metadata": {
            "tags": []
          },
          "execution_count": 47
        }
      ]
    },
    {
      "cell_type": "code",
      "metadata": {
        "id": "LMG7ShdBumVm",
        "colab_type": "code",
        "outputId": "ca78aa98-e9cc-4a8b-c68f-810d8a154219",
        "colab": {
          "base_uri": "https://localhost:8080/",
          "height": 34
        }
      },
      "source": [
        "not a.isalnum()"
      ],
      "execution_count": 0,
      "outputs": [
        {
          "output_type": "execute_result",
          "data": {
            "text/plain": [
              "False"
            ]
          },
          "metadata": {
            "tags": []
          },
          "execution_count": 48
        }
      ]
    },
    {
      "cell_type": "code",
      "metadata": {
        "id": "SubG90Gqu7Cd",
        "colab_type": "code",
        "outputId": "e191ff33-4dc8-4fb8-fc90-9e52705ec0f1",
        "colab": {
          "base_uri": "https://localhost:8080/",
          "height": 34
        }
      },
      "source": [
        "3*1**3"
      ],
      "execution_count": 0,
      "outputs": [
        {
          "output_type": "execute_result",
          "data": {
            "text/plain": [
              "3"
            ]
          },
          "metadata": {
            "tags": []
          },
          "execution_count": 1
        }
      ]
    },
    {
      "cell_type": "markdown",
      "metadata": {
        "id": "oX7c156q6RL6",
        "colab_type": "text"
      },
      "source": [
        "Câu 7 - Độ khó: Nâng cao\n",
        "2.0 points possible (ungraded)\n",
        "Hai danh hài Hoài Linh Tinh và Chí Tài Tình đang tổ chức những lớp học toán cho trẻ em nghèo. Để tăng hiệu quả trong việc dạy học, họ thuê bạn làm một máy tính đơn giản cho học sinh lớp 3 có thể kiểm tra kết quả những biểu thức trong bài tập.\n",
        "\n",
        "Dữ liệu đầu vào là một chuỗi biểu thức bao gồm các số hạng là số có 1 chữ số (< 10), và 2 phép phép tính là cộng (+) và nhân (*).\n",
        "\n",
        "Chuỗi biểu diễn biểu thức được nhập vào từ bàn phím.\n",
        "\n",
        "Chương trình xuất ra kết quả của biểu thức đó.\n",
        "\n",
        "> Chuỗi a chỉ bao gồm các số và 2 phép tính là (+) và (*), không chứa bất kỳ ký tự nào khác.\n",
        "Ví dụ:\n",
        "      \t a = \"1+2*3+4\"\n",
        "      \t Kết quả cần xuất ra màn hình:\n",
        "         11\n",
        "      \n",
        "         a = \"3*5+5+7*6*2\"\n",
        "         Kết quả cần xuất ra màn hình:\n",
        "         104\n",
        "      \n",
        "      "
      ]
    },
    {
      "cell_type": "code",
      "metadata": {
        "id": "aWFBxbDy5oqs",
        "colab_type": "code",
        "outputId": "09a3b8fa-c3ee-4ad0-93a9-0c1f05ea3ba6",
        "colab": {
          "base_uri": "https://localhost:8080/",
          "height": 34
        }
      },
      "source": [
        "print(eval(\"3*5+5+7*6*2\"))"
      ],
      "execution_count": 0,
      "outputs": [
        {
          "output_type": "stream",
          "text": [
            "104\n"
          ],
          "name": "stdout"
        }
      ]
    },
    {
      "cell_type": "code",
      "metadata": {
        "id": "3wG-aqdU6JER",
        "colab_type": "code",
        "outputId": "8fa7ecc0-3550-4028-c5b0-88f587fbedc7",
        "colab": {
          "base_uri": "https://localhost:8080/",
          "height": 238
        }
      },
      "source": [
        "#nhap bieu thuc\n",
        "#a=input()\n",
        "a=\"3*5+5+7+6*2\"\n",
        "\n",
        "#kiem tra bieu thuc\n",
        "#so hang <10\n",
        "#chi duoc chua +, *\n",
        "\n",
        "def check_hople(num):\n",
        "    stat=True\n",
        "    #neu la so thi <10\n",
        "    if num.isdigit():\n",
        "        if int(num) >9:\n",
        "            stat=False\n",
        "    else:\n",
        "        stat=False\n",
        "    return stat\n",
        "    \n",
        "\n",
        "arr1=a.split('*')\n",
        "for i in arr1:\n",
        "    arr2=i.split('+')\n",
        "    for j in arr2:\n",
        "        print(j)\n",
        "        stat=check_hople(j)        \n",
        "        print(stat)\n",
        "        if stat==False:\n",
        "            break\n",
        "    if stat==False:\n",
        "        print(stat)\n",
        "        break\n",
        "\n",
        "if stat==1:\n",
        "    print('Kết quả:',eval(a))\n",
        "else:\n",
        "    print('Chuỗi không hợp lệ!')\n"
      ],
      "execution_count": 0,
      "outputs": [
        {
          "output_type": "stream",
          "text": [
            "3\n",
            "True\n",
            "5\n",
            "True\n",
            "5\n",
            "True\n",
            "7\n",
            "True\n",
            "6\n",
            "True\n",
            "2\n",
            "True\n",
            "Kết quả: 39\n"
          ],
          "name": "stdout"
        }
      ]
    },
    {
      "cell_type": "code",
      "metadata": {
        "id": "8nHi50zr-lTK",
        "colab_type": "code",
        "colab": {}
      },
      "source": [
        "Cho a là 1 mảng số nguyên. a có số lượng phần tử là n.\n",
        "\n",
        "Giả sử ta quy ước: \n",
        "Mảng số nguyên a được gọi là có thứ tự, nếu ta có: a[i-1] < a[i] với mọi 0 < i < n. Hoặc a[i-1] > a[i] với mọi 0 < i < n.\n",
        "\n",
        "Mảng a được nhập vào từ bàn phím như code mẫu.\n",
        "\n",
        "Hãy viết chương trình kiểm tra mảng số nguyên a có phải là mảng có thứ tự hay không?\n",
        "\n",
        "Chương trình xuất ra True nếu a là mảng có thứ tự, ngược lại xuất ra False.\n",
        "\n",
        "\n",
        "    \tVí dụ:\n",
        "      \t a = [77,25,16,-5]\n",
        "         n = 4\n",
        "         a là mảng giảm dần, do đó là mảng có thứ tự, Kết quả cần xuất ra màn hình:\n",
        "         True\n",
        "      \n",
        "         a = [-1,6,11,17,13,21,99]\n",
        "         n = 7\n",
        "         a không phải là mảng tăng dần cũng không phải là mảng giảm dần, \n",
        "         do đó mảng a không có thứ tự. Kết quả cần xuất ra màn hình:\n",
        "         False"
      ],
      "execution_count": 0,
      "outputs": []
    },
    {
      "cell_type": "code",
      "metadata": {
        "id": "SVVqulJDF3JG",
        "colab_type": "code",
        "colab": {}
      },
      "source": [
        "#code em ghi như vậy\n",
        "\n",
        "n = int(input())\n",
        "a = []\n",
        "for i in range(n):\n",
        "   a.append(int(input()))\n",
        "\n",
        "for i in a:\n",
        "    if a[i-1]>a[i] or a[i-1]<a[i]:\n",
        "        print ('True')\n",
        "    else:\n",
        "        print ('False')"
      ],
      "execution_count": 0,
      "outputs": []
    },
    {
      "cell_type": "code",
      "metadata": {
        "id": "8shmwDd-OwTb",
        "colab_type": "code",
        "colab": {
          "base_uri": "https://localhost:8080/",
          "height": 221
        },
        "outputId": "3e17bef1-2c23-4ca6-b48e-6ab79871cd93"
      },
      "source": [
        "#Ok\n",
        "\n",
        "#n = int(input())\n",
        "#a = []\n",
        "#for i in range(n):\n",
        "#   a.append(int(input()))\n",
        "\n",
        "a = [-1,6,11,17,13,21,99]\n",
        "#a=[77,25,16,-5]\n",
        "#a=[1,2,3,4,7]\n",
        "\n",
        "stat=True\n",
        "ltype='Day so tang dan'\n",
        "#xet tang dan\n",
        "for i in range(0,len(a)):\n",
        "    if i>0 and i<len(a):\n",
        "        if a[i-1]<a[i]:\n",
        "            print(i,a[i])\n",
        "            print ('True')\n",
        "            stat=True\n",
        "        else:\n",
        "            print(i,a[i])\n",
        "            print ('False')\n",
        "            stat=False\n",
        "            ltype='Day so giam dan'\n",
        "            break\n",
        "print('------------------')\n",
        "if stat==False:\n",
        "    #xet giam dan\n",
        "    for i in range(0,len(a)):    \n",
        "        if i>0 and i<len(a):\n",
        "            if a[i-1]>a[i]:\n",
        "                print(i,a[i])\n",
        "                print ('True')\n",
        "                stat=True\n",
        "            else:\n",
        "                print(i,a[i])\n",
        "                print ('False')\n",
        "                stat=False\n",
        "                ltype='Khong phai day lien tuc'\n",
        "                break\n",
        "                \n",
        "#if stat==True:\n",
        "#    print('Day la mot day lien tuc')\n",
        "#else:\n",
        "#    print('Day khong phai day lien tuc')\n",
        "\n",
        "print(ltype)"
      ],
      "execution_count": 30,
      "outputs": [
        {
          "output_type": "stream",
          "text": [
            "1 6\n",
            "True\n",
            "2 11\n",
            "True\n",
            "3 17\n",
            "True\n",
            "4 13\n",
            "False\n",
            "------------------\n",
            "1 6\n",
            "False\n",
            "Khong phai day lien tuc\n"
          ],
          "name": "stdout"
        }
      ]
    },
    {
      "cell_type": "code",
      "metadata": {
        "id": "XZFUP2nbHC3S",
        "colab_type": "code",
        "colab": {}
      },
      "source": [
        ""
      ],
      "execution_count": 0,
      "outputs": []
    }
  ]
}